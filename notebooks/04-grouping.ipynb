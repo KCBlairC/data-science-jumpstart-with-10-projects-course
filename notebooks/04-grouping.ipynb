{
 "cells": [
  {
   "cell_type": "markdown",
   "id": "3533aeb9",
   "metadata": {},
   "source": [
    "# Summarizing Retail Data - Grouping and aggregating data\n",
    "\n",
    "For this module, we will be exploring the techniques for grouping and aggregating data. You will learn about:\n",
    "\n",
    "* Speeding up data loading with Feather\n",
    "* Grouping data using pandas library\n",
    "* Plotting Aggregations\n",
    "* Limiting Groups\n",
    "* Aggregating data using built-in functions\n",
    "* Manipulating Plot"
   ]
  },
  {
   "cell_type": "code",
   "execution_count": null,
   "id": "63a1667e",
   "metadata": {},
   "outputs": [],
   "source": []
  },
  {
   "cell_type": "code",
   "execution_count": null,
   "id": "47f1a633",
   "metadata": {},
   "outputs": [],
   "source": []
  },
  {
   "cell_type": "code",
   "execution_count": null,
   "id": "76e273b3",
   "metadata": {},
   "outputs": [],
   "source": []
  },
  {
   "cell_type": "code",
   "execution_count": null,
   "id": "e281c67e",
   "metadata": {},
   "outputs": [],
   "source": []
  },
  {
   "cell_type": "code",
   "execution_count": null,
   "id": "f995cea0",
   "metadata": {},
   "outputs": [],
   "source": []
  },
  {
   "cell_type": "code",
   "execution_count": null,
   "id": "62084086",
   "metadata": {},
   "outputs": [],
   "source": []
  },
  {
   "cell_type": "code",
   "execution_count": null,
   "id": "bc938824",
   "metadata": {},
   "outputs": [],
   "source": []
  },
  {
   "cell_type": "code",
   "execution_count": null,
   "id": "b1577151",
   "metadata": {},
   "outputs": [],
   "source": []
  },
  {
   "cell_type": "markdown",
   "id": "8e124861-5691-40a0-8063-f5556e6edd17",
   "metadata": {},
   "source": [
    "## Load Data"
   ]
  },
  {
   "cell_type": "code",
   "execution_count": null,
   "id": "78d51032",
   "metadata": {},
   "outputs": [],
   "source": [
    "#https://archive.ics.uci.edu/ml/datasets/online+retail\n",
    "import pandas as pd"
   ]
  },
  {
   "cell_type": "code",
   "execution_count": null,
   "id": "400f8ce7-ba2b-46c8-bad2-616d28223de8",
   "metadata": {},
   "outputs": [],
   "source": [
    "sales = pd.read_excel('data/Online Retail.xlsx',\n",
    "                     dtype_backend='pyarrow')"
   ]
  },
  {
   "cell_type": "code",
   "execution_count": null,
   "id": "88cfd21c-ae12-4fab-8d59-add7a08aa484",
   "metadata": {
    "scrolled": true
   },
   "outputs": [],
   "source": [
    "sales"
   ]
  },
  {
   "cell_type": "code",
   "execution_count": null,
   "id": "1edac734-cad2-4c66-862c-794d8fd64973",
   "metadata": {},
   "outputs": [],
   "source": []
  },
  {
   "cell_type": "markdown",
   "id": "c658b1df-d908-46a6-8f8c-a2074facd78f",
   "metadata": {},
   "source": [
    "## Using Feather to speed up Loading"
   ]
  },
  {
   "cell_type": "code",
   "execution_count": null,
   "id": "663ef6a4-2341-4d2c-8873-b51e767a4931",
   "metadata": {
    "scrolled": true
   },
   "outputs": [],
   "source": [
    "(sales\n",
    " .astype({'InvoiceNo': 'str', 'StockCode': 'str',\n",
    "         'Description': 'str'})\n",
    " .to_feather('data/Online Retail.fth')\n",
    ")"
   ]
  },
  {
   "cell_type": "code",
   "execution_count": null,
   "id": "057b256d-225c-44ae-a0d6-7a7e159ce5ad",
   "metadata": {},
   "outputs": [],
   "source": [
    "%%time \n",
    "sales_f = pd.read_feather('data/Online Retail.fth',\n",
    "                         dtype_backend='pyarrow')"
   ]
  },
  {
   "cell_type": "code",
   "execution_count": null,
   "id": "e3e651fb-8418-4e6b-a6c5-a91c07495bbd",
   "metadata": {},
   "outputs": [],
   "source": [
    "%%time\n",
    "sales = pd.read_excel('data/Online Retail.xlsx',\n",
    "                      dtype_backend='pyarrow')"
   ]
  },
  {
   "cell_type": "code",
   "execution_count": null,
   "id": "d293e135-eff1-44a5-a36a-bb3f579052c5",
   "metadata": {},
   "outputs": [],
   "source": [
    "# My Macbook Pro\n",
    "26_700 / 20"
   ]
  },
  {
   "cell_type": "code",
   "execution_count": null,
   "id": "b18f9209",
   "metadata": {
    "lines_to_next_cell": 2
   },
   "outputs": [],
   "source": []
  },
  {
   "cell_type": "markdown",
   "id": "ec856a56-475a-4ce3-bab5-d0d3fcbb15bb",
   "metadata": {},
   "source": [
    "## EDA"
   ]
  },
  {
   "cell_type": "code",
   "execution_count": null,
   "id": "a311e0c4-1e78-4336-abd6-6267e66b3833",
   "metadata": {},
   "outputs": [],
   "source": [
    "sales.describe()"
   ]
  },
  {
   "cell_type": "code",
   "execution_count": null,
   "id": "81d6dd12-d905-4a10-9a63-e2b747c4a0cc",
   "metadata": {},
   "outputs": [],
   "source": [
    "sales.UnitPrice.hist(figsize=(8,3), bins=30)"
   ]
  },
  {
   "cell_type": "code",
   "execution_count": null,
   "id": "114c8f8f-896a-485b-8c81-4979b1713a4d",
   "metadata": {},
   "outputs": [],
   "source": [
    "(sales\n",
    " .query('UnitPrice < 0')\n",
    ")"
   ]
  },
  {
   "cell_type": "code",
   "execution_count": null,
   "id": "fb6d13c3-9e54-4501-8c34-4a6c61d35390",
   "metadata": {
    "scrolled": true
   },
   "outputs": [],
   "source": [
    "(sales\n",
    " .query('Quantity < 0')\n",
    ")"
   ]
  },
  {
   "cell_type": "code",
   "execution_count": null,
   "id": "5b6a9516-d102-4548-b1b3-8e6f7df44813",
   "metadata": {
    "scrolled": true
   },
   "outputs": [],
   "source": [
    "(sales\n",
    " .query('CustomerID == 17548')\n",
    ")"
   ]
  },
  {
   "cell_type": "code",
   "execution_count": null,
   "id": "88997fdf-ef59-486f-8eb3-0892dde2bfe0",
   "metadata": {
    "scrolled": true
   },
   "outputs": [],
   "source": [
    "sales.select_dtypes('string')"
   ]
  },
  {
   "cell_type": "code",
   "execution_count": null,
   "id": "6eae297e-b302-41e4-b0ff-a36abcaf20f0",
   "metadata": {
    "scrolled": true
   },
   "outputs": [],
   "source": [
    "sales.Country.value_counts()"
   ]
  },
  {
   "cell_type": "code",
   "execution_count": null,
   "id": "93250ca9-8b3c-4acd-be80-87df95a486e8",
   "metadata": {
    "scrolled": true
   },
   "outputs": [],
   "source": [
    "sales.StockCode.value_counts()"
   ]
  },
  {
   "cell_type": "code",
   "execution_count": null,
   "id": "ea4262cd-9f56-4360-a1ba-1bbc3aeb3a35",
   "metadata": {},
   "outputs": [],
   "source": []
  },
  {
   "cell_type": "code",
   "execution_count": null,
   "id": "8ce18448-01cc-462e-9771-d84d3b88ddb4",
   "metadata": {},
   "outputs": [],
   "source": []
  },
  {
   "cell_type": "markdown",
   "id": "8202a0d2-d7b8-41e2-8f4e-9ccdf79a2ce4",
   "metadata": {},
   "source": [
    "## Sales by Year"
   ]
  },
  {
   "cell_type": "code",
   "execution_count": null,
   "id": "3346642c-f663-45ef-b8d3-c9841e8df6f4",
   "metadata": {
    "lines_to_next_cell": 2,
    "scrolled": true
   },
   "outputs": [],
   "source": [
    "(sales\n",
    " .assign(total=sales.Quantity * sales.UnitPrice)\n",
    ")"
   ]
  },
  {
   "cell_type": "code",
   "execution_count": null,
   "id": "cfbb163a-1718-4a5b-af90-cea72219ff4e",
   "metadata": {
    "lines_to_next_cell": 2,
    "scrolled": true
   },
   "outputs": [],
   "source": [
    "(sales\n",
    " .assign(total=sales.Quantity * sales.UnitPrice,\n",
    "        year=sales.InvoiceDate.dt.year)\n",
    " .groupby('year')\n",
    " .sum()\n",
    ")"
   ]
  },
  {
   "cell_type": "code",
   "execution_count": null,
   "id": "36d7e9c0-1800-4b1e-9cc8-22e33c819071",
   "metadata": {
    "lines_to_next_cell": 2,
    "scrolled": true
   },
   "outputs": [],
   "source": [
    "(sales\n",
    " .assign(total=sales.Quantity * sales.UnitPrice,\n",
    "        year=sales.InvoiceDate.dt.year)\n",
    " .groupby('year')\n",
    " .sum(numeric_only=True)\n",
    ")"
   ]
  },
  {
   "cell_type": "code",
   "execution_count": null,
   "id": "b3b1465e-52ec-4302-ac28-1bfa6796623f",
   "metadata": {},
   "outputs": [],
   "source": [
    "(sales\n",
    " .assign(total=sales.Quantity * sales.UnitPrice,\n",
    "        year=sales.InvoiceDate.dt.year)\n",
    " .groupby('year')\n",
    " .sum(numeric_only=True)\n",
    " .total\n",
    " .plot.bar(title='Sales by Year', figsize=(8,3))\n",
    ")"
   ]
  },
  {
   "cell_type": "code",
   "execution_count": null,
   "id": "54529cd7",
   "metadata": {},
   "outputs": [],
   "source": []
  },
  {
   "cell_type": "code",
   "execution_count": null,
   "id": "0d9f094c",
   "metadata": {
    "lines_to_next_cell": 2
   },
   "outputs": [],
   "source": []
  },
  {
   "cell_type": "markdown",
   "id": "9a87efe6-c0c6-4001-9175-48c5ca0fb58c",
   "metadata": {},
   "source": [
    "## Sales by Country"
   ]
  },
  {
   "cell_type": "code",
   "execution_count": null,
   "id": "ac646723-64ab-4fde-ab01-6c41ff7de572",
   "metadata": {
    "lines_to_next_cell": 2
   },
   "outputs": [],
   "source": [
    "(sales\n",
    " .assign(total=sales.Quantity * sales.UnitPrice,\n",
    "        year=sales.InvoiceDate.dt.year)\n",
    " .groupby('Country')\n",
    " .sum(numeric_only=True)\n",
    " .total\n",
    " .plot.bar(title='Sales by Year', figsize=(8,3))\n",
    ")"
   ]
  },
  {
   "cell_type": "code",
   "execution_count": null,
   "id": "01bfbbae-0cf4-454b-9523-ce3503663477",
   "metadata": {},
   "outputs": [],
   "source": [
    "# Remove UK\n",
    "(sales\n",
    " .query('Country != \"United Kingdom\"')\n",
    " .assign(total=sales.Quantity * sales.UnitPrice,\n",
    "        year=sales.InvoiceDate.dt.year)\n",
    " .groupby('Country')\n",
    " .sum(numeric_only=True)\n",
    " .total\n",
    " .plot.bar(title='Sales by Year', figsize=(8,3))\n",
    ")"
   ]
  },
  {
   "cell_type": "code",
   "execution_count": null,
   "id": "ebc11988-d3e9-40b8-b72f-4e2d25f36dce",
   "metadata": {},
   "outputs": [],
   "source": [
    "# sort and change to horizontal\n",
    "(sales\n",
    " .query('Country != \"United Kingdom\"')\n",
    " .assign(total=sales.Quantity * sales.UnitPrice,\n",
    "        year=sales.InvoiceDate.dt.year)\n",
    " .groupby('Country')\n",
    " .sum(numeric_only=True)\n",
    " .total\n",
    " .sort_values()\n",
    " .plot.barh(title='Sales by Year')\n",
    ")"
   ]
  },
  {
   "cell_type": "code",
   "execution_count": null,
   "id": "df789838-d552-4148-a572-78078760bca5",
   "metadata": {
    "scrolled": true
   },
   "outputs": [],
   "source": [
    "# Limit countries\n",
    "(sales\n",
    " .Country\n",
    " .value_counts()\n",
    ")"
   ]
  },
  {
   "cell_type": "code",
   "execution_count": null,
   "id": "e44a2ff0-0e3c-486d-afa3-9d4b20198525",
   "metadata": {
    "scrolled": true
   },
   "outputs": [],
   "source": [
    "n = 10\n",
    "top = (sales\n",
    " .Country\n",
    " .value_counts()\n",
    ")\n",
    "\n",
    "topn = top.index[:n]\n",
    "\n",
    "(sales\n",
    " .assign(Country = sales.Country.where(sales.Country.isin(topn), 'Other'))\n",
    " .Country\n",
    " .value_counts()\n",
    ")"
   ]
  },
  {
   "cell_type": "code",
   "execution_count": null,
   "id": "07b41397-df30-4851-b72b-0a50a4b6ef0c",
   "metadata": {
    "scrolled": true
   },
   "outputs": [],
   "source": [
    "# add this to helpers\n",
    "def limit_n(df, col, n=20, other='Other'):\n",
    "  top = (df\n",
    "   [col]\n",
    "   .value_counts()\n",
    "  )\n",
    "\n",
    "  topn = top.index[:n]\n",
    "  return df[col].where(df[col].isin(topn), other)\n",
    "\n",
    "limit_n(sales, 'Country').value_counts()"
   ]
  },
  {
   "cell_type": "code",
   "execution_count": null,
   "id": "3c5ca28b-4878-4338-8208-51f4250ef84f",
   "metadata": {},
   "outputs": [],
   "source": [
    "# Use the function to create/update a column\n",
    "(sales\n",
    " .query('Country != \"United Kingdom\"')\n",
    " .assign(Country=lambda df: limit_n(df, 'Country'),\n",
    "         total=lambda df: df.Quantity * df.UnitPrice,\n",
    "         year=lambda df: df.InvoiceDate.dt.year)\n",
    " .groupby('Country')\n",
    " .sum(numeric_only=True)\n",
    " .total\n",
    " .sort_values()\n",
    " .plot.barh(title='Sales by Year')\n",
    ")"
   ]
  },
  {
   "cell_type": "code",
   "execution_count": null,
   "id": "b287ab8c-943b-4782-b4a2-593eae0ffe48",
   "metadata": {},
   "outputs": [],
   "source": []
  },
  {
   "cell_type": "markdown",
   "id": "47f5125b-967c-42f8-a9b8-091a6d74b28c",
   "metadata": {},
   "source": [
    "## Sales by Month"
   ]
  },
  {
   "cell_type": "code",
   "execution_count": null,
   "id": "ec28cc2a-6bd6-4a76-971c-bed77926efb3",
   "metadata": {
    "scrolled": true
   },
   "outputs": [],
   "source": [
    "(sales\n",
    " .assign(total=lambda df: df.Quantity * df.UnitPrice)\n",
    " .groupby(pd.Grouper(key='InvoiceDate', freq='M'))\n",
    " .sum(numeric_only=True)\n",
    ")"
   ]
  },
  {
   "cell_type": "code",
   "execution_count": null,
   "id": "0bb39226",
   "metadata": {},
   "outputs": [],
   "source": [
    "sales.dtypes"
   ]
  },
  {
   "cell_type": "code",
   "execution_count": null,
   "id": "147ec86a",
   "metadata": {
    "scrolled": true
   },
   "outputs": [],
   "source": [
    "(sales\n",
    " .astype({'InvoiceDate':'datetime64[ns]'})\n",
    " #.dtypes\n",
    " .assign(total=lambda df: df.Quantity * df.UnitPrice)\n",
    " .groupby(pd.Grouper(key='InvoiceDate', freq='M'))\n",
    " .sum(numeric_only=True)\n",
    ")"
   ]
  },
  {
   "cell_type": "code",
   "execution_count": null,
   "id": "185f109e",
   "metadata": {
    "scrolled": true
   },
   "outputs": [],
   "source": [
    "# Check whether old format uses more memory\n",
    "(sales\n",
    " .astype({'InvoiceDate':'datetime64[ns]'})\n",
    " .memory_usage(deep=True)\n",
    ")"
   ]
  },
  {
   "cell_type": "code",
   "execution_count": null,
   "id": "44e48fca",
   "metadata": {
    "scrolled": true
   },
   "outputs": [],
   "source": [
    "(sales\n",
    " .memory_usage(deep=True)\n",
    ")"
   ]
  },
  {
   "cell_type": "code",
   "execution_count": null,
   "id": "b40d980a-ed35-436a-8a54-a7e89b25989d",
   "metadata": {},
   "outputs": [],
   "source": [
    "(sales\n",
    " .astype({'InvoiceDate':'datetime64[ns]'}) \n",
    " .assign(total=lambda df: df.Quantity * df.UnitPrice)\n",
    " .groupby(pd.Grouper(key='InvoiceDate', freq='M'))\n",
    " .sum(numeric_only=True)\n",
    " .total\n",
    " .plot(figsize=(8,3))\n",
    ")"
   ]
  },
  {
   "cell_type": "code",
   "execution_count": null,
   "id": "3dfce97d-7277-4ab7-8e30-7485a83a76f7",
   "metadata": {
    "lines_to_next_cell": 2
   },
   "outputs": [],
   "source": [
    "(sales\n",
    " .astype({'InvoiceDate':'datetime64[ns]'})\n",
    " .assign(total=lambda df: df.Quantity * df.UnitPrice)\n",
    " .groupby(pd.Grouper(key='InvoiceDate', freq='w'))\n",
    " .sum(numeric_only=True)\n",
    " .total\n",
    " .plot(figsize=(8,3))\n",
    ")"
   ]
  },
  {
   "cell_type": "code",
   "execution_count": null,
   "id": "0e5e70e8-b3b7-4376-98e5-2a7bdc721343",
   "metadata": {
    "scrolled": true
   },
   "outputs": [],
   "source": [
    "(sales\n",
    " .astype({'InvoiceDate':'datetime64[ns]'}) \n",
    " .assign(total=lambda df: df.Quantity * df.UnitPrice)\n",
    " .groupby(pd.Grouper(key='InvoiceDate', freq='3d'))\n",
    " .sum(numeric_only=True)\n",
    " .total\n",
    " .plot(figsize=(8,3))\n",
    ")"
   ]
  },
  {
   "cell_type": "code",
   "execution_count": null,
   "id": "2fe4f126",
   "metadata": {},
   "outputs": [],
   "source": []
  },
  {
   "cell_type": "code",
   "execution_count": null,
   "id": "f07a9a56",
   "metadata": {},
   "outputs": [],
   "source": []
  },
  {
   "cell_type": "code",
   "execution_count": null,
   "id": "e8ebf015",
   "metadata": {
    "lines_to_next_cell": 2
   },
   "outputs": [],
   "source": []
  },
  {
   "cell_type": "markdown",
   "id": "9e6c3829-355f-4fa4-848e-93f197236fbd",
   "metadata": {},
   "source": [
    "## Sales by Month by Top N Countries"
   ]
  },
  {
   "cell_type": "code",
   "execution_count": null,
   "id": "683704a0-f72f-4336-b388-185f3bad7ebd",
   "metadata": {},
   "outputs": [],
   "source": [
    "(sales\n",
    " .astype({'InvoiceDate':'datetime64[ns]'}) \n",
    " .assign(total=lambda df: df.Quantity * df.UnitPrice)\n",
    " .groupby([pd.Grouper(key='InvoiceDate', freq='d'),\n",
    "           'Country'])\n",
    " .sum(numeric_only=True)\n",
    " .total\n",
    ")"
   ]
  },
  {
   "cell_type": "code",
   "execution_count": null,
   "id": "7b9fdea6-492d-4358-9fea-98e771520130",
   "metadata": {
    "scrolled": true
   },
   "outputs": [],
   "source": [
    "(sales\n",
    " .astype({'InvoiceDate':'datetime64[ns]'})  \n",
    " .assign(total=lambda df: df.Quantity * df.UnitPrice)\n",
    " .groupby([pd.Grouper(key='InvoiceDate', freq='d'),\n",
    "           'Country'])\n",
    " .sum(numeric_only=True)\n",
    " .total\n",
    " .unstack()\n",
    ")"
   ]
  },
  {
   "cell_type": "code",
   "execution_count": null,
   "id": "7dfeae02-9b71-4348-a8bb-6225de9cfd1f",
   "metadata": {
    "scrolled": true
   },
   "outputs": [],
   "source": [
    "(sales\n",
    " .astype({'InvoiceDate':'datetime64[ns]'})  \n",
    " .assign(total=lambda df: df.Quantity * df.UnitPrice)\n",
    " .groupby([pd.Grouper(key='InvoiceDate', freq='d'),\n",
    "           'Country'])\n",
    " .sum(numeric_only=True)\n",
    " .total\n",
    " .unstack()\n",
    " .fillna(0)\n",
    ")"
   ]
  },
  {
   "cell_type": "code",
   "execution_count": null,
   "id": "0e74fec3-6f57-44a9-9049-4cd32fa36838",
   "metadata": {},
   "outputs": [],
   "source": [
    "(sales\n",
    " .astype({'InvoiceDate':'datetime64[ns]'})  \n",
    " .assign(total=lambda df: df.Quantity * df.UnitPrice)\n",
    " .groupby([pd.Grouper(key='InvoiceDate', freq='d'),\n",
    "           'Country'])\n",
    " .sum(numeric_only=True)\n",
    " .total\n",
    " .unstack()\n",
    " .fillna(0)\n",
    " .plot()\n",
    ")"
   ]
  },
  {
   "cell_type": "code",
   "execution_count": null,
   "id": "fb9b6a27-26a7-420b-b39b-cb1debc5068a",
   "metadata": {
    "lines_to_next_cell": 2
   },
   "outputs": [],
   "source": [
    "(sales\n",
    " .astype({'InvoiceDate':'datetime64[ns]'})  \n",
    " .query('Country != \"United Kingdom\"')\n",
    " .assign(Country=lambda df: limit_n(df, 'Country'),\n",
    "         total=lambda df: df.Quantity * df.UnitPrice)\n",
    " .groupby([pd.Grouper(key='InvoiceDate', freq='d'),\n",
    "           'Country'])\n",
    " .sum(numeric_only=True)\n",
    " .total\n",
    " .unstack()\n",
    " .fillna(0)\n",
    " .plot()\n",
    ")"
   ]
  },
  {
   "cell_type": "code",
   "execution_count": null,
   "id": "d41e864c-0c3e-45df-8580-59575fbbd9c6",
   "metadata": {},
   "outputs": [],
   "source": [
    "(sales\n",
    " .astype({'InvoiceDate':'datetime64[ns]'})  \n",
    " .query('Country != \"United Kingdom\"')\n",
    " .assign(Country=lambda df: limit_n(df, 'Country'),\n",
    "         total=lambda df: df.Quantity * df.UnitPrice)\n",
    " .groupby([pd.Grouper(key='InvoiceDate', freq='w'),\n",
    "           'Country'])\n",
    " .sum(numeric_only=True)\n",
    " .total\n",
    " .unstack()\n",
    " .fillna(0)\n",
    " .plot()\n",
    " .legend(bbox_to_anchor=(1,1), ncols=2)\n",
    ")"
   ]
  },
  {
   "cell_type": "code",
   "execution_count": null,
   "id": "8995e065-d407-458b-832d-0ca6ba294f5f",
   "metadata": {
    "lines_to_next_cell": 0
   },
   "outputs": [],
   "source": [
    "colors = []\n",
    "def set_colors(df, country, normal='#999999', hl='#990000'):\n",
    "  cols = []\n",
    "  for col in df.columns:\n",
    "    if col != country:\n",
    "      colors.append(normal)\n",
    "      cols.append(col)\n",
    "  colors.append(hl)\n",
    "  cols.append(country)\n",
    "  return df.loc[:,cols]\n",
    "\n",
    "def plot(df):\n",
    "  ax = df.plot(color=colors, title='Sales by Country')\n",
    "  ax.legend(bbox_to_anchor=(1,1), ncols=2)\n",
    "  ax.set_ylabel('USD')\n",
    "  return df\n",
    "\n",
    "final = (sales\n",
    " .astype({'InvoiceDate':'datetime64[ns]'})   \n",
    " .query('Country != \"United Kingdom\"')\n",
    " .assign(Country=lambda df: limit_n(df, 'Country'),\n",
    "         total=lambda df: df.Quantity * df.UnitPrice)\n",
    " .groupby([pd.Grouper(key='InvoiceDate', freq='w'),\n",
    "           'Country'])\n",
    " .sum(numeric_only=True)\n",
    " .total\n",
    " .unstack()\n",
    " .fillna(0)\n",
    " .pipe(set_colors, country='Finland')\n",
    " .pipe(plot)\n",
    ")\n"
   ]
  },
  {
   "cell_type": "code",
   "execution_count": null,
   "id": "e91891d7-2c5d-44eb-abcb-fa37ef482e92",
   "metadata": {},
   "outputs": [],
   "source": []
  },
  {
   "cell_type": "code",
   "execution_count": null,
   "id": "4284f598-4bee-4b94-bef7-6d5ec1d2d1c3",
   "metadata": {},
   "outputs": [],
   "source": []
  },
  {
   "cell_type": "code",
   "execution_count": null,
   "id": "a86e88df-0fb4-41f0-8431-663ea2a5f918",
   "metadata": {},
   "outputs": [],
   "source": []
  },
  {
   "cell_type": "code",
   "execution_count": null,
   "id": "594a11df-bc36-46e7-ab8f-19efce7dea6c",
   "metadata": {
    "lines_to_next_cell": 2
   },
   "outputs": [],
   "source": []
  }
 ],
 "metadata": {
  "jupytext": {
   "formats": "ipynb,py:light"
  },
  "kernelspec": {
   "display_name": "Python 3 (ipykernel)",
   "language": "python",
   "name": "python3"
  },
  "language_info": {
   "codemirror_mode": {
    "name": "ipython",
    "version": 3
   },
   "file_extension": ".py",
   "mimetype": "text/x-python",
   "name": "python",
   "nbconvert_exporter": "python",
   "pygments_lexer": "ipython3",
   "version": "3.10.12"
  },
  "vscode": {
   "interpreter": {
    "hash": "2a01577db06f90dfcd8a13ffbfc05b48310cbd7ef042271883479819627b09e5"
   }
  }
 },
 "nbformat": 4,
 "nbformat_minor": 5
}
