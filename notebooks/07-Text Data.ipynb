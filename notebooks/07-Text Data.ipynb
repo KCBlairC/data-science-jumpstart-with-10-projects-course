{
 "cells": [
  {
   "cell_type": "markdown",
   "id": "fd47c5cd",
   "metadata": {},
   "source": [
    "# Project 7: Movie Reviews - Working with text data\n",
    "\n",
    "For this module, we will be exploring the techniques for working with text data. You will learn about:\n",
    "\n",
    "* Text cleaning and pre-processing\n",
    "* Text classification"
   ]
  },
  {
   "cell_type": "code",
   "execution_count": null,
   "id": "b0776ed2",
   "metadata": {},
   "outputs": [],
   "source": [
    "import pandas as pd\n",
    "\n",
    "import glob\n",
    "import os"
   ]
  },
  {
   "cell_type": "code",
   "execution_count": null,
   "id": "b5141284",
   "metadata": {
    "scrolled": true
   },
   "outputs": [],
   "source": [
    "!ls data/aclImdb/train"
   ]
  },
  {
   "cell_type": "code",
   "execution_count": null,
   "id": "9f85d474",
   "metadata": {
    "scrolled": true
   },
   "outputs": [],
   "source": [
    "!cat data/aclImdb/README"
   ]
  },
  {
   "cell_type": "code",
   "execution_count": null,
   "id": "7e010a4f",
   "metadata": {
    "scrolled": true
   },
   "outputs": [],
   "source": [
    "!cat data/aclImdb/train/pos/10000_8.txt"
   ]
  },
  {
   "cell_type": "code",
   "execution_count": null,
   "id": "fd69e44a",
   "metadata": {},
   "outputs": [],
   "source": []
  },
  {
   "cell_type": "markdown",
   "id": "237eedec",
   "metadata": {},
   "source": [
    "## Load Data"
   ]
  },
  {
   "cell_type": "code",
   "execution_count": null,
   "id": "3cdeb041",
   "metadata": {},
   "outputs": [],
   "source": [
    "import os\n",
    "import glob\n",
    "import pandas as pd\n",
    "\n",
    "def read_reviews(data_dir, dataset, sentiment, limit=None):\n",
    "    dfs = []\n",
    "    i = 0\n",
    "    # set the path to the directory containing the reviews for this sentiment\n",
    "    reviews_dir = os.path.join(data_dir, dataset, sentiment)\n",
    "    print(f'{reviews_dir=}')\n",
    "    # loop through all the text files in the directory\n",
    "    for file_path in glob.glob(os.path.join(reviews_dir, \"*.txt\")):\n",
    "        # extract the unique id and rating from the file name\n",
    "        file_name = os.path.basename(file_path)\n",
    "        unique_id = file_name.split(\"_\")[0]\n",
    "        rating = file_name.split(\"_\")[1].split(\".\")[0]\n",
    "\n",
    "        # read the text file into a pandas DataFrame\n",
    "        with open(file_path, \"r\") as f:\n",
    "            review_text = f.read()\n",
    "            df = pd.DataFrame({\"unique_id\": [unique_id], \n",
    "                \"rating\": [rating], \"sentiment\": [sentiment],\n",
    "                \"review_text\": [review_text]})\n",
    "\n",
    "        # append the DataFrame to the list\n",
    "        dfs.append(df)\n",
    "        i += 1\n",
    "        if limit is not None and i > limit:\n",
    "            break\n",
    "    return pd.concat(dfs, ignore_index=True)\n",
    "\n",
    "\n",
    "data_dir = \"data/aclImdb/\"\n",
    "dataset = \"train\"\n",
    "df_pos = read_reviews(data_dir, dataset, sentiment='pos', limit=300)\n",
    "df_neg = read_reviews(data_dir, dataset, sentiment='neg', limit=300)\n",
    "\n",
    "df = (pd.concat([df_pos, df_neg], axis='index')\n",
    "   .reset_index(drop=True)\n",
    "      .astype({'rating': 'int8[pyarrow]',\n",
    "               'unique_id': 'int64[pyarrow]',\n",
    "               'sentiment': 'string[pyarrow]',\n",
    "               'review_text': 'string[pyarrow]'\n",
    "              })\n",
    "     )\n",
    "\n",
    "# print the first five rows of the DataFrame\n",
    "print(df.sample())"
   ]
  },
  {
   "cell_type": "code",
   "execution_count": null,
   "id": "7a6a8b7f",
   "metadata": {
    "scrolled": true
   },
   "outputs": [],
   "source": [
    "df"
   ]
  },
  {
   "cell_type": "code",
   "execution_count": null,
   "id": "2e673e28",
   "metadata": {},
   "outputs": [],
   "source": []
  },
  {
   "cell_type": "markdown",
   "id": "39d5a9c5",
   "metadata": {},
   "source": [
    "## Basic String Manipulation"
   ]
  },
  {
   "cell_type": "code",
   "execution_count": null,
   "id": "089cde92",
   "metadata": {
    "scrolled": true
   },
   "outputs": [],
   "source": [
    "df.review_text.str.capitalize()"
   ]
  },
  {
   "cell_type": "code",
   "execution_count": null,
   "id": "57b7285d",
   "metadata": {},
   "outputs": [],
   "source": [
    "df.review_text.str"
   ]
  },
  {
   "cell_type": "code",
   "execution_count": null,
   "id": "268608f1",
   "metadata": {},
   "outputs": [],
   "source": [
    "print([x for x in dir(df.review_text.str)\n",
    "           if not x.startswith('_')])"
   ]
  },
  {
   "cell_type": "code",
   "execution_count": null,
   "id": "68a9514e",
   "metadata": {},
   "outputs": [],
   "source": [
    "print([x for x in dir('')\n",
    "           if not x.startswith('_')])"
   ]
  },
  {
   "cell_type": "code",
   "execution_count": null,
   "id": "03309123",
   "metadata": {},
   "outputs": [],
   "source": []
  },
  {
   "cell_type": "code",
   "execution_count": null,
   "id": "d1bd43b2",
   "metadata": {},
   "outputs": [],
   "source": []
  },
  {
   "cell_type": "markdown",
   "id": "d6938b95",
   "metadata": {},
   "source": [
    "## Remove Stop Words"
   ]
  },
  {
   "cell_type": "code",
   "execution_count": null,
   "id": "fea479ef",
   "metadata": {
    "scrolled": true
   },
   "outputs": [],
   "source": [
    "!pip install spacy"
   ]
  },
  {
   "cell_type": "code",
   "execution_count": null,
   "id": "f2a58105",
   "metadata": {
    "scrolled": true
   },
   "outputs": [],
   "source": [
    "!python -m spacy download en_core_web_sm"
   ]
  },
  {
   "cell_type": "code",
   "execution_count": null,
   "id": "453ffa35",
   "metadata": {},
   "outputs": [],
   "source": [
    "!python -m spacy validate"
   ]
  },
  {
   "cell_type": "code",
   "execution_count": null,
   "id": "d9979f86",
   "metadata": {},
   "outputs": [],
   "source": [
    "import spacy\n",
    "nlp = spacy.load('en_core_web_sm')"
   ]
  },
  {
   "cell_type": "code",
   "execution_count": null,
   "id": "a5e38f3e",
   "metadata": {
    "scrolled": true
   },
   "outputs": [],
   "source": [
    "%%time\n",
    "def remove_stop(txt, nlp):\n",
    "    doc = nlp(txt)\n",
    "    res =  ' '.join(tok.text for tok in doc if not tok.is_stop)\n",
    "    #print(res)\n",
    "    return res\n",
    "\n",
    "(df\n",
    " .review_text\n",
    " .apply(remove_stop, nlp=nlp)\n",
    ")"
   ]
  },
  {
   "cell_type": "code",
   "execution_count": null,
   "id": "051b1de9",
   "metadata": {},
   "outputs": [],
   "source": [
    "def remove_stop(txt, nlp):\n",
    "    txt = txt.replace('<br />', '')\n",
    "    doc = nlp(txt)\n",
    "    res =  ' '.join(tok.text for tok in doc if not tok.is_stop)\n",
    "    return res\n",
    "\n",
    "(df\n",
    " .review_text\n",
    " .apply(remove_stop, nlp=nlp)\n",
    ")"
   ]
  },
  {
   "cell_type": "code",
   "execution_count": null,
   "id": "0a851a06",
   "metadata": {
    "scrolled": true
   },
   "outputs": [],
   "source": [
    "df.review_text"
   ]
  },
  {
   "cell_type": "code",
   "execution_count": null,
   "id": "9224d6a5",
   "metadata": {},
   "outputs": [],
   "source": []
  },
  {
   "cell_type": "code",
   "execution_count": null,
   "id": "349a4a5b",
   "metadata": {},
   "outputs": [],
   "source": []
  },
  {
   "cell_type": "markdown",
   "id": "2b3367d1",
   "metadata": {},
   "source": [
    "## Get Tfidf"
   ]
  },
  {
   "cell_type": "code",
   "execution_count": null,
   "id": "f03adc3b",
   "metadata": {
    "scrolled": true
   },
   "outputs": [],
   "source": [
    "!pip install scikit-learn"
   ]
  },
  {
   "cell_type": "code",
   "execution_count": null,
   "id": "03586a0c",
   "metadata": {},
   "outputs": [],
   "source": [
    "from sklearn.feature_extraction.text import TfidfVectorizer\n",
    "\n",
    "vectorizer = TfidfVectorizer()\n",
    "txt_no_stop = df.review_text.apply(remove_stop, nlp=nlp)\n",
    "sparse = vectorizer.fit_transform(txt_no_stop)"
   ]
  },
  {
   "cell_type": "code",
   "execution_count": null,
   "id": "04ab4e80",
   "metadata": {},
   "outputs": [],
   "source": [
    "sparse"
   ]
  },
  {
   "cell_type": "code",
   "execution_count": null,
   "id": "a0b9aa9e",
   "metadata": {},
   "outputs": [],
   "source": [
    "vectorizer.get_feature_names_out()"
   ]
  },
  {
   "cell_type": "code",
   "execution_count": null,
   "id": "e41b1931",
   "metadata": {},
   "outputs": [],
   "source": [
    "tf_df = pd.DataFrame(sparse.todense(), \n",
    "                     columns=vectorizer.get_feature_names_out())"
   ]
  },
  {
   "cell_type": "code",
   "execution_count": null,
   "id": "325d474b",
   "metadata": {
    "scrolled": true
   },
   "outputs": [],
   "source": [
    "pd.concat([df, tf_df], axis='columns')"
   ]
  },
  {
   "cell_type": "code",
   "execution_count": null,
   "id": "a4d3c55e",
   "metadata": {
    "scrolled": true
   },
   "outputs": [],
   "source": [
    "df.sentiment.value_counts()"
   ]
  },
  {
   "cell_type": "code",
   "execution_count": null,
   "id": "ed4d8504",
   "metadata": {},
   "outputs": [],
   "source": []
  },
  {
   "cell_type": "code",
   "execution_count": null,
   "id": "8fb9ed4e",
   "metadata": {},
   "outputs": [],
   "source": []
  },
  {
   "cell_type": "code",
   "execution_count": null,
   "id": "ea4e89d7",
   "metadata": {},
   "outputs": [],
   "source": []
  },
  {
   "cell_type": "code",
   "execution_count": null,
   "id": "a0e07de7",
   "metadata": {},
   "outputs": [],
   "source": []
  },
  {
   "cell_type": "markdown",
   "id": "ff0e8175",
   "metadata": {},
   "source": [
    "## Make Classification Model"
   ]
  },
  {
   "cell_type": "code",
   "execution_count": null,
   "id": "a110b87e",
   "metadata": {},
   "outputs": [],
   "source": [
    "!pip install xgboost"
   ]
  },
  {
   "cell_type": "code",
   "execution_count": null,
   "id": "9c50366b",
   "metadata": {},
   "outputs": [],
   "source": [
    "import xgboost as xg\n",
    "from sklearn import model_selection"
   ]
  },
  {
   "cell_type": "code",
   "execution_count": null,
   "id": "458f9ac3",
   "metadata": {
    "scrolled": true
   },
   "outputs": [],
   "source": [
    "X = tf_df\n",
    "y = df.sentiment == 'pos'\n",
    "X_train, X_test, y_train, y_test = model_selection.train_test_split(X, y, stratify=y, random_state=42)"
   ]
  },
  {
   "cell_type": "code",
   "execution_count": null,
   "id": "67bd61b6",
   "metadata": {},
   "outputs": [],
   "source": [
    "y"
   ]
  },
  {
   "cell_type": "code",
   "execution_count": null,
   "id": "a266a9e9",
   "metadata": {
    "scrolled": true
   },
   "outputs": [],
   "source": [
    "xgb = xg.XGBClassifier()\n",
    "xgb.fit(X_train, y_train)"
   ]
  },
  {
   "cell_type": "code",
   "execution_count": null,
   "id": "509cb998",
   "metadata": {},
   "outputs": [],
   "source": [
    "xgb.score(X_test, y_test)"
   ]
  },
  {
   "cell_type": "code",
   "execution_count": null,
   "id": "fb926f49",
   "metadata": {},
   "outputs": [],
   "source": []
  },
  {
   "cell_type": "code",
   "execution_count": null,
   "id": "6da525a6",
   "metadata": {},
   "outputs": [],
   "source": []
  },
  {
   "cell_type": "markdown",
   "id": "eb20851b",
   "metadata": {},
   "source": [
    "## Predict a New Review"
   ]
  },
  {
   "cell_type": "code",
   "execution_count": null,
   "id": "741d3971",
   "metadata": {
    "lines_to_next_cell": 0
   },
   "outputs": [],
   "source": [
    "X_new = (pd.DataFrame({'review_text': \n",
    "              ['I hated this movie. It was the worst. I don not recommend it',\n",
    "              'This was the best movie I have ever seen',\n",
    "              'I think I know how I felt about this move. Both good but weird parts']})\n",
    ".review_text\n",
    ".apply(remove_stop, nlp=nlp)\n",
    ".pipe(lambda ser: \n",
    "      pd.DataFrame(vectorizer.transform(ser).todense(),\n",
    "            columns=vectorizer.get_feature_names_out()))\n",
    ")\n",
    "\n",
    "X_new"
   ]
  },
  {
   "cell_type": "code",
   "execution_count": null,
   "id": "a7665406",
   "metadata": {
    "lines_to_next_cell": 2
   },
   "outputs": [],
   "source": []
  },
  {
   "cell_type": "code",
   "execution_count": null,
   "id": "5771743f",
   "metadata": {},
   "outputs": [],
   "source": [
    "xgb.predict(X_new)"
   ]
  },
  {
   "cell_type": "code",
   "execution_count": null,
   "id": "e0df9552",
   "metadata": {
    "scrolled": true
   },
   "outputs": [],
   "source": [
    "xgb.predict_proba(X_new)"
   ]
  },
  {
   "cell_type": "code",
   "execution_count": null,
   "id": "9086011e",
   "metadata": {},
   "outputs": [],
   "source": [
    "xgb.classes_"
   ]
  },
  {
   "cell_type": "code",
   "execution_count": null,
   "id": "ba080678",
   "metadata": {},
   "outputs": [],
   "source": []
  },
  {
   "cell_type": "code",
   "execution_count": null,
   "id": "a351e08b",
   "metadata": {},
   "outputs": [],
   "source": []
  },
  {
   "cell_type": "code",
   "execution_count": null,
   "id": "5d106390",
   "metadata": {},
   "outputs": [],
   "source": []
  },
  {
   "cell_type": "code",
   "execution_count": null,
   "id": "171dcdce",
   "metadata": {},
   "outputs": [],
   "source": []
  },
  {
   "cell_type": "code",
   "execution_count": null,
   "id": "d0c18da7",
   "metadata": {},
   "outputs": [],
   "source": []
  },
  {
   "cell_type": "code",
   "execution_count": null,
   "id": "b42f19ec",
   "metadata": {},
   "outputs": [],
   "source": []
  },
  {
   "cell_type": "code",
   "execution_count": null,
   "id": "a76bc81d",
   "metadata": {},
   "outputs": [],
   "source": []
  },
  {
   "cell_type": "code",
   "execution_count": null,
   "id": "c8e5291a",
   "metadata": {},
   "outputs": [],
   "source": []
  },
  {
   "cell_type": "code",
   "execution_count": null,
   "id": "f5a4e259",
   "metadata": {},
   "outputs": [],
   "source": []
  }
 ],
 "metadata": {
  "jupytext": {
   "formats": "ipynb,py:light"
  },
  "kernelspec": {
   "display_name": "Python 3 (ipykernel)",
   "language": "python",
   "name": "python3"
  },
  "language_info": {
   "codemirror_mode": {
    "name": "ipython",
    "version": 3
   },
   "file_extension": ".py",
   "mimetype": "text/x-python",
   "name": "python",
   "nbconvert_exporter": "python",
   "pygments_lexer": "ipython3",
   "version": "3.11.6"
  }
 },
 "nbformat": 4,
 "nbformat_minor": 5
}
