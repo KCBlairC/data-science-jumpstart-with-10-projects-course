{
 "cells": [
  {
   "cell_type": "markdown",
   "id": "dc7a1182",
   "metadata": {},
   "source": [
    "# Merging Data\n",
    "\n",
    "Combining and reshaping data from multiple sources\n",
    "\n",
    "For this module, we will be exploring the techniques for combining and reshaping data from multiple sources. You will learn about:\n",
    "\n",
    "* Combining data using pandas library\n",
    "* Validating Merges\n",
    "* Debugging Chains\n",
    "* Exporting to Excel\n"
   ]
  },
  {
   "cell_type": "code",
   "execution_count": null,
   "id": "3fd94915-8658-4313-b776-f516093a61d5",
   "metadata": {},
   "outputs": [],
   "source": [
    "import numpy as np\n",
    "import pandas as pd\n",
    "import zipfile"
   ]
  },
  {
   "cell_type": "code",
   "execution_count": null,
   "id": "31dfb23f-cfbd-46b5-b51d-8c9a84c3e62b",
   "metadata": {},
   "outputs": [],
   "source": [
    "# https://www.kaggle.com/datasets/dgomonov/new-york-city-airbnb-open-data?resource=download\n",
    "with zipfile.ZipFile('data/AB_NYC_2019.csv.zip') as zip:\n",
    "  print(zip.namelist())"
   ]
  },
  {
   "cell_type": "code",
   "execution_count": null,
   "id": "a61bd65b-8909-45d4-8200-65c8e4071c58",
   "metadata": {
    "scrolled": true
   },
   "outputs": [],
   "source": [
    "ab = pd.read_csv('data/AB_NYC_2019.csv.zip', dtype_backend='pyarrow',\n",
    "                engine='pyarrow')\n",
    "ab"
   ]
  },
  {
   "cell_type": "code",
   "execution_count": null,
   "id": "39bf8701-902c-4c7b-a20e-1b4b5b5a4598",
   "metadata": {},
   "outputs": [],
   "source": [
    "temps = pd.read_csv('data/nyc-ab-temp.csv', index_col=0, dtype_backend='pyarrow',\n",
    "                engine='pyarrow')"
   ]
  },
  {
   "cell_type": "code",
   "execution_count": null,
   "id": "5046ffe2-afaf-41bf-8ce7-f0afdeadc580",
   "metadata": {},
   "outputs": [],
   "source": [
    "temps"
   ]
  },
  {
   "cell_type": "code",
   "execution_count": null,
   "id": "9344af46-d1b1-4e01-a597-2f4a02dc8f06",
   "metadata": {},
   "outputs": [],
   "source": []
  },
  {
   "cell_type": "markdown",
   "id": "942fac2e-547a-4aaf-9a25-717e86b25b9a",
   "metadata": {},
   "source": [
    "## Merging"
   ]
  },
  {
   "cell_type": "code",
   "execution_count": null,
   "id": "966b6d3d-b02c-4e8b-86f3-5834bd964c0d",
   "metadata": {
    "scrolled": true
   },
   "outputs": [],
   "source": [
    "# Error expected here. We're working to fix it in the next few cells.\n",
    "\n",
    "(ab\n",
    " .merge(temps)\n",
    ")"
   ]
  },
  {
   "cell_type": "code",
   "execution_count": null,
   "id": "b3353cd1-4927-49f8-8012-8dbde582c0a9",
   "metadata": {
    "lines_to_next_cell": 2
   },
   "outputs": [],
   "source": [
    "(ab.columns.intersection(temps.columns))"
   ]
  },
  {
   "cell_type": "code",
   "execution_count": null,
   "id": "88e5ad42-ad25-4ef4-a396-4973154a2034",
   "metadata": {},
   "outputs": [],
   "source": [
    "ab.columns"
   ]
  },
  {
   "cell_type": "code",
   "execution_count": null,
   "id": "d57008ba-cb2c-4612-8636-1c1064e46362",
   "metadata": {},
   "outputs": [],
   "source": [
    "temps.columns"
   ]
  },
  {
   "cell_type": "code",
   "execution_count": null,
   "id": "88042e12-1704-40a9-be4c-5757999b8e1e",
   "metadata": {
    "scrolled": true
   },
   "outputs": [],
   "source": [
    "(ab\n",
    " .merge(temps, left_on=['latitude', 'longitude'],\n",
    "        right_on=['lat', 'lon']\n",
    "       )\n",
    ")"
   ]
  },
  {
   "cell_type": "code",
   "execution_count": null,
   "id": "6a17bbf1-32f6-479e-9f95-1dbb0012b88d",
   "metadata": {},
   "outputs": [],
   "source": []
  },
  {
   "cell_type": "code",
   "execution_count": null,
   "id": "01e99f08",
   "metadata": {},
   "outputs": [],
   "source": []
  },
  {
   "cell_type": "code",
   "execution_count": null,
   "id": "31a60c56",
   "metadata": {},
   "outputs": [],
   "source": []
  },
  {
   "cell_type": "markdown",
   "id": "fcd24226-bf46-40e7-a901-4d562e5ae06a",
   "metadata": {},
   "source": [
    "## Validating Merges"
   ]
  },
  {
   "cell_type": "code",
   "execution_count": null,
   "id": "7c59f17c-f4fe-4970-ae0a-2ab5dfe7a961",
   "metadata": {},
   "outputs": [],
   "source": [
    "left = pd.DataFrame({'name': ['Ravi', 'Jose', 'Jose'],\n",
    "                    'pet': ['Dog', 'Cat', 'Dog']})\n",
    "right = pd.DataFrame({'name': ['Ravi', 'Jose', 'Sally'],\n",
    "                      'age': [10, 17, 5]})"
   ]
  },
  {
   "cell_type": "code",
   "execution_count": null,
   "id": "709b8fc9-5b2e-469b-954d-ce19d5e6dd42",
   "metadata": {},
   "outputs": [],
   "source": [
    "display(left)\n",
    "display(right)"
   ]
  },
  {
   "cell_type": "code",
   "execution_count": null,
   "id": "57e080b9",
   "metadata": {},
   "outputs": [],
   "source": [
    "left.merge(right, how='inner')"
   ]
  },
  {
   "cell_type": "code",
   "execution_count": null,
   "id": "fafcd6c4",
   "metadata": {},
   "outputs": [],
   "source": [
    "left.merge(right, how='left')"
   ]
  },
  {
   "cell_type": "code",
   "execution_count": null,
   "id": "2763b2ae",
   "metadata": {},
   "outputs": [],
   "source": [
    "left.merge(right, how='right')"
   ]
  },
  {
   "cell_type": "code",
   "execution_count": null,
   "id": "3bcec460",
   "metadata": {},
   "outputs": [],
   "source": [
    "left.merge(right, how='outer')"
   ]
  },
  {
   "cell_type": "code",
   "execution_count": null,
   "id": "76f0c9a3",
   "metadata": {},
   "outputs": [],
   "source": [
    "left.merge(right, how='cross')"
   ]
  },
  {
   "cell_type": "code",
   "execution_count": null,
   "id": "4a429cc1",
   "metadata": {},
   "outputs": [],
   "source": [
    "left"
   ]
  },
  {
   "cell_type": "code",
   "execution_count": null,
   "id": "7a6ddeda",
   "metadata": {
    "scrolled": true
   },
   "outputs": [],
   "source": [
    "left.merge(right, how='inner', validate='1:1')"
   ]
  },
  {
   "cell_type": "code",
   "execution_count": null,
   "id": "480d59fe",
   "metadata": {
    "scrolled": true
   },
   "outputs": [],
   "source": [
    "left.merge(right, how='inner', validate='m:1')"
   ]
  },
  {
   "cell_type": "code",
   "execution_count": null,
   "id": "f298a8ee",
   "metadata": {},
   "outputs": [],
   "source": []
  },
  {
   "cell_type": "code",
   "execution_count": null,
   "id": "7e0dd0b5",
   "metadata": {},
   "outputs": [],
   "source": []
  },
  {
   "cell_type": "code",
   "execution_count": null,
   "id": "56621ff2",
   "metadata": {},
   "outputs": [],
   "source": []
  },
  {
   "cell_type": "code",
   "execution_count": null,
   "id": "21feb289",
   "metadata": {},
   "outputs": [],
   "source": []
  },
  {
   "cell_type": "markdown",
   "id": "33da2a86-14b5-40b0-a92d-5e968089ba3f",
   "metadata": {},
   "source": [
    "## Debugging Trick"
   ]
  },
  {
   "cell_type": "code",
   "execution_count": null,
   "id": "4059d059-d974-4073-b480-70fe81727d9c",
   "metadata": {},
   "outputs": [],
   "source": [
    "def limit(df, n_rows, n_cols):\n",
    "  return df.iloc[:n_rows, :n_cols]\n",
    "\n",
    "(ab\n",
    " .pipe(limit, n_rows=3, n_cols=6)\n",
    ")"
   ]
  },
  {
   "cell_type": "code",
   "execution_count": null,
   "id": "33b67a29-71cc-4352-af22-6714305387c2",
   "metadata": {
    "scrolled": true
   },
   "outputs": [],
   "source": [
    "# add debug to helpers\n",
    "def debug(df, extra=''):\n",
    "  print(f'{extra} {df.shape=}')\n",
    "  return df\n",
    "\n",
    "(ab\n",
    " .pipe(debug, extra='before')\n",
    " .merge(temps, left_on=['latitude', 'longitude'],\n",
    "        right_on=['lat', 'lon']\n",
    "       )\n",
    " .pipe(debug, extra='after') \n",
    ")"
   ]
  },
  {
   "cell_type": "code",
   "execution_count": null,
   "id": "0f2ce6ce-5b8f-4187-b15b-8adf0fcfe5a0",
   "metadata": {
    "scrolled": true
   },
   "outputs": [],
   "source": [
    "(ab\n",
    " .pipe(debug, extra='before')\n",
    " .merge(temps, left_on=['latitude', 'longitude'],\n",
    "        right_on=['lat', 'lon']\n",
    "       )\n",
    " .pipe(debug, extra='after') \n",
    " .groupby('neighbourhood_group')\n",
    " .mean()\n",
    " .pipe(debug, extra='summary') \n",
    ")"
   ]
  },
  {
   "cell_type": "code",
   "execution_count": null,
   "id": "ee04465a",
   "metadata": {
    "scrolled": true
   },
   "outputs": [],
   "source": [
    "# pandas 2 requires numeric_only\n",
    "(ab\n",
    " .pipe(debug, extra='before')\n",
    " .merge(temps, left_on=['latitude', 'longitude'],\n",
    "        right_on=['lat', 'lon']\n",
    "       )\n",
    " .pipe(debug, extra='after') \n",
    " .groupby('neighbourhood_group')\n",
    " .mean(numeric_only=True)\n",
    " .pipe(debug, extra='summary') \n",
    ")"
   ]
  },
  {
   "cell_type": "code",
   "execution_count": null,
   "id": "abbf1252-6f15-4720-8fb2-69f37b94d435",
   "metadata": {},
   "outputs": [],
   "source": []
  },
  {
   "cell_type": "code",
   "execution_count": null,
   "id": "ebe00985",
   "metadata": {},
   "outputs": [],
   "source": []
  },
  {
   "cell_type": "code",
   "execution_count": null,
   "id": "d8ff4140",
   "metadata": {},
   "outputs": [],
   "source": []
  },
  {
   "cell_type": "code",
   "execution_count": null,
   "id": "2995fc45",
   "metadata": {},
   "outputs": [],
   "source": []
  },
  {
   "cell_type": "markdown",
   "id": "cbcd0b2b-7855-42b5-be4d-097df63a9435",
   "metadata": {},
   "source": [
    "## Cleanup Columns"
   ]
  },
  {
   "cell_type": "code",
   "execution_count": null,
   "id": "7a778544-b3f5-48c9-933b-5cbf8cc7ffc6",
   "metadata": {
    "scrolled": true
   },
   "outputs": [],
   "source": [
    "(ab\n",
    " .pipe(debug, extra='before')\n",
    " .merge(temps, left_on=['latitude', 'longitude'],\n",
    "        right_on=['lat', 'lon']\n",
    "       )\n",
    " .pipe(debug, extra='after') \n",
    " .columns\n",
    ")"
   ]
  },
  {
   "cell_type": "code",
   "execution_count": null,
   "id": "b750ef7f-7cea-4c37-b954-af8750d76719",
   "metadata": {
    "scrolled": true
   },
   "outputs": [],
   "source": [
    "# Explicitly list columns\n",
    "(ab\n",
    " .pipe(debug, extra='before')\n",
    " .merge(temps, left_on=['latitude', 'longitude'],\n",
    "        right_on=['lat', 'lon']\n",
    "       )\n",
    " .pipe(debug, extra='after') \n",
    " .loc[:, ['id', 'name', 'host_id', 'host_name', 'neighbourhood_group',\n",
    "       'neighbourhood', 'latitude', 'longitude', 'room_type', 'price',\n",
    "       'minimum_nights', 'number_of_reviews', 'last_review',\n",
    "       'reviews_per_month', 'calculated_host_listings_count',\n",
    "       'availability_365', 'temp']]\n",
    " .pipe(debug, extra='limit cols')  \n",
    ")"
   ]
  },
  {
   "cell_type": "code",
   "execution_count": null,
   "id": "8397b223",
   "metadata": {},
   "outputs": [],
   "source": []
  },
  {
   "cell_type": "code",
   "execution_count": null,
   "id": "594858e3",
   "metadata": {},
   "outputs": [],
   "source": []
  },
  {
   "cell_type": "code",
   "execution_count": null,
   "id": "7fac2846",
   "metadata": {},
   "outputs": [],
   "source": []
  },
  {
   "cell_type": "code",
   "execution_count": null,
   "id": "fea98746-bd21-47ec-8fbb-57d90387a34c",
   "metadata": {},
   "outputs": [],
   "source": []
  },
  {
   "cell_type": "markdown",
   "id": "49cc66d3-3be7-4f84-a427-c5da982ed953",
   "metadata": {},
   "source": [
    "## Export to Excel"
   ]
  },
  {
   "cell_type": "code",
   "execution_count": null,
   "id": "40b398dd-4569-44ee-9d7b-3fb26aebbd36",
   "metadata": {
    "scrolled": true
   },
   "outputs": [],
   "source": [
    "xls_out = pd.ExcelWriter('data/airbnb.xlsx')\n",
    "xl = (ab\n",
    " .pipe(debug, extra='before')\n",
    " .merge(temps, left_on=['latitude', 'longitude'],\n",
    "        right_on=['lat', 'lon']\n",
    "       )\n",
    " .pipe(debug, extra='after') \n",
    " .loc[:, ['id', 'name', 'host_id', 'host_name', 'neighbourhood_group',\n",
    "       'neighbourhood', 'latitude', 'longitude', 'room_type', 'price',\n",
    "       'minimum_nights', 'number_of_reviews', 'last_review',\n",
    "       'reviews_per_month', 'calculated_host_listings_count',\n",
    "       'availability_365', 'temp']]\n",
    ")\n",
    "\n",
    "xl.to_excel(xls_out, sheet_name='all')\n",
    "(xl\n",
    " .query('neighbourhood_group==\"Brooklyn\"')\n",
    " .to_excel(xls_out, sheet_name='Brookly')\n",
    ")\n",
    "xls_out.close()"
   ]
  },
  {
   "cell_type": "code",
   "execution_count": null,
   "id": "795ab72e-65ae-4631-85ad-8068f3c53f86",
   "metadata": {},
   "outputs": [],
   "source": [
    "!open data/airbnb.xlsx"
   ]
  },
  {
   "cell_type": "code",
   "execution_count": null,
   "id": "a9e147de-90b3-429b-b73c-12690e24305e",
   "metadata": {},
   "outputs": [],
   "source": []
  }
 ],
 "metadata": {
  "jupytext": {
   "formats": "ipynb,py:light"
  },
  "kernelspec": {
   "display_name": "Python 3 (ipykernel)",
   "language": "python",
   "name": "python3"
  },
  "language_info": {
   "codemirror_mode": {
    "name": "ipython",
    "version": 3
   },
   "file_extension": ".py",
   "mimetype": "text/x-python",
   "name": "python",
   "nbconvert_exporter": "python",
   "pygments_lexer": "ipython3",
   "version": "3.11.6"
  },
  "vscode": {
   "interpreter": {
    "hash": "2a01577db06f90dfcd8a13ffbfc05b48310cbd7ef042271883479819627b09e5"
   }
  }
 },
 "nbformat": 4,
 "nbformat_minor": 5
}
