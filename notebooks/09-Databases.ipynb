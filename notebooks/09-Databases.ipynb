{
 "cells": [
  {
   "cell_type": "markdown",
   "id": "0511005d",
   "metadata": {},
   "source": [
    "# Analyzing and visualizing data from a SQL database\n",
    "\n",
    "For this module, we will be exploring the techniques for analyzing and visualizing data from a SQL database. You will learn about:\n",
    "\n",
    "* Connecting to a SQL database\n",
    "* Querying a database\n",
    "* Getting stats\n",
    "* Visualizing data\n"
   ]
  },
  {
   "cell_type": "code",
   "execution_count": null,
   "id": "d213a491",
   "metadata": {},
   "outputs": [],
   "source": [
    "import numpy as np\n",
    "import pandas as pd\n",
    "\n",
    "import sqlite3"
   ]
  },
  {
   "cell_type": "code",
   "execution_count": null,
   "id": "f191ccc9",
   "metadata": {},
   "outputs": [],
   "source": [
    "def tweak_alta(df):\n",
    "    return (df\n",
    "           .assign(DATE=pd.to_datetime(df.DATE).dt.tz_localize('America/Denver'))\n",
    "           .loc[: ,['DATE', 'STATION', 'NAME', 'LATITUDE', 'LONGITUDE',\n",
    "                   'PRCP', 'SNOW', 'SNWD', 'TMIN', 'TMAX', 'TOBS'\n",
    "                  ]]\n",
    "            .assign(MONTH=lambda df_: df_.DATE.dt.month,\n",
    "                    YEAR=lambda df_: df_.DATE.dt.year,\n",
    "                    SEASON=lambda df_: np.select([df_.MONTH < 5,\n",
    "                                                 df_.MONTH > 10],\n",
    "                [(df_.YEAR - 1).astype(str) + '-' + \n",
    "                 (df_.YEAR).astype(str) + ' Season',\n",
    "                (df_.YEAR).astype(str) + '-' + \n",
    "                 (df_.YEAR + 1).astype(str) + ' Season'],\n",
    "                default='Off Season'))\n",
    "           )\n",
    "        \n",
    "df = pd.read_csv('data/snow-alta-1990-2017.csv', dtype_backend='pyarrow',\n",
    "                 engine='pyarrow')\n",
    "alta = tweak_alta(df)"
   ]
  },
  {
   "cell_type": "code",
   "execution_count": null,
   "id": "36c15337",
   "metadata": {},
   "outputs": [],
   "source": [
    "alta"
   ]
  },
  {
   "cell_type": "code",
   "execution_count": null,
   "id": "3d4c8504",
   "metadata": {},
   "outputs": [],
   "source": [
    "alta.dtypes"
   ]
  },
  {
   "cell_type": "code",
   "execution_count": null,
   "id": "3d82282e",
   "metadata": {},
   "outputs": [],
   "source": []
  },
  {
   "cell_type": "markdown",
   "id": "b2d6edf5",
   "metadata": {},
   "source": [
    "## Connect to Database"
   ]
  },
  {
   "cell_type": "code",
   "execution_count": null,
   "id": "29731246",
   "metadata": {},
   "outputs": [],
   "source": [
    "!pip install sqlalchemy"
   ]
  },
  {
   "cell_type": "code",
   "execution_count": null,
   "id": "79951a59",
   "metadata": {
    "lines_to_next_cell": 2
   },
   "outputs": [],
   "source": [
    "# use SQLite connection\n",
    "conn = sqlite3.connect('data/alta.db')"
   ]
  },
  {
   "cell_type": "code",
   "execution_count": null,
   "id": "bb5ad667",
   "metadata": {},
   "outputs": [],
   "source": [
    "# use SQLAlchemy connection\n",
    "# see https://docs.sqlalchemy.org/en/20/core/engines.html\n",
    "from sqlalchemy import create_engine\n",
    "conn = create_engine('sqlite:///data/alta.db')"
   ]
  },
  {
   "cell_type": "code",
   "execution_count": null,
   "id": "bedc9596",
   "metadata": {},
   "outputs": [],
   "source": []
  },
  {
   "cell_type": "code",
   "execution_count": null,
   "id": "dd254350",
   "metadata": {},
   "outputs": [],
   "source": []
  },
  {
   "cell_type": "markdown",
   "id": "71d47b63",
   "metadata": {},
   "source": [
    "## Create Table"
   ]
  },
  {
   "cell_type": "code",
   "execution_count": null,
   "id": "08493199",
   "metadata": {
    "scrolled": true
   },
   "outputs": [],
   "source": [
    "conn = sqlite3.connect('data/alta.db')\n",
    "alta.to_sql('alta', conn, if_exists='replace', index=False)\n",
    "conn.close()"
   ]
  },
  {
   "cell_type": "code",
   "execution_count": null,
   "id": "f0f1f7ff",
   "metadata": {
    "lines_to_next_cell": 2
   },
   "outputs": [],
   "source": []
  },
  {
   "cell_type": "markdown",
   "id": "b80be53c",
   "metadata": {},
   "source": [
    "## Query Database"
   ]
  },
  {
   "cell_type": "code",
   "execution_count": null,
   "id": "734f80ba",
   "metadata": {
    "scrolled": true
   },
   "outputs": [],
   "source": [
    "# use SQLAlchemy connection\n",
    "from sqlalchemy import create_engine\n",
    "conn = create_engine('sqlite:///data/alta.db')\n",
    "alta = pd.read_sql('select * from alta', conn)\n",
    "alta"
   ]
  },
  {
   "cell_type": "code",
   "execution_count": null,
   "id": "3f81abd3",
   "metadata": {},
   "outputs": [],
   "source": [
    "alta.dtypes"
   ]
  },
  {
   "cell_type": "code",
   "execution_count": null,
   "id": "f80e3719",
   "metadata": {
    "scrolled": true
   },
   "outputs": [],
   "source": [
    "conn = sqlite3.connect('data/alta.db')\n",
    "alta = pd.read_sql('select * from alta', conn, dtype_backend='pyarrow')\n",
    "alta"
   ]
  },
  {
   "cell_type": "code",
   "execution_count": null,
   "id": "d797dcab",
   "metadata": {},
   "outputs": [],
   "source": [
    "# Note date failed\n",
    "alta.dtypes"
   ]
  },
  {
   "cell_type": "code",
   "execution_count": null,
   "id": "a9cc7ac9",
   "metadata": {
    "scrolled": true
   },
   "outputs": [],
   "source": [
    "pd.read_sql('PRAGMA table_info(alta)', conn)"
   ]
  },
  {
   "cell_type": "code",
   "execution_count": null,
   "id": "81fe147f",
   "metadata": {},
   "outputs": [],
   "source": []
  },
  {
   "cell_type": "code",
   "execution_count": null,
   "id": "d6add647",
   "metadata": {},
   "outputs": [],
   "source": []
  },
  {
   "cell_type": "markdown",
   "id": "66f4ca8d",
   "metadata": {},
   "source": [
    "## Fancy Query"
   ]
  },
  {
   "cell_type": "code",
   "execution_count": null,
   "id": "1224ddee",
   "metadata": {
    "scrolled": true
   },
   "outputs": [],
   "source": [
    "alta90 = pd.read_sql('select * from alta where YEAR == 1990', conn,\n",
    "                     dtype_backend='pyarrow')\n",
    "alta90"
   ]
  },
  {
   "cell_type": "code",
   "execution_count": null,
   "id": "45648b1e",
   "metadata": {},
   "outputs": [],
   "source": []
  },
  {
   "cell_type": "markdown",
   "id": "9a6310d0",
   "metadata": {},
   "source": [
    "## Stats on SQL Data"
   ]
  },
  {
   "cell_type": "code",
   "execution_count": null,
   "id": "3d25ddd1",
   "metadata": {},
   "outputs": [],
   "source": [
    "conn = sqlite3.connect('data/alta.db')\n",
    "alta = pd.read_sql('select * from alta', conn, dtype_backend='pyarrow')\n",
    "alta.describe()"
   ]
  },
  {
   "cell_type": "code",
   "execution_count": null,
   "id": "b2aa1328",
   "metadata": {},
   "outputs": [],
   "source": [
    "query = '''SELECT \n",
    "    COUNT(SNWD) as count, \n",
    "    AVG(SNWD) as mean, \n",
    "    MIN(SNWD) as min, \n",
    "    MAX(SNWD) as max, \n",
    "    (\n",
    "        SELECT \n",
    "            SNWD\n",
    "        FROM \n",
    "            alta\n",
    "        WHERE SNWD IS NOT NULL                        \n",
    "        ORDER BY \n",
    "            SNWD\n",
    "        LIMIT \n",
    "            1 OFFSET (ROUND(0.25 * (SELECT COUNT(SNWD) FROM alta))-1)\n",
    "    ) as \"25%\",\n",
    "    (\n",
    "        SELECT \n",
    "            SNWD\n",
    "        FROM \n",
    "            alta\n",
    "        WHERE SNWD IS NOT NULL            \n",
    "        ORDER BY \n",
    "            SNWD\n",
    "        LIMIT \n",
    "            1 OFFSET (ROUND(0.50 * (SELECT COUNT(SNWD) FROM alta))-1)\n",
    "    ) as \"50%\",\n",
    "    (\n",
    "        SELECT \n",
    "            SNWD\n",
    "        FROM \n",
    "            alta\n",
    "        WHERE SNWD IS NOT NULL\n",
    "        ORDER BY \n",
    "            SNWD\n",
    "        LIMIT \n",
    "            1 OFFSET (ROUND(0.75 * (SELECT COUNT(SNWD) FROM alta))-1)\n",
    "    ) as \"75%\"\n",
    "FROM \n",
    "    alta;\n",
    "'''\n",
    "depth_desc = pd.read_sql_query(query, conn)\n",
    "depth_desc"
   ]
  },
  {
   "cell_type": "code",
   "execution_count": null,
   "id": "b3234269",
   "metadata": {
    "lines_to_next_cell": 0
   },
   "outputs": [],
   "source": [
    "import math\n",
    "\n",
    "class STD:\n",
    "    def __init__(self):\n",
    "        self.mean = 0.0\n",
    "        self.squared_deviation_sum = 0.0\n",
    "        self.count = 0\n",
    "\n",
    "    def step(self, value):\n",
    "        if value is None:\n",
    "            return\n",
    "        new_mean = self.mean + (value - self.mean) / (self.count + 1)\n",
    "        self.squared_deviation_sum += (value - self.mean) * (value - new_mean)\n",
    "        self.mean = new_mean\n",
    "        self.count += 1\n",
    "\n",
    "    def finalize(self):\n",
    "        if self.count <= 1:\n",
    "            return None\n",
    "        return math.sqrt(self.squared_deviation_sum / (self.count - 1))\n",
    "\n",
    "conn.create_aggregate(\"stdev\", 1, STD)\n",
    "\n",
    "pd.read_sql('select stdev(SNWD) from alta', conn)"
   ]
  },
  {
   "cell_type": "code",
   "execution_count": null,
   "id": "8e6d01d5",
   "metadata": {},
   "outputs": [],
   "source": []
  },
  {
   "cell_type": "code",
   "execution_count": null,
   "id": "fb1a0528",
   "metadata": {
    "lines_to_next_cell": 2
   },
   "outputs": [],
   "source": []
  },
  {
   "cell_type": "markdown",
   "id": "1ad0bf19",
   "metadata": {},
   "source": [
    "## Visualize Data"
   ]
  },
  {
   "cell_type": "code",
   "execution_count": null,
   "id": "d97816d9",
   "metadata": {},
   "outputs": [],
   "source": [
    "tobs = pd.read_sql('select DATE, TOBS from alta', conn)"
   ]
  },
  {
   "cell_type": "code",
   "execution_count": null,
   "id": "21235457",
   "metadata": {
    "scrolled": true
   },
   "outputs": [],
   "source": [
    "tobs"
   ]
  },
  {
   "cell_type": "code",
   "execution_count": null,
   "id": "1bee99fb",
   "metadata": {
    "scrolled": true
   },
   "outputs": [],
   "source": [
    "# Expect an error (for demonstration purposes)\n",
    "# TypeError: Only valid with DatetimeIndex, TimedeltaIndex or PeriodIndex, but got an instance of 'Index'\n",
    "\n",
    "(tobs\n",
    " .groupby(pd.Grouper(key='DATE', freq='M'))\n",
    " .mean()\n",
    " .plot()\n",
    ")"
   ]
  },
  {
   "cell_type": "code",
   "execution_count": null,
   "id": "5c10b1d7",
   "metadata": {
    "scrolled": true
   },
   "outputs": [],
   "source": [
    "# Expect an error (for demonstration purposes)\n",
    "# ValueError: time data \"1990-01-01T00:00:00-07:00\" doesn't match format \"%Y-%m-%d %H:%M:%S%z\",\n",
    "\n",
    "pd.to_datetime(tobs.DATE, format='%Y-%m-%d %H:%M:%S%z').iloc[0]"
   ]
  },
  {
   "cell_type": "code",
   "execution_count": null,
   "id": "d4784d07",
   "metadata": {
    "scrolled": true
   },
   "outputs": [],
   "source": [
    "pd.to_datetime(tobs.DATE, format='%Y-%m-%d %H:%M:%S%z', utc=True).iloc[0]"
   ]
  },
  {
   "cell_type": "code",
   "execution_count": null,
   "id": "6da762ee",
   "metadata": {
    "lines_to_next_cell": 2,
    "scrolled": true
   },
   "outputs": [],
   "source": [
    "(pd.to_datetime(tobs.DATE, format='%Y-%m-%d %H:%M:%S%z', utc=True)\n",
    " .dt.tz_convert('America/Denver')\n",
    ")"
   ]
  },
  {
   "cell_type": "code",
   "execution_count": null,
   "id": "ce3db25f",
   "metadata": {},
   "outputs": [],
   "source": [
    "(tobs\n",
    " .assign(DATE=(pd.to_datetime(tobs.DATE, format='%Y-%m-%d %H:%M:%S%z', utc=True)\n",
    "     .dt.tz_convert('America/Denver')))\n",
    " .groupby(pd.Grouper(key='DATE', freq='M'))\n",
    " .mean()\n",
    " .loc['2010':'2012']\n",
    " .plot()\n",
    ")"
   ]
  },
  {
   "cell_type": "code",
   "execution_count": null,
   "id": "82147190",
   "metadata": {},
   "outputs": [],
   "source": []
  },
  {
   "cell_type": "code",
   "execution_count": null,
   "id": "97507988",
   "metadata": {},
   "outputs": [],
   "source": []
  },
  {
   "cell_type": "code",
   "execution_count": null,
   "id": "0870243e",
   "metadata": {},
   "outputs": [],
   "source": []
  },
  {
   "cell_type": "code",
   "execution_count": null,
   "id": "5b33e476",
   "metadata": {},
   "outputs": [],
   "source": []
  },
  {
   "cell_type": "code",
   "execution_count": null,
   "id": "a6d2c3af",
   "metadata": {},
   "outputs": [],
   "source": []
  },
  {
   "cell_type": "code",
   "execution_count": null,
   "id": "75c59fca",
   "metadata": {},
   "outputs": [],
   "source": []
  },
  {
   "cell_type": "code",
   "execution_count": null,
   "id": "68051ce6",
   "metadata": {},
   "outputs": [],
   "source": []
  },
  {
   "cell_type": "code",
   "execution_count": null,
   "id": "111f1b09",
   "metadata": {},
   "outputs": [],
   "source": []
  }
 ],
 "metadata": {
  "jupytext": {
   "formats": "ipynb,py:light"
  },
  "kernelspec": {
   "display_name": "Python 3 (ipykernel)",
   "language": "python",
   "name": "python3"
  },
  "language_info": {
   "codemirror_mode": {
    "name": "ipython",
    "version": 3
   },
   "file_extension": ".py",
   "mimetype": "text/x-python",
   "name": "python",
   "nbconvert_exporter": "python",
   "pygments_lexer": "ipython3",
   "version": "3.11.6"
  }
 },
 "nbformat": 4,
 "nbformat_minor": 5
}
