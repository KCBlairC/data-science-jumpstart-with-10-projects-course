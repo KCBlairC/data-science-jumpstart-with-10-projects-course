{
 "cells": [
  {
   "cell_type": "markdown",
   "id": "a2e5b712",
   "metadata": {},
   "source": [
    "# Working with Excel\n",
    "\n",
    "For this module, we will be loading and exporting to Excel. You will learn about:\n",
    "\n",
    "* Loading Excel files\n",
    "* Writing Excel files\n",
    "* Finding missing data\n",
    "* Summarizing Text data\n",
    "* Creating a correlation matrix\n",
    "* Creating scatter plots"
   ]
  },
  {
   "cell_type": "code",
   "execution_count": null,
   "id": "c6058c50",
   "metadata": {},
   "outputs": [],
   "source": []
  },
  {
   "cell_type": "code",
   "execution_count": null,
   "id": "20075bf7",
   "metadata": {},
   "outputs": [],
   "source": []
  },
  {
   "cell_type": "code",
   "execution_count": null,
   "id": "c489264c",
   "metadata": {},
   "outputs": [],
   "source": []
  },
  {
   "cell_type": "code",
   "execution_count": null,
   "id": "afe1f503",
   "metadata": {},
   "outputs": [],
   "source": []
  },
  {
   "cell_type": "code",
   "execution_count": null,
   "id": "719520a1",
   "metadata": {},
   "outputs": [],
   "source": []
  },
  {
   "cell_type": "code",
   "execution_count": null,
   "id": "27e16c97",
   "metadata": {},
   "outputs": [],
   "source": []
  },
  {
   "cell_type": "code",
   "execution_count": null,
   "id": "e8222752",
   "metadata": {},
   "outputs": [],
   "source": []
  },
  {
   "cell_type": "code",
   "execution_count": null,
   "id": "978b31d8",
   "metadata": {},
   "outputs": [],
   "source": []
  },
  {
   "cell_type": "markdown",
   "id": "1bf3f59e",
   "metadata": {},
   "source": [
    "## Let's make an Excel File"
   ]
  },
  {
   "cell_type": "code",
   "execution_count": null,
   "id": "f933f632",
   "metadata": {},
   "outputs": [],
   "source": [
    "import pandas as pd\n",
    "from urllib.request import urlopen"
   ]
  },
  {
   "cell_type": "code",
   "execution_count": null,
   "id": "4f9a7bc1-9bfb-4e6d-a71b-1faa40bba701",
   "metadata": {},
   "outputs": [],
   "source": [
    "names_url = 'https://archive.ics.uci.edu/ml/machine-learning-databases/adult/adult.names'\n",
    "fin = urlopen(names_url)\n",
    "data = fin.read()"
   ]
  },
  {
   "cell_type": "code",
   "execution_count": null,
   "id": "474ab2b7-3218-40b2-82f3-abcc799f29d2",
   "metadata": {},
   "outputs": [],
   "source": [
    "print(data.decode('utf8'))"
   ]
  },
  {
   "cell_type": "code",
   "execution_count": null,
   "id": "dd9d08f8-1b59-4da5-897c-08e49d1ee00d",
   "metadata": {},
   "outputs": [],
   "source": [
    "names = '''age: continuous.\n",
    "workclass: Private, Self-emp-not-inc, Self-emp-inc, Federal-gov, Local-gov, State-gov, Without-pay, Never-worked.\n",
    "fnlwgt: continuous.\n",
    "education: Bachelors, Some-college, 11th, HS-grad, Prof-school, Assoc-acdm, Assoc-voc, 9th, 7th-8th, 12th, Masters, 1st-4th, 10th, Doctorate, 5th-6th, Preschool.\n",
    "education-num: continuous.\n",
    "marital-status: Married-civ-spouse, Divorced, Never-married, Separated, Widowed, Married-spouse-absent, Married-AF-spouse.\n",
    "occupation: Tech-support, Craft-repair, Other-service, Sales, Exec-managerial, Prof-specialty, Handlers-cleaners, Machine-op-inspct, Adm-clerical, Farming-fishing, Transport-moving, Priv-house-serv, Protective-serv, Armed-Forces.\n",
    "relationship: Wife, Own-child, Husband, Not-in-family, Other-relative, Unmarried.\n",
    "race: White, Asian-Pac-Islander, Amer-Indian-Eskimo, Other, Black.\n",
    "sex: Female, Male.\n",
    "capital-gain: continuous.\n",
    "capital-loss: continuous.\n",
    "hours-per-week: continuous.\n",
    "native-country: United-States, Cambodia, England, Puerto-Rico, Canada, Germany, Outlying-US(Guam-USVI-etc), India, Japan, Greece, South, China, Cuba, Iran, Honduras, Philippines, Italy, Poland, Jamaica, Vietnam, Mexico, Portugal, Ireland, France, Dominican-Republic, Laos, Ecuador, Taiwan, Haiti, Columbia, Hungary, Guatemala, Nicaragua, Scotland, Thailand, Yugoslavia, El-Salvador, Trinadad&Tobago, Peru, Hong, Holand-Netherlands.\n",
    "salary:'''\n",
    "names = [col.split(':')[0] for col in names.strip().split('\\n')]\n",
    "names"
   ]
  },
  {
   "cell_type": "code",
   "execution_count": null,
   "id": "b15882d7-8a00-4e2e-888d-eb6dd9202190",
   "metadata": {
    "scrolled": true
   },
   "outputs": [],
   "source": [
    "url = 'https://archive.ics.uci.edu/ml/machine-learning-databases/adult/adult.data'\n",
    "df = pd.read_csv(url, names=names, index_col=False)"
   ]
  },
  {
   "cell_type": "code",
   "execution_count": null,
   "id": "873d4ff6-2319-4aeb-8b51-2e0791dea0d7",
   "metadata": {
    "scrolled": true
   },
   "outputs": [],
   "source": [
    "df"
   ]
  },
  {
   "cell_type": "code",
   "execution_count": null,
   "id": "48c845af-6b36-45b1-9e1b-2ad2de10d15f",
   "metadata": {},
   "outputs": [],
   "source": [
    "import os\n",
    "os.makedirs('data', exist_ok=True)"
   ]
  },
  {
   "cell_type": "code",
   "execution_count": null,
   "id": "b2086454-3f2c-4931-888f-e4db43824c89",
   "metadata": {},
   "outputs": [],
   "source": [
    "df.to_excel('data/adult.xlsx')"
   ]
  },
  {
   "cell_type": "code",
   "execution_count": null,
   "id": "5abab192-4346-4bf3-b4ef-c90fc6cb3f42",
   "metadata": {},
   "outputs": [],
   "source": []
  },
  {
   "cell_type": "markdown",
   "id": "95fa4120-b8e0-4ac0-995c-74e2a0376323",
   "metadata": {},
   "source": [
    "## Read Excel"
   ]
  },
  {
   "cell_type": "code",
   "execution_count": null,
   "id": "94458f19",
   "metadata": {
    "scrolled": true
   },
   "outputs": [],
   "source": [
    "!pip install openpyxl"
   ]
  },
  {
   "cell_type": "code",
   "execution_count": null,
   "id": "fa9676c2",
   "metadata": {},
   "outputs": [],
   "source": [
    "import pandas as pd"
   ]
  },
  {
   "cell_type": "code",
   "execution_count": null,
   "id": "d91723d9-c0b4-4a39-83d9-78f670283e8b",
   "metadata": {},
   "outputs": [],
   "source": [
    "!open data/adult.xlsx"
   ]
  },
  {
   "cell_type": "code",
   "execution_count": null,
   "id": "e0aa2561-b32b-4319-8a53-dc7a8ebcba9c",
   "metadata": {
    "scrolled": true
   },
   "outputs": [],
   "source": [
    "df = pd.read_excel('data/adult.xlsx', dtype_backend='pyarrow')"
   ]
  },
  {
   "cell_type": "code",
   "execution_count": null,
   "id": "a16f93c1-9dce-4910-aca2-0d53223cde75",
   "metadata": {
    "scrolled": true
   },
   "outputs": [],
   "source": [
    "df"
   ]
  },
  {
   "cell_type": "code",
   "execution_count": null,
   "id": "7566f38d-1ab5-4439-9d3e-6a09b14da804",
   "metadata": {},
   "outputs": [],
   "source": [
    "df = pd.read_excel('data/adult.xlsx', index_col=0, dtype_backend='pyarrow')"
   ]
  },
  {
   "cell_type": "code",
   "execution_count": null,
   "id": "e90aa7f4-fcb6-4b23-a16a-9793090da2ff",
   "metadata": {
    "scrolled": true
   },
   "outputs": [],
   "source": [
    "df"
   ]
  },
  {
   "cell_type": "code",
   "execution_count": null,
   "id": "416f3a63-33f5-4682-a9fa-890be4a1fd7c",
   "metadata": {},
   "outputs": [],
   "source": [
    "df.dtypes"
   ]
  },
  {
   "cell_type": "code",
   "execution_count": null,
   "id": "bcdfec58-a9fe-49f4-9a36-41ac73542195",
   "metadata": {},
   "outputs": [],
   "source": []
  },
  {
   "cell_type": "code",
   "execution_count": null,
   "id": "b893776e",
   "metadata": {},
   "outputs": [],
   "source": []
  },
  {
   "cell_type": "code",
   "execution_count": null,
   "id": "9b329584",
   "metadata": {},
   "outputs": [],
   "source": []
  },
  {
   "cell_type": "code",
   "execution_count": null,
   "id": "afe3f59e",
   "metadata": {},
   "outputs": [],
   "source": []
  },
  {
   "cell_type": "markdown",
   "id": "4dc6014f-cdc8-4978-8788-bd5c1592c8f5",
   "metadata": {},
   "source": [
    "## Find Missing Data"
   ]
  },
  {
   "cell_type": "code",
   "execution_count": null,
   "id": "42f7491b-c465-4c1b-8543-85af354618e2",
   "metadata": {
    "scrolled": true
   },
   "outputs": [],
   "source": [
    "df.isna()"
   ]
  },
  {
   "cell_type": "code",
   "execution_count": null,
   "id": "0688108d-f6a7-4efa-9bc4-21beca2c5aa6",
   "metadata": {
    "scrolled": true
   },
   "outputs": [],
   "source": [
    "df.isna().any()"
   ]
  },
  {
   "cell_type": "code",
   "execution_count": null,
   "id": "c43589fe",
   "metadata": {
    "scrolled": true
   },
   "outputs": [],
   "source": [
    "df.isna().sum()"
   ]
  },
  {
   "cell_type": "code",
   "execution_count": null,
   "id": "08696e95",
   "metadata": {
    "scrolled": true
   },
   "outputs": [],
   "source": [
    "df.isna().mean().mul(100)"
   ]
  },
  {
   "cell_type": "code",
   "execution_count": null,
   "id": "ba8348a4",
   "metadata": {},
   "outputs": [],
   "source": [
    "(df\n",
    " .age\n",
    " .gt(50)\n",
    " .mean() * 100\n",
    " #.mul(100)\n",
    ")"
   ]
  },
  {
   "cell_type": "code",
   "execution_count": null,
   "id": "dba65ecc",
   "metadata": {},
   "outputs": [],
   "source": []
  },
  {
   "cell_type": "code",
   "execution_count": null,
   "id": "435d9eaf",
   "metadata": {},
   "outputs": [],
   "source": []
  },
  {
   "cell_type": "markdown",
   "id": "d787a175-8dea-4cfe-9a67-069d8a02e97a",
   "metadata": {},
   "source": [
    "## Object Columns"
   ]
  },
  {
   "cell_type": "code",
   "execution_count": null,
   "id": "a7f507a8-4ecc-4395-a230-6c6e95796251",
   "metadata": {
    "scrolled": true
   },
   "outputs": [],
   "source": [
    "df.select_dtypes('string')  # object in Pandas 1.x"
   ]
  },
  {
   "cell_type": "code",
   "execution_count": null,
   "id": "5d25fd29-e612-48e5-9769-42f8b9dcfe2b",
   "metadata": {},
   "outputs": [],
   "source": [
    "df.education.value_counts().plot.barh()"
   ]
  },
  {
   "cell_type": "code",
   "execution_count": null,
   "id": "4f235df4-7894-498e-943a-06f0ae399e4e",
   "metadata": {
    "scrolled": true
   },
   "outputs": [],
   "source": [
    "# Filter columns\n",
    "(df\n",
    " .filter(regex=r'education'))"
   ]
  },
  {
   "cell_type": "code",
   "execution_count": null,
   "id": "3454f7ca-4837-467f-87f5-a523d33985c5",
   "metadata": {},
   "outputs": [],
   "source": [
    "# value_counts also works with numbers\n",
    "df.age.value_counts().sort_index().plot.bar()"
   ]
  },
  {
   "cell_type": "code",
   "execution_count": null,
   "id": "f4f5e3cc",
   "metadata": {},
   "outputs": [],
   "source": [
    "df.age.hist(bins=20, figsize=(8,3))"
   ]
  },
  {
   "cell_type": "code",
   "execution_count": null,
   "id": "e9095d8e",
   "metadata": {},
   "outputs": [],
   "source": []
  },
  {
   "cell_type": "code",
   "execution_count": null,
   "id": "c2dc7985",
   "metadata": {},
   "outputs": [],
   "source": []
  },
  {
   "cell_type": "code",
   "execution_count": null,
   "id": "172dac90",
   "metadata": {},
   "outputs": [],
   "source": []
  },
  {
   "cell_type": "code",
   "execution_count": null,
   "id": "2c6c3761",
   "metadata": {},
   "outputs": [],
   "source": []
  },
  {
   "cell_type": "code",
   "execution_count": null,
   "id": "70aa4b9b",
   "metadata": {},
   "outputs": [],
   "source": []
  },
  {
   "cell_type": "markdown",
   "id": "146aa3c0-a9fb-4958-83b7-4fde09521d37",
   "metadata": {},
   "source": [
    "## Numerical Columns"
   ]
  },
  {
   "cell_type": "code",
   "execution_count": null,
   "id": "1fd8aaea-26e8-4f22-9c86-dfbd66316275",
   "metadata": {},
   "outputs": [],
   "source": [
    "(df\n",
    " .corr(numeric_only=True)\n",
    " .style\n",
    " .background_gradient(cmap='RdBu', vmin=-1, vmax=1)\n",
    ")"
   ]
  },
  {
   "cell_type": "code",
   "execution_count": null,
   "id": "bb6228f4-fdfa-4300-92bb-31bb294be44c",
   "metadata": {
    "scrolled": true
   },
   "outputs": [],
   "source": [
    "(df\n",
    " .plot.scatter(x='education-num',\n",
    "               y='capital-gain',\n",
    "              figsize=(8,3)))"
   ]
  },
  {
   "cell_type": "code",
   "execution_count": null,
   "id": "63721766-ad76-4f9b-a494-25cac02fe678",
   "metadata": {},
   "outputs": [],
   "source": [
    "(df\n",
    " .plot.scatter(x='education-num',\n",
    "               y='capital-gain', alpha=.3,\n",
    "               figsize=(8,3)))"
   ]
  },
  {
   "cell_type": "code",
   "execution_count": null,
   "id": "206180f8-4b0a-4942-b9cd-c94e5f2aa5b4",
   "metadata": {
    "scrolled": true
   },
   "outputs": [],
   "source": [
    "import helpers\n",
    "\n",
    "(df\n",
    " .assign(edu=lambda df_: helpers.jitter(df_, col='education-num'))\n",
    " .plot.scatter(x='edu',\n",
    "               y='capital-gain', alpha=.01,\n",
    "               figsize=(8,3)))               "
   ]
  },
  {
   "cell_type": "code",
   "execution_count": null,
   "id": "5152e952",
   "metadata": {},
   "outputs": [],
   "source": [
    "df['education-num'].hist()"
   ]
  },
  {
   "cell_type": "code",
   "execution_count": null,
   "id": "d85e7528",
   "metadata": {},
   "outputs": [],
   "source": []
  },
  {
   "cell_type": "code",
   "execution_count": null,
   "id": "8f4632ca",
   "metadata": {},
   "outputs": [],
   "source": []
  },
  {
   "cell_type": "code",
   "execution_count": null,
   "id": "48b63570",
   "metadata": {},
   "outputs": [],
   "source": []
  },
  {
   "cell_type": "markdown",
   "id": "461c9d5f",
   "metadata": {},
   "source": [
    "## Writing Excel"
   ]
  },
  {
   "cell_type": "code",
   "execution_count": null,
   "id": "9b8f9ded",
   "metadata": {
    "scrolled": true
   },
   "outputs": [],
   "source": [
    "!pip install xlsxwriter"
   ]
  },
  {
   "cell_type": "code",
   "execution_count": null,
   "id": "92cdcdba",
   "metadata": {},
   "outputs": [],
   "source": [
    "import pandas as pd\n",
    "\n",
    "# Create a Pandas Excel writer using XlsxWriter as the engine.\n",
    "writer = pd.ExcelWriter('data/pandas_output.xlsx', engine='xlsxwriter')\n",
    "df.to_excel(writer, sheet_name='Sheet1', index=False)\n",
    "df.query('age < 30').to_excel(writer, sheet_name='LT30', index=False)\n",
    "\n",
    "# Get the workbook and the worksheet for further manipulation\n",
    "workbook  = writer.book\n",
    "worksheet = writer.sheets['Sheet1']\n",
    "\n",
    "# Add a header format\n",
    "header_format = workbook.add_format({\n",
    "    'bold': True,\n",
    "    'text_wrap': True,\n",
    "    'valign': 'top',\n",
    "    'fg_color': '#D7E4BC',  # colors can be set using Hex codes\n",
    "    'border': 1})\n",
    "\n",
    "# Write the column headers with the defined format\n",
    "for col_num, value in enumerate(df.columns.values):\n",
    "    worksheet.write(0, col_num, value, header_format)\n",
    "\n",
    "# Create a format for the data cells\n",
    "data_format = workbook.add_format({'text_wrap': True})\n",
    "\n",
    "# Adjust the width of the columns based on the content\n",
    "worksheet.autofit()\n",
    "\n",
    "# Save the excel file\n",
    "writer.close()\n"
   ]
  },
  {
   "cell_type": "code",
   "execution_count": null,
   "id": "c88cb510",
   "metadata": {},
   "outputs": [],
   "source": [
    "!open data/pandas_output.xlsx\n"
   ]
  }
 ],
 "metadata": {
  "kernelspec": {
   "display_name": "Python 3 (ipykernel)",
   "language": "python",
   "name": "python3"
  },
  "language_info": {
   "codemirror_mode": {
    "name": "ipython",
    "version": 3
   },
   "file_extension": ".py",
   "mimetype": "text/x-python",
   "name": "python",
   "nbconvert_exporter": "python",
   "pygments_lexer": "ipython3",
   "version": "3.11.6"
  },
  "vscode": {
   "interpreter": {
    "hash": "2a01577db06f90dfcd8a13ffbfc05b48310cbd7ef042271883479819627b09e5"
   }
  }
 },
 "nbformat": 4,
 "nbformat_minor": 5
}
