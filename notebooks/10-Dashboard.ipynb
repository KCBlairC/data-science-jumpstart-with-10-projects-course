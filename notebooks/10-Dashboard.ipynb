{
 "cells": [
  {
   "cell_type": "markdown",
   "id": "31c04494",
   "metadata": {},
   "source": [
    "## Plotly and Dashboards\n",
    "\n",
    "* Plotly\n",
    "* Creating Dashboards"
   ]
  },
  {
   "cell_type": "code",
   "execution_count": null,
   "id": "dbaaaffa",
   "metadata": {},
   "outputs": [],
   "source": [
    "import numpy as np\n",
    "import pandas as pd"
   ]
  },
  {
   "cell_type": "code",
   "execution_count": null,
   "id": "a0ce6f22",
   "metadata": {},
   "outputs": [],
   "source": [
    "df = pd.read_csv('data/snow-alta-1990-2017.csv')"
   ]
  },
  {
   "cell_type": "code",
   "execution_count": null,
   "id": "f6f5af4b",
   "metadata": {},
   "outputs": [],
   "source": []
  },
  {
   "cell_type": "code",
   "execution_count": null,
   "id": "6006f3db",
   "metadata": {},
   "outputs": [],
   "source": []
  },
  {
   "cell_type": "markdown",
   "id": "88f18188",
   "metadata": {},
   "source": [
    "## Clean Data"
   ]
  },
  {
   "cell_type": "code",
   "execution_count": null,
   "id": "c2583f63",
   "metadata": {
    "scrolled": true
   },
   "outputs": [],
   "source": [
    "df"
   ]
  },
  {
   "cell_type": "code",
   "execution_count": null,
   "id": "2a5d75a1",
   "metadata": {
    "scrolled": true
   },
   "outputs": [],
   "source": [
    "df.dtypes"
   ]
  },
  {
   "cell_type": "code",
   "execution_count": null,
   "id": "2793618b",
   "metadata": {
    "scrolled": true
   },
   "outputs": [],
   "source": [
    "def tweak_alta(df):\n",
    "    return (df\n",
    "           .assign(DATE=pd.to_datetime(df.DATE).dt.tz_localize('America/Denver'))\n",
    "           .loc[: ,['DATE', 'STATION', 'NAME', 'LATITUDE', 'LONGITUDE',\n",
    "                   'PRCP', 'SNOW', 'SNWD', 'TMIN', 'TMAX', 'TOBS'\n",
    "                  ]]\n",
    "            .assign(MONTH=lambda df_: df_.DATE.dt.month,\n",
    "                    YEAR=lambda df_: df_.DATE.dt.year,\n",
    "                    SEASON=lambda df_: np.select([df_.MONTH < 5,\n",
    "                                                 df_.MONTH > 10],\n",
    "                [(df_.YEAR - 1).astype(str) + '-' + \n",
    "                 (df_.YEAR).astype(str) + ' Season',\n",
    "                (df_.YEAR).astype(str) + '-' + \n",
    "                 (df_.YEAR + 1).astype(str) + ' Season'],\n",
    "                default='Off Season'))\n",
    "           )\n",
    "        \n",
    "\n",
    "tweak_alta(df)"
   ]
  },
  {
   "cell_type": "code",
   "execution_count": null,
   "id": "1ddbfec3",
   "metadata": {},
   "outputs": [],
   "source": [
    "alta = tweak_alta(df)"
   ]
  },
  {
   "cell_type": "code",
   "execution_count": null,
   "id": "3845f2b7",
   "metadata": {},
   "outputs": [],
   "source": [
    "alta"
   ]
  },
  {
   "cell_type": "code",
   "execution_count": null,
   "id": "a8ae5d35",
   "metadata": {},
   "outputs": [],
   "source": []
  },
  {
   "cell_type": "code",
   "execution_count": null,
   "id": "25a48813",
   "metadata": {},
   "outputs": [],
   "source": []
  },
  {
   "cell_type": "markdown",
   "id": "d55ceac0",
   "metadata": {},
   "source": [
    "## Plotting with Plotly"
   ]
  },
  {
   "cell_type": "code",
   "execution_count": null,
   "id": "676df64c",
   "metadata": {},
   "outputs": [],
   "source": [
    "import plotly\n",
    "import plotly.express as px\n",
    "pd.options.plotting.backend = 'plotly'"
   ]
  },
  {
   "cell_type": "code",
   "execution_count": null,
   "id": "421836da",
   "metadata": {},
   "outputs": [],
   "source": [
    "(alta\n",
    ".plot(x=\"DATE\", y='SNWD'))"
   ]
  },
  {
   "cell_type": "code",
   "execution_count": null,
   "id": "2f1f2dc5",
   "metadata": {},
   "outputs": [],
   "source": [
    "(alta\n",
    " .query('SEASON.str.contains(\"2010-2011\")')\n",
    " .plot(x='DATE', y='SNWD', title='2011 Season Snow Depth')\n",
    ")"
   ]
  },
  {
   "cell_type": "code",
   "execution_count": null,
   "id": "4e6aa18d",
   "metadata": {},
   "outputs": [],
   "source": []
  },
  {
   "cell_type": "code",
   "execution_count": null,
   "id": "f4284c4e",
   "metadata": {},
   "outputs": [],
   "source": []
  },
  {
   "cell_type": "code",
   "execution_count": null,
   "id": "249288dd",
   "metadata": {},
   "outputs": [],
   "source": []
  },
  {
   "cell_type": "markdown",
   "id": "1fc2358c",
   "metadata": {},
   "source": [
    "## Bar Plot"
   ]
  },
  {
   "cell_type": "code",
   "execution_count": null,
   "id": "d9fe00fe",
   "metadata": {
    "scrolled": true
   },
   "outputs": [],
   "source": [
    "(alta\n",
    " .SNOW\n",
    " .pipe(pd.cut, bins=10)\n",
    " .value_counts()\n",
    " #.plot.bar()\n",
    " .index\n",
    ")"
   ]
  },
  {
   "cell_type": "code",
   "execution_count": null,
   "id": "d467052a",
   "metadata": {},
   "outputs": [],
   "source": [
    "(alta\n",
    " .SNOW\n",
    " .pipe(pd.cut, bins=10)\n",
    " .value_counts()\n",
    " .reset_index()\n",
    " .rename(columns={'SNOW': 'Bin (in)', 'count': 'Count'})\n",
    " .astype({'Bin (in)': str})\n",
    " .plot.bar(x='Bin (in)', y='Count', title='SNOW FALL COUNTS')\n",
    ")"
   ]
  },
  {
   "cell_type": "code",
   "execution_count": null,
   "id": "d71b7811",
   "metadata": {},
   "outputs": [],
   "source": [
    "(alta\n",
    " .SNOW\n",
    "# .pipe(pd.cut, bins=10)\n",
    " .pipe(pd.cut, bins=[-1, 0, 1, 5, 10, 15, 20, 25, 40]) \n",
    " .value_counts()\n",
    " .reset_index()\n",
    " .rename(columns={'SNOW': 'Bin (in)', 'count': 'Count'})\n",
    " .astype({'Bin (in)': str})\n",
    " .plot.bar(x='Bin (in)', y='Count', title='SNOW FALL COUNTS')\n",
    ")"
   ]
  },
  {
   "cell_type": "code",
   "execution_count": null,
   "id": "9b865d98",
   "metadata": {},
   "outputs": [],
   "source": [
    "(alta\n",
    " .query('SNOW > 0') \n",
    " .SNOW\n",
    " .pipe(pd.cut, bins=[-1, 0, 1, 5, 10, 15, 20, 25, 40]) \n",
    " .value_counts()\n",
    " .reset_index()\n",
    " .rename(columns={'SNOW': 'Bin (in)', 'count': 'Count'})\n",
    " .astype({'Bin (in)': str})\n",
    " .plot.bar(x='Bin (in)', y='Count', title='SNOW FALL COUNTS')\n",
    ")"
   ]
  },
  {
   "cell_type": "code",
   "execution_count": null,
   "id": "bd079e52",
   "metadata": {},
   "outputs": [],
   "source": []
  },
  {
   "cell_type": "code",
   "execution_count": null,
   "id": "cb93934c",
   "metadata": {},
   "outputs": [],
   "source": []
  },
  {
   "cell_type": "code",
   "execution_count": null,
   "id": "d96971e8",
   "metadata": {},
   "outputs": [],
   "source": []
  },
  {
   "cell_type": "code",
   "execution_count": null,
   "id": "18f5fe75",
   "metadata": {},
   "outputs": [],
   "source": []
  },
  {
   "cell_type": "markdown",
   "id": "f30acae3",
   "metadata": {},
   "source": [
    "## Scatter Plot"
   ]
  },
  {
   "cell_type": "code",
   "execution_count": null,
   "id": "f4a6ee41",
   "metadata": {
    "scrolled": true
   },
   "outputs": [],
   "source": [
    "(alta\n",
    " .plot.scatter(x='MONTH', y='SNWD', c='TOBS', opacity=.2)\n",
    ")"
   ]
  },
  {
   "cell_type": "code",
   "execution_count": null,
   "id": "8d04a02b",
   "metadata": {
    "scrolled": true
   },
   "outputs": [],
   "source": [
    "(alta\n",
    " .plot.scatter(x='TOBS', y='SNWD', color='MONTH')\n",
    ")"
   ]
  },
  {
   "cell_type": "code",
   "execution_count": null,
   "id": "ae4ccb50",
   "metadata": {
    "lines_to_next_cell": 0
   },
   "outputs": [],
   "source": [
    "import plotly.graph_objects as go\n",
    "\n",
    "fig = go.Figure(data=go.Scatter(\n",
    "    x=alta.TOBS,\n",
    "    y=alta.SNWD,\n",
    "    mode='markers',\n",
    "    marker=dict(\n",
    "        size=10,\n",
    "        color=alta.MONTH,  \n",
    "        colorscale='Twilight',  \n",
    "        colorbar=dict(title='Month') \n",
    "    )\n",
    "))\n",
    "\n",
    "fig"
   ]
  },
  {
   "cell_type": "code",
   "execution_count": null,
   "id": "0b8330e7",
   "metadata": {
    "lines_to_next_cell": 2
   },
   "outputs": [],
   "source": []
  },
  {
   "cell_type": "markdown",
   "id": "5907e0f4",
   "metadata": {},
   "source": [
    "## Dash"
   ]
  },
  {
   "cell_type": "code",
   "execution_count": null,
   "id": "f4f0c789",
   "metadata": {
    "lines_to_next_cell": 0
   },
   "outputs": [],
   "source": [
    "%%writefile dashdemo.py\n",
    "import dash\n",
    "from dash import dcc, html, Dash, Input, Output\n",
    "import numpy as np\n",
    "import pandas as pd\n",
    "import plotly\n",
    "import plotly.express as px\n",
    "pd.options.plotting.backend = 'plotly'\n",
    "\n",
    "def tweak_alta(df):\n",
    "    return (df\n",
    "           .assign(DATE=pd.to_datetime(df.DATE).dt.tz_localize('America/Denver'))\n",
    "           .loc[: ,['DATE', 'STATION', 'NAME', 'LATITUDE', 'LONGITUDE',\n",
    "                   'PRCP', 'SNOW', 'SNWD', 'TMIN', 'TMAX', 'TOBS'\n",
    "                  ]]\n",
    "            .assign(MONTH=lambda df_: df_.DATE.dt.month,\n",
    "                    YEAR=lambda df_: df_.DATE.dt.year,\n",
    "                    SEASON=lambda df_: np.select([df_.MONTH < 5,\n",
    "                                                 df_.MONTH > 10],\n",
    "                [(df_.YEAR - 1).astype(str) + '-' + \n",
    "                 (df_.YEAR).astype(str) + ' Season',\n",
    "                (df_.YEAR).astype(str) + '-' + \n",
    "                 (df_.YEAR + 1).astype(str) + ' Season'],\n",
    "                default='Off Season'))\n",
    "           )\n",
    "        \n",
    "df = pd.read_csv('data/snow-alta-1990-2017.csv')\n",
    "alta = tweak_alta(df)\n",
    "app = Dash(__name__)\n",
    "fig = (alta\n",
    " .query('SEASON.str.contains(\"2010-2011\")')\n",
    " .plot(x='DATE', y='SNWD', title='2011 Season Snow Depth')\n",
    ")\n",
    "app.layout = dash.html.Div(children=[\n",
    "    dash.html.H1('Alta 2011 Season'),\n",
    "    dash.dcc.Markdown('''## Line Plot of Snow Depth\n",
    "\n",
    "* This is Markdown text.\n",
    "* Plot of Snow Depth\n",
    "\n",
    "    '''),\n",
    "    dash.dcc.Graph(id='line-graph', figure=fig)\n",
    "])\n",
    "\n",
    "if __name__ == '__main__':\n",
    "    app.run_server(debug=True)\n"
   ]
  },
  {
   "cell_type": "code",
   "execution_count": null,
   "id": "824c6325",
   "metadata": {},
   "outputs": [],
   "source": []
  },
  {
   "cell_type": "code",
   "execution_count": null,
   "id": "6a28319d",
   "metadata": {},
   "outputs": [],
   "source": []
  },
  {
   "cell_type": "code",
   "execution_count": null,
   "id": "1f0fb75b",
   "metadata": {
    "lines_to_next_cell": 2
   },
   "outputs": [],
   "source": []
  },
  {
   "cell_type": "markdown",
   "id": "2c32fddf",
   "metadata": {},
   "source": [
    "## Widget"
   ]
  },
  {
   "cell_type": "code",
   "execution_count": null,
   "id": "10a2adc7",
   "metadata": {
    "lines_to_next_cell": 0
   },
   "outputs": [],
   "source": [
    "%%writefile dashdemo2.py\n",
    "import dash\n",
    "from dash import dcc, html, Dash, Input, Output\n",
    "import numpy as np\n",
    "import pandas as pd\n",
    "import plotly\n",
    "import plotly.express as px\n",
    "pd.options.plotting.backend = 'plotly'\n",
    "\n",
    "def tweak_alta(df):\n",
    "    return (df\n",
    "           .assign(DATE=pd.to_datetime(df.DATE).dt.tz_localize('America/Denver'))\n",
    "           .loc[: ,['DATE', 'STATION', 'NAME', 'LATITUDE', 'LONGITUDE',\n",
    "                   'PRCP', 'SNOW', 'SNWD', 'TMIN', 'TMAX', 'TOBS'\n",
    "                  ]]\n",
    "            .assign(MONTH=lambda df_: df_.DATE.dt.month,\n",
    "                    YEAR=lambda df_: df_.DATE.dt.year,\n",
    "                    SEASON=lambda df_: np.select([df_.MONTH < 5,\n",
    "                                                 df_.MONTH > 10],\n",
    "                [(df_.YEAR - 1).astype(str) + '-' + \n",
    "                 (df_.YEAR).astype(str) + ' Season',\n",
    "                (df_.YEAR).astype(str) + '-' + \n",
    "                 (df_.YEAR + 1).astype(str) + ' Season'],\n",
    "                default='Off Season'))\n",
    "           )\n",
    "        \n",
    "df = pd.read_csv('data/snow-alta-1990-2017.csv')\n",
    "alta = tweak_alta(df)\n",
    "app = Dash(__name__)\n",
    "fig = (alta\n",
    " .query('SEASON.str.contains(\"2010-2011\")')\n",
    " .plot(x='DATE', y='SNWD', title='2011 Season Snow Depth')\n",
    ")\n",
    "\n",
    "\n",
    "app.layout = dash.html.Div(children=[\n",
    "    dash.html.H1('Alta Season Snow Depths'),\n",
    "    dash.dcc.Markdown('''## Line Plot of Snow Depth\n",
    "* This is Markdown text.\n",
    "* Plot of Snow Depth\n",
    "    '''),\n",
    "    dash.dcc.Dropdown(\n",
    "                    options=alta.SEASON.unique(),\n",
    "                    id='years'),\n",
    "    dash.dcc.Graph(id='line-graph', figure=fig)\n",
    "])\n",
    "    \n",
    "@app.callback(\n",
    "    dash.Output(component_id='line-graph', component_property='figure'),\n",
    "    dash.Input(component_id='years', component_property='value'),\n",
    ")\n",
    "def update_line_figure(max_year):\n",
    "    return (alta\n",
    "     .query(f'SEASON == @max_year')\n",
    "     .plot(x='DATE', y='SNWD',\n",
    "          title=f'{max_year} Snow Depth')\n",
    "    )   \n",
    "\n",
    "if __name__ == '__main__':\n",
    "    app.run_server(debug=True)\n"
   ]
  },
  {
   "cell_type": "code",
   "execution_count": null,
   "id": "4aa9ac8c",
   "metadata": {},
   "outputs": [],
   "source": []
  },
  {
   "cell_type": "code",
   "execution_count": null,
   "id": "d083e7a0",
   "metadata": {},
   "outputs": [],
   "source": []
  },
  {
   "cell_type": "code",
   "execution_count": null,
   "id": "158edc8a",
   "metadata": {},
   "outputs": [],
   "source": []
  },
  {
   "cell_type": "code",
   "execution_count": null,
   "id": "af658d29",
   "metadata": {},
   "outputs": [],
   "source": []
  },
  {
   "cell_type": "code",
   "execution_count": null,
   "id": "b7973109",
   "metadata": {},
   "outputs": [],
   "source": []
  },
  {
   "cell_type": "code",
   "execution_count": null,
   "id": "7ca2fc9b",
   "metadata": {},
   "outputs": [],
   "source": []
  },
  {
   "cell_type": "code",
   "execution_count": null,
   "id": "f3a76e3b",
   "metadata": {},
   "outputs": [],
   "source": []
  },
  {
   "cell_type": "code",
   "execution_count": null,
   "id": "ce400d8d",
   "metadata": {
    "lines_to_next_cell": 2
   },
   "outputs": [],
   "source": []
  }
 ],
 "metadata": {
  "jupytext": {
   "formats": "ipynb,py:light"
  },
  "kernelspec": {
   "display_name": "Python 3 (ipykernel)",
   "language": "python",
   "name": "python3"
  },
  "language_info": {
   "codemirror_mode": {
    "name": "ipython",
    "version": 3
   },
   "file_extension": ".py",
   "mimetype": "text/x-python",
   "name": "python",
   "nbconvert_exporter": "python",
   "pygments_lexer": "ipython3",
   "version": "3.10.12"
  }
 },
 "nbformat": 4,
 "nbformat_minor": 5
}
