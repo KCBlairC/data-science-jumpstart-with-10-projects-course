{
 "cells": [
  {
   "cell_type": "markdown",
   "id": "0baa4caa-8796-4f09-a115-6ee4d2438371",
   "metadata": {},
   "source": [
    "# Cleaning up Data\n",
    "\n",
    "Goals:\n",
    "\n",
    "* Load multiple CSVs with glob\n",
    "* Examine columns and types\n",
    "* Create a function\n",
    "* Refactor to ease reading\n",
    "* Fix lambda/comprehension issue\n",
    "\n",
    "Data license:\n",
    "...that any publications resulting from the use of the data include the \n",
    "names of the principal investigator responsible for the data collection\n",
    "at each institution.  They would be:\n",
    "\n",
    " 1. Hungarian Institute of Cardiology. Budapest: Andras Janosi, M.D.\n",
    " 2. University Hospital, Zurich, Switzerland: William Steinbrunn, M.D.\n",
    " 3. University Hospital, Basel, Switzerland: Matthias Pfisterer, M.D.\n",
    " 4. V.A. Medical Center, Long Beach and Cleveland Clinic Foundation:\n",
    "Robert Detrano, M.D., Ph.D."
   ]
  },
  {
   "cell_type": "code",
   "execution_count": null,
   "id": "9b54f5f4-da35-43a2-b7bd-650993d5b3b0",
   "metadata": {},
   "outputs": [],
   "source": [
    "# https://archive.ics.uci.edu/ml/datasets/heart+disease\n",
    "import numpy as np\n",
    "import pandas as pd\n",
    "\n",
    "import glob"
   ]
  },
  {
   "cell_type": "code",
   "execution_count": null,
   "id": "e8adafb4-f302-4bbc-acc3-3f212e058cd5",
   "metadata": {
    "lines_to_next_cell": 0,
    "scrolled": true
   },
   "outputs": [],
   "source": [
    "names = ['age', 'sex', 'cp', 'trestbps', 'chol', 'fbs', 'restecg', \n",
    "         'thalach', 'exang', 'oldpeak', 'slope', 'ca', 'thal', 'num']\n",
    "\n",
    "files = glob.glob('data/processed*.data')\n",
    "df = pd.concat([pd.read_csv(f, sep=',', names=names,\n",
    "                           dtype_backend='pyarrow', engine='pyarrow')\n",
    "                for f in files], axis='index', ignore_index=True)\n",
    "df"
   ]
  },
  {
   "cell_type": "code",
   "execution_count": null,
   "id": "992229d3",
   "metadata": {},
   "outputs": [],
   "source": []
  },
  {
   "cell_type": "code",
   "execution_count": null,
   "id": "e555aed3",
   "metadata": {},
   "outputs": [],
   "source": []
  },
  {
   "cell_type": "code",
   "execution_count": null,
   "id": "ed7d0d22",
   "metadata": {
    "lines_to_next_cell": 2
   },
   "outputs": [],
   "source": []
  },
  {
   "cell_type": "markdown",
   "id": "030fc5db-4684-4302-850a-aa922cf0c877",
   "metadata": {},
   "source": [
    "## Cleanup"
   ]
  },
  {
   "cell_type": "code",
   "execution_count": null,
   "id": "6cd05aa9-2d21-40ed-9c52-c296b7632253",
   "metadata": {
    "scrolled": true
   },
   "outputs": [],
   "source": [
    "df.describe()"
   ]
  },
  {
   "cell_type": "code",
   "execution_count": null,
   "id": "50a63ac7-e1f3-4b96-9b34-10f38736bfd1",
   "metadata": {},
   "outputs": [],
   "source": [
    "df.select_dtypes('string')"
   ]
  },
  {
   "cell_type": "code",
   "execution_count": null,
   "id": "c3bef3a0",
   "metadata": {},
   "outputs": [],
   "source": [
    "df.select_dtypes(object)"
   ]
  },
  {
   "cell_type": "code",
   "execution_count": null,
   "id": "c7eaf2fc-bb02-4917-a7ba-b98466449b76",
   "metadata": {
    "scrolled": true
   },
   "outputs": [],
   "source": [
    "df.dtypes"
   ]
  },
  {
   "cell_type": "code",
   "execution_count": null,
   "id": "500ec18d-0ecf-4d1e-a95e-9e5ae300d134",
   "metadata": {
    "scrolled": true
   },
   "outputs": [],
   "source": [
    "!cat data/heart-disease.names"
   ]
  },
  {
   "cell_type": "code",
   "execution_count": null,
   "id": "ed9fb472",
   "metadata": {
    "jupyter": {
     "source_hidden": true
    }
   },
   "outputs": [],
   "source": []
  },
  {
   "cell_type": "code",
   "execution_count": null,
   "id": "78f6f61d",
   "metadata": {},
   "outputs": [],
   "source": []
  },
  {
   "cell_type": "markdown",
   "id": "307890d5-62a3-4fbb-ba94-d040331e370e",
   "metadata": {},
   "source": [
    "## Age"
   ]
  },
  {
   "cell_type": "code",
   "execution_count": null,
   "id": "abb33e2e-e95a-4b15-9b9a-77d631a26fde",
   "metadata": {},
   "outputs": [],
   "source": [
    "df"
   ]
  },
  {
   "cell_type": "code",
   "execution_count": null,
   "id": "7ba669b4-212b-4e06-b9e6-f8e76dbf9454",
   "metadata": {
    "scrolled": true
   },
   "outputs": [],
   "source": [
    "df.age.describe()"
   ]
  },
  {
   "cell_type": "code",
   "execution_count": null,
   "id": "5e482508-f301-4d07-afb1-8ca96bcc3afa",
   "metadata": {
    "scrolled": true
   },
   "outputs": [],
   "source": [
    "df.age.hist(figsize=(8,3))"
   ]
  },
  {
   "cell_type": "code",
   "execution_count": null,
   "id": "13008bcb-d9cb-4ce6-99af-36f0203da77e",
   "metadata": {},
   "outputs": [],
   "source": [
    "df.age.dtype"
   ]
  },
  {
   "cell_type": "code",
   "execution_count": null,
   "id": "ca5ee6e5-4c8f-4c5d-8ef7-88c78b52af4d",
   "metadata": {
    "scrolled": true
   },
   "outputs": [],
   "source": [
    "(df\n",
    " .astype({'age': 'int8[pyarrow]'})\n",
    ")"
   ]
  },
  {
   "cell_type": "code",
   "execution_count": null,
   "id": "5973959f",
   "metadata": {},
   "outputs": [],
   "source": []
  },
  {
   "cell_type": "code",
   "execution_count": null,
   "id": "c2ebb82b",
   "metadata": {},
   "outputs": [],
   "source": []
  },
  {
   "cell_type": "code",
   "execution_count": null,
   "id": "52a805f2",
   "metadata": {},
   "outputs": [],
   "source": []
  },
  {
   "cell_type": "markdown",
   "id": "90c52284-a529-4cbe-ae39-97095fcc221f",
   "metadata": {},
   "source": [
    "## Sex"
   ]
  },
  {
   "cell_type": "code",
   "execution_count": null,
   "id": "3fea4181",
   "metadata": {
    "scrolled": true
   },
   "outputs": [],
   "source": [
    "(df\n",
    " .astype({'age': 'int8[pyarrow]'})\n",
    " .sex\n",
    " .value_counts()\n",
    ")"
   ]
  },
  {
   "cell_type": "code",
   "execution_count": null,
   "id": "be31a482",
   "metadata": {
    "scrolled": true
   },
   "outputs": [],
   "source": [
    "# Expect an error here (for demonstration purposes)\n",
    "# ArrowInvalid: Could not convert 'male' with type str: tried to convert to double\n",
    "\n",
    "(df\n",
    " .astype({'age': 'int8[pyarrow]'})\n",
    " .assign(sex=df.sex.replace({1.0: 'male', 0.0:'female'})) \n",
    ")"
   ]
  },
  {
   "cell_type": "code",
   "execution_count": null,
   "id": "17aa3575",
   "metadata": {},
   "outputs": [],
   "source": [
    "(df\n",
    " .astype({'age': 'int8[pyarrow]'})\n",
    " .assign(sex=df.sex.astype('string[pyarrow]').replace({'1.0': 'male', '0.0':'female'}))\n",
    ")"
   ]
  },
  {
   "cell_type": "code",
   "execution_count": null,
   "id": "ca62577a",
   "metadata": {
    "scrolled": true
   },
   "outputs": [],
   "source": [
    "(df\n",
    " .astype({'age': 'int8[pyarrow]'})\n",
    " .assign(sex=df.sex.astype('string[pyarrow]').replace({'1.0': 'male', '0.0':'female'}))\n",
    " .sex\n",
    " .value_counts()\n",
    ")"
   ]
  },
  {
   "cell_type": "code",
   "execution_count": null,
   "id": "477f9911-b5b6-4803-99ec-8f1c06b7fe08",
   "metadata": {},
   "outputs": [],
   "source": []
  },
  {
   "cell_type": "code",
   "execution_count": null,
   "id": "d39bf9fc",
   "metadata": {},
   "outputs": [],
   "source": []
  },
  {
   "cell_type": "code",
   "execution_count": null,
   "id": "82ba74d4",
   "metadata": {},
   "outputs": [],
   "source": []
  },
  {
   "cell_type": "markdown",
   "id": "000a66f9-56b5-4dd9-b74f-b8acb06229ef",
   "metadata": {},
   "source": [
    "## CP - Chest Pain\n",
    "- Value 1: typical angina\n",
    "- Value 2: atypical angina\n",
    "- Value 3: non-anginal pain\n",
    "- Value 4: asymptomatic"
   ]
  },
  {
   "cell_type": "code",
   "execution_count": null,
   "id": "4e6a0bc6",
   "metadata": {},
   "outputs": [],
   "source": [
    "(df\n",
    " .astype({'age': 'int8[pyarrow]'})\n",
    " .assign(sex=df.sex.astype('string[pyarrow]').replace({'1.0': 'male', '0.0':'female'}))\n",
    " .cp\n",
    ")"
   ]
  },
  {
   "cell_type": "code",
   "execution_count": null,
   "id": "a1085707",
   "metadata": {
    "scrolled": true
   },
   "outputs": [],
   "source": [
    "(df\n",
    " .astype({'age': 'int8[pyarrow]', 'cp': 'int8[pyarrow]'})\n",
    " .assign(sex=df.sex.astype('string[pyarrow]').replace({'1.0': 'male', '0.0':'female'}))\n",
    ")"
   ]
  },
  {
   "cell_type": "code",
   "execution_count": null,
   "id": "4ae90e74",
   "metadata": {},
   "outputs": [],
   "source": []
  },
  {
   "cell_type": "code",
   "execution_count": null,
   "id": "bc97567e",
   "metadata": {},
   "outputs": [],
   "source": []
  },
  {
   "cell_type": "code",
   "execution_count": null,
   "id": "55d80bea",
   "metadata": {},
   "outputs": [],
   "source": []
  },
  {
   "cell_type": "markdown",
   "id": "f1687bb1-baca-4107-8391-414f0bb9ba3f",
   "metadata": {},
   "source": [
    "## trestbps - Resting Blood Pressure"
   ]
  },
  {
   "cell_type": "code",
   "execution_count": null,
   "id": "d8e00f26",
   "metadata": {},
   "outputs": [],
   "source": [
    "(df\n",
    " .astype({'age': 'int8[pyarrow]', 'cp': 'int8[pyarrow]'})\n",
    " .assign(sex=df.sex.astype('string[pyarrow]').replace({'1.0': 'male', '0.0':'female'}))\n",
    " .trestbps\n",
    " .describe()\n",
    ")"
   ]
  },
  {
   "cell_type": "code",
   "execution_count": null,
   "id": "32ff1656",
   "metadata": {},
   "outputs": [],
   "source": [
    "(df\n",
    " .astype({'age': 'int8[pyarrow]', 'cp': 'int8[pyarrow]'})\n",
    " .assign(sex=df.sex.astype('string[pyarrow]').replace({'1.0': 'male', '0.0':'female'}))\n",
    " .trestbps\n",
    " .value_counts()\n",
    ")"
   ]
  },
  {
   "cell_type": "code",
   "execution_count": null,
   "id": "5822c2a1",
   "metadata": {
    "scrolled": true
   },
   "outputs": [],
   "source": [
    "(df\n",
    " .astype({'age': 'int8[pyarrow]', 'cp': 'int8[pyarrow]'})\n",
    " .assign(sex=df.sex.astype('string[pyarrow]').replace({'1.0': 'male', '0.0':'female'}),\n",
    "         trestbps=df.trestbps.replace('?', None).astype('uint8[pyarrow]'))\n",
    ")"
   ]
  },
  {
   "cell_type": "code",
   "execution_count": null,
   "id": "5d1938a2",
   "metadata": {
    "scrolled": true
   },
   "outputs": [],
   "source": [
    "(df\n",
    " .astype({'age': 'int8[pyarrow]', 'cp': 'int8[pyarrow]'})\n",
    " .assign(sex=df.sex.astype('string[pyarrow]').replace({'1.0': 'male', '0.0':'female'}),\n",
    "         trestbps=df.trestbps.replace('?', None).astype('string[pyarrow]').astype('uint8[pyarrow]'))\n",
    ")"
   ]
  },
  {
   "cell_type": "code",
   "execution_count": null,
   "id": "b7d2fcc8",
   "metadata": {
    "scrolled": true
   },
   "outputs": [],
   "source": [
    "(df\n",
    " .astype({'age': 'int8[pyarrow]', 'cp': 'int8[pyarrow]'})\n",
    " .assign(sex=df.sex.astype('string[pyarrow]').replace({'1.0': 'male', '0.0':'female'}),\n",
    "        trestbps=df.trestbps\n",
    "         .replace('?', np.nan)\n",
    "         .astype('string[pyarrow]')\n",
    "         .astype('float[pyarrow]')\n",
    "         .astype('int16[pyarrow]')\n",
    "        ) \n",
    ")"
   ]
  },
  {
   "cell_type": "code",
   "execution_count": null,
   "id": "c2b126fb",
   "metadata": {
    "scrolled": true
   },
   "outputs": [],
   "source": [
    "(df\n",
    " .astype({'age': 'int8[pyarrow]', 'cp': 'int8[pyarrow]'})\n",
    " .assign(sex=df.sex.astype('string[pyarrow]').replace({'1.0': 'male', '0.0':'female'}),\n",
    "        trestbps=df.trestbps\n",
    "         .replace('?', np.nan)\n",
    "         .astype('string[pyarrow]')\n",
    "         .astype('float[pyarrow]')\n",
    "         .astype('int16[pyarrow]')\n",
    "        )\n",
    " .trestbps\n",
    " .describe()\n",
    ")"
   ]
  },
  {
   "cell_type": "code",
   "execution_count": null,
   "id": "bf201ed3-504b-4c0d-96a8-e659bed7252f",
   "metadata": {},
   "outputs": [],
   "source": []
  },
  {
   "cell_type": "markdown",
   "id": "33391fd0-9b1a-419f-89e2-fb5392339de0",
   "metadata": {},
   "source": [
    "## chol - serum cholestoral (mg/dl)"
   ]
  },
  {
   "cell_type": "code",
   "execution_count": null,
   "id": "ac8b017b",
   "metadata": {
    "scrolled": true
   },
   "outputs": [],
   "source": [
    "(df\n",
    " .astype({'age': 'int8[pyarrow]', 'cp': 'int8[pyarrow]'})\n",
    " .assign(sex=df.sex.astype('string[pyarrow]').replace({'1.0': 'male', '0.0':'female'}),\n",
    "        trestbps=df.trestbps\n",
    "         .replace('?', np.nan)\n",
    "         .astype('string[pyarrow]')\n",
    "         .astype('float[pyarrow]')\n",
    "         .astype('int16[pyarrow]')\n",
    "        )\n",
    " .chol\n",
    " .describe()\n",
    ")"
   ]
  },
  {
   "cell_type": "code",
   "execution_count": null,
   "id": "e8c47a21",
   "metadata": {},
   "outputs": [],
   "source": [
    "(df\n",
    " .astype({'age': 'int8[pyarrow]', 'cp': 'int8[pyarrow]'})\n",
    " .assign(sex=df.sex.astype('string[pyarrow]').replace({'1.0': 'male', '0.0':'female'}),\n",
    "        trestbps=df.trestbps\n",
    "         .replace('?', np.nan)\n",
    "         .astype('string[pyarrow]')\n",
    "         .astype('float[pyarrow]')\n",
    "         .astype('int16[pyarrow]')\n",
    "        )\n",
    " .chol\n",
    " .value_counts()\n",
    ")"
   ]
  },
  {
   "cell_type": "code",
   "execution_count": null,
   "id": "57786131",
   "metadata": {
    "scrolled": true
   },
   "outputs": [],
   "source": [
    "def remove_question(df, col, dtype='int8[pyarrow]'):\n",
    "    return (df\n",
    "            [col]\n",
    "            .replace('?', np.nan)\n",
    "            .astype('string[pyarrow]')\n",
    "            .astype('float[pyarrow]')\n",
    "            .astype(dtype)   \n",
    "           )\n",
    "\n",
    "(df\n",
    " .astype({'age': 'int8[pyarrow]', 'cp': 'int8[pyarrow]'})\n",
    " .assign(sex=df.sex.astype('string[pyarrow]').replace({'1.0': 'male', '0.0':'female'}),\n",
    "        trestbps=lambda df_: remove_question(df_, \n",
    "                            'trestbps', dtype='int16[pyarrow]'),\n",
    "        chol=lambda df_: remove_question(df_, \n",
    "                            'chol', dtype='int16[pyarrow]')\n",
    "        )\n",
    " .chol\n",
    " .value_counts()\n",
    ")"
   ]
  },
  {
   "cell_type": "code",
   "execution_count": null,
   "id": "8dda148c",
   "metadata": {
    "lines_to_next_cell": 0,
    "scrolled": true
   },
   "outputs": [],
   "source": [
    "def remove_question(df, col, dtype='int8[pyarrow]'):\n",
    "    return (df\n",
    "            [col]\n",
    "            .replace('?', np.nan)\n",
    "            .astype('string[pyarrow]')\n",
    "            .astype('float[pyarrow]')\n",
    "            .astype(dtype)   \n",
    "           )\n",
    "\n",
    "(df\n",
    " .astype({'age': 'int8[pyarrow]', 'cp': 'int8[pyarrow]'})\n",
    " .assign(sex=df.sex.astype('string[pyarrow]').replace({'1.0': 'male', '0.0':'female'}),\n",
    "        trestbps=lambda df_: remove_question(df_, \n",
    "                            'trestbps', dtype='int16[pyarrow]'),\n",
    "        chol=lambda df_: remove_question(df_, \n",
    "                            'chol', dtype='int16[pyarrow]')\n",
    "        )\n",
    " .chol\n",
    " .hist(bins=100, figsize=(8,3))\n",
    ")"
   ]
  },
  {
   "cell_type": "code",
   "execution_count": null,
   "id": "d4c5ff50",
   "metadata": {
    "lines_to_next_cell": 0,
    "scrolled": true
   },
   "outputs": [],
   "source": [
    "def remove_question(df, col, dtype='int8[pyarrow]'):\n",
    "    return (df\n",
    "            [col]\n",
    "            .replace('?', np.nan)\n",
    "            .astype('string[pyarrow]')\n",
    "            .astype('float[pyarrow]')\n",
    "            .astype(dtype)   \n",
    "           )\n",
    "\n",
    "(df\n",
    " .astype({'age': 'int8[pyarrow]', 'cp': 'int8[pyarrow]'})\n",
    " .assign(sex=df.sex.astype('string[pyarrow]').replace({'1.0': 'male', '0.0':'female'}),\n",
    "        trestbps=lambda df_: remove_question(df_, \n",
    "                            'trestbps', dtype='int16[pyarrow]'),\n",
    "        chol=lambda df_: remove_question(df_, \n",
    "                            'chol', dtype='int16[pyarrow]')\n",
    "        )\n",
    " .chol\n",
    " .isna()\n",
    " .sum()\n",
    ")"
   ]
  },
  {
   "cell_type": "code",
   "execution_count": null,
   "id": "2649e344-b226-448c-8089-5e655c6ce818",
   "metadata": {},
   "outputs": [],
   "source": []
  },
  {
   "cell_type": "code",
   "execution_count": null,
   "id": "d90c72a3",
   "metadata": {},
   "outputs": [],
   "source": []
  },
  {
   "cell_type": "code",
   "execution_count": null,
   "id": "fdff7119",
   "metadata": {
    "lines_to_next_cell": 2
   },
   "outputs": [],
   "source": []
  },
  {
   "cell_type": "markdown",
   "id": "f28c0acd-4a47-4650-9661-699108413c77",
   "metadata": {},
   "source": [
    "## fbs - Fasting blood sugar (> 120 mg/dl)"
   ]
  },
  {
   "cell_type": "code",
   "execution_count": null,
   "id": "48afb439",
   "metadata": {
    "scrolled": true
   },
   "outputs": [],
   "source": [
    "def remove_question(df, col, dtype='int8[pyarrow]'):\n",
    "    return (df\n",
    "            [col]\n",
    "            .replace('?', np.nan)\n",
    "            .astype('string[pyarrow]')\n",
    "            .astype('float[pyarrow]')\n",
    "            .astype(dtype)   \n",
    "           )\n",
    "\n",
    "(df\n",
    " .astype({'age': 'int8[pyarrow]', 'cp': 'int8[pyarrow]'})\n",
    " .assign(sex=df.sex.astype('string[pyarrow]').replace({'1.0': 'male', '0.0':'female'}),\n",
    "        trestbps=lambda df_: remove_question(df_, \n",
    "                            'trestbps', dtype='int16[pyarrow]'),\n",
    "        chol=lambda df_: remove_question(df_, \n",
    "                            'chol', dtype='int16[pyarrow]')\n",
    "        )\n",
    " .fbs\n",
    " .describe()\n",
    ")"
   ]
  },
  {
   "cell_type": "code",
   "execution_count": null,
   "id": "54850a3c",
   "metadata": {
    "scrolled": true
   },
   "outputs": [],
   "source": [
    "def remove_question(df, col, dtype='int8[pyarrow]'):\n",
    "    return (df\n",
    "            [col]\n",
    "            .replace('?', np.nan)\n",
    "            .astype('string[pyarrow]')\n",
    "            .astype('float[pyarrow]')\n",
    "            .astype(dtype)   \n",
    "           )\n",
    "\n",
    "(df\n",
    " .astype({'age': 'int8[pyarrow]', 'cp': 'int8[pyarrow]'})\n",
    " .assign(sex=df.sex.astype('string[pyarrow]').replace({'1.0': 'male', '0.0':'female'}),\n",
    "        trestbps=lambda df_: remove_question(df_, \n",
    "                            'trestbps', dtype='int16[pyarrow]'),\n",
    "        chol=lambda df_: remove_question(df_, \n",
    "                            'chol', dtype='int16[pyarrow]')\n",
    "        )\n",
    " .fbs\n",
    " .value_counts()\n",
    ")"
   ]
  },
  {
   "cell_type": "code",
   "execution_count": null,
   "id": "d89c5978",
   "metadata": {
    "lines_to_next_cell": 0,
    "scrolled": true
   },
   "outputs": [],
   "source": [
    "def remove_question(df, col, dtype='int8[pyarrow]'):\n",
    "    return (df\n",
    "            [col]\n",
    "            .replace('?', np.nan)\n",
    "            .astype('string[pyarrow]')\n",
    "            .astype('float[pyarrow]')\n",
    "            .astype(dtype)   \n",
    "           )\n",
    "\n",
    "(df\n",
    " .astype({'age': 'int8[pyarrow]', 'cp': 'int8[pyarrow]'})\n",
    " .assign(sex=df.sex.astype('string[pyarrow]').replace({'1.0': 'male', '0.0':'female'}),\n",
    "        trestbps=lambda df_: remove_question(df_, \n",
    "                            'trestbps', dtype='int16[pyarrow]'),\n",
    "        chol=lambda df_: remove_question(df_, \n",
    "                            'chol', dtype='int16[pyarrow]'),\n",
    "        fbs=lambda df_: remove_question(df_, \n",
    "                            'fbs', dtype='bool[pyarrow]')         \n",
    "        )\n",
    " .fbs\n",
    " .value_counts(dropna=False)\n",
    ")"
   ]
  },
  {
   "cell_type": "code",
   "execution_count": null,
   "id": "ceb6a4c8-1e78-490a-8a42-6841b61df275",
   "metadata": {},
   "outputs": [],
   "source": []
  },
  {
   "cell_type": "code",
   "execution_count": null,
   "id": "2d444719-ddef-4d83-aff4-2498864aa48d",
   "metadata": {
    "lines_to_next_cell": 2
   },
   "outputs": [],
   "source": []
  },
  {
   "cell_type": "markdown",
   "id": "45052c00-813a-4d36-bea1-c77dbdcf05e8",
   "metadata": {},
   "source": [
    "## restecg - resting electrocardiographic results\n",
    "- Value 0: normal\n",
    "- Value 1: having ST-T wave abnormality (T wave inversions and/or ST \n",
    "          elevation or depression of > 0.05 mV)\n",
    "- Value 2: showing probable or definite left ventricular hypertrophy\n",
    "          by Estes' criteria"
   ]
  },
  {
   "cell_type": "code",
   "execution_count": null,
   "id": "7c334b3e",
   "metadata": {
    "scrolled": true
   },
   "outputs": [],
   "source": [
    "def remove_question(df, col, dtype='int8[pyarrow]'):\n",
    "    return (df\n",
    "            [col]\n",
    "            .replace('?', np.nan)\n",
    "            .astype('string[pyarrow]')\n",
    "            .astype('float[pyarrow]')\n",
    "            .astype(dtype)   \n",
    "           )\n",
    "\n",
    "(df\n",
    " .astype({'age': 'int8[pyarrow]', 'cp': 'int8[pyarrow]'})\n",
    " .assign(sex=df.sex.astype('string[pyarrow]').replace({'1.0': 'male', '0.0':'female'}),\n",
    "        trestbps=lambda df_: remove_question(df_, \n",
    "                            'trestbps', dtype='int16[pyarrow]'),\n",
    "        chol=lambda df_: remove_question(df_, \n",
    "                            'chol', dtype='int16[pyarrow]'),\n",
    "        fbs=lambda df_: remove_question(df_, \n",
    "                            'fbs', dtype='bool[pyarrow]')         \n",
    "        )\n",
    " .restecg\n",
    " .value_counts()\n",
    ")"
   ]
  },
  {
   "cell_type": "code",
   "execution_count": null,
   "id": "290f98ea",
   "metadata": {
    "lines_to_next_cell": 0,
    "scrolled": true
   },
   "outputs": [],
   "source": [
    "def remove_question(df, col, dtype='int8[pyarrow]'):\n",
    "    return (df\n",
    "            [col]\n",
    "            .replace('?', np.nan)\n",
    "            .astype('string[pyarrow]')\n",
    "            .astype('float[pyarrow]')\n",
    "            .astype(dtype)   \n",
    "           )\n",
    "\n",
    "(df\n",
    " .astype({'age': 'int8[pyarrow]', 'cp': 'int8[pyarrow]'})\n",
    " .assign(sex=df.sex.astype('string[pyarrow]').replace({'1.0': 'male', '0.0':'female'}),\n",
    "        trestbps=lambda df_: remove_question(df_, \n",
    "                            'trestbps', dtype='int16[pyarrow]'),\n",
    "        chol=lambda df_: remove_question(df_, \n",
    "                            'chol', dtype='int16[pyarrow]'),\n",
    "        fbs=lambda df_: remove_question(df_, \n",
    "                            'fbs', dtype='bool[pyarrow]'),         \n",
    "        restecg=lambda df_: remove_question(df_, \n",
    "                            'restecg', dtype='int8[pyarrow]')         \n",
    "        )\n",
    " .restecg\n",
    " .value_counts()\n",
    ")"
   ]
  },
  {
   "cell_type": "code",
   "execution_count": null,
   "id": "c77ecd98-464a-4b6d-abe6-e16ebecf2875",
   "metadata": {},
   "outputs": [],
   "source": []
  },
  {
   "cell_type": "code",
   "execution_count": null,
   "id": "6a9c8263-9aee-4849-9a06-6eb6a1ed8e87",
   "metadata": {
    "lines_to_next_cell": 2
   },
   "outputs": [],
   "source": []
  },
  {
   "cell_type": "markdown",
   "id": "4207cbd8-fb89-4990-a217-a16de34da87c",
   "metadata": {},
   "source": [
    "## thalach - maximum heart rate achieved"
   ]
  },
  {
   "cell_type": "code",
   "execution_count": null,
   "id": "f4624bf6",
   "metadata": {
    "scrolled": true
   },
   "outputs": [],
   "source": [
    "def remove_question(df, col, dtype='int8[pyarrow]'):\n",
    "    return (df\n",
    "            [col]\n",
    "            .replace('?', np.nan)\n",
    "            .astype('string[pyarrow]')\n",
    "            .astype('float[pyarrow]')\n",
    "            .astype(dtype)   \n",
    "           )\n",
    "\n",
    "(df\n",
    " .astype({'age': 'int8[pyarrow]', 'cp': 'int8[pyarrow]'})\n",
    " .assign(sex=df.sex.astype('string[pyarrow]').replace({'1.0': 'male', '0.0':'female'}),\n",
    "        trestbps=lambda df_: remove_question(df_, \n",
    "                            'trestbps', dtype='int16[pyarrow]'),\n",
    "        chol=lambda df_: remove_question(df_, \n",
    "                            'chol', dtype='int16[pyarrow]'),\n",
    "        fbs=lambda df_: remove_question(df_, \n",
    "                            'fbs', dtype='bool[pyarrow]'),         \n",
    "        restecg=lambda df_: remove_question(df_, \n",
    "                            'restecg', dtype='int8[pyarrow]')         \n",
    "        )\n",
    " .thalach\n",
    " .value_counts()\n",
    ")"
   ]
  },
  {
   "cell_type": "code",
   "execution_count": null,
   "id": "5747da31",
   "metadata": {
    "lines_to_next_cell": 0
   },
   "outputs": [],
   "source": [
    "def remove_question(df, col, dtype='int8[pyarrow]'):\n",
    "    return (df\n",
    "            [col]\n",
    "            .replace('?', np.nan)\n",
    "            .astype('string[pyarrow]')\n",
    "            .astype('float[pyarrow]')\n",
    "            .astype(dtype)   \n",
    "           )\n",
    "\n",
    "(df\n",
    " .astype({'age': 'int8[pyarrow]', 'cp': 'int8[pyarrow]'})\n",
    " .assign(sex=df.sex.astype('string[pyarrow]').replace({'1.0': 'male', '0.0':'female'}),\n",
    "        trestbps=lambda df_: remove_question(df_, \n",
    "                            'trestbps', dtype='int16[pyarrow]'),\n",
    "        chol=lambda df_: remove_question(df_, \n",
    "                            'chol', dtype='int16[pyarrow]'),\n",
    "        fbs=lambda df_: remove_question(df_, \n",
    "                            'fbs', dtype='bool[pyarrow]'),         \n",
    "        restecg=lambda df_: remove_question(df_, \n",
    "                            'restecg', dtype='int8[pyarrow]'),\n",
    "        thalach=lambda df_: remove_question(df_, \n",
    "                            'thalach', dtype='int16[pyarrow]'),\n",
    "         \n",
    "        )\n",
    " .thalach\n",
    " .value_counts()\n",
    ")"
   ]
  },
  {
   "cell_type": "code",
   "execution_count": null,
   "id": "50133e91-38b9-4354-bcfb-0faf8589372d",
   "metadata": {},
   "outputs": [],
   "source": []
  },
  {
   "cell_type": "code",
   "execution_count": null,
   "id": "961b93ed-dd7b-4bd5-a592-2a285d51a703",
   "metadata": {
    "lines_to_next_cell": 2
   },
   "outputs": [],
   "source": []
  },
  {
   "cell_type": "markdown",
   "id": "85adcd4d-247a-4f5f-8d8b-2b19ae699d1b",
   "metadata": {},
   "source": [
    "## exang - exercise induced angina 1 - yes 0 - no"
   ]
  },
  {
   "cell_type": "code",
   "execution_count": null,
   "id": "847becd9",
   "metadata": {},
   "outputs": [],
   "source": [
    "def remove_question(df, col, dtype='int8[pyarrow]'):\n",
    "    return (df\n",
    "            [col]\n",
    "            .replace('?', np.nan)\n",
    "            .astype('string[pyarrow]')\n",
    "            .astype('float[pyarrow]')\n",
    "            .astype(dtype)   \n",
    "           )\n",
    "\n",
    "(df\n",
    " .astype({'age': 'int8[pyarrow]', 'cp': 'int8[pyarrow]'})\n",
    " .assign(sex=df.sex.astype('string[pyarrow]').replace({'1.0': 'male', '0.0':'female'}),\n",
    "        trestbps=lambda df_: remove_question(df_, \n",
    "                            'trestbps', dtype='int16[pyarrow]'),\n",
    "        chol=lambda df_: remove_question(df_, \n",
    "                            'chol', dtype='int16[pyarrow]'),\n",
    "        fbs=lambda df_: remove_question(df_, \n",
    "                            'fbs', dtype='bool[pyarrow]'),         \n",
    "        restecg=lambda df_: remove_question(df_, \n",
    "                            'restecg', dtype='int8[pyarrow]'),\n",
    "        thalach=lambda df_: remove_question(df_, \n",
    "                            'thalach', dtype='int16[pyarrow]'),\n",
    "         \n",
    "        )\n",
    " .exang\n",
    " .value_counts()\n",
    ")"
   ]
  },
  {
   "cell_type": "code",
   "execution_count": null,
   "id": "e7ad2202",
   "metadata": {
    "lines_to_next_cell": 0
   },
   "outputs": [],
   "source": [
    "def remove_question(df, col, dtype='int8[pyarrow]'):\n",
    "    return (df\n",
    "            [col]\n",
    "            .replace('?', np.nan)\n",
    "            .astype('string[pyarrow]')\n",
    "            .astype('float[pyarrow]')\n",
    "            .astype(dtype)   \n",
    "           )\n",
    "\n",
    "(df\n",
    " .astype({'age': 'int8[pyarrow]', 'cp': 'int8[pyarrow]'})\n",
    " .assign(sex=df.sex.astype('string[pyarrow]').replace({'1.0': 'male', '0.0':'female'}),\n",
    "        trestbps=lambda df_: remove_question(df_, \n",
    "                            'trestbps', dtype='int16[pyarrow]'),\n",
    "        chol=lambda df_: remove_question(df_, \n",
    "                            'chol', dtype='int16[pyarrow]'),\n",
    "        fbs=lambda df_: remove_question(df_, \n",
    "                            'fbs', dtype='bool[pyarrow]'),         \n",
    "        restecg=lambda df_: remove_question(df_, \n",
    "                            'restecg', dtype='int8[pyarrow]'),\n",
    "        thalach=lambda df_: remove_question(df_, \n",
    "                            'thalach', dtype='int16[pyarrow]'),\n",
    "        exang=lambda df_: remove_question(df_, \n",
    "                            'exang', dtype='bool[pyarrow]'),         \n",
    "         \n",
    "         \n",
    "        )\n",
    " .exang\n",
    " .value_counts()\n",
    ")"
   ]
  },
  {
   "cell_type": "code",
   "execution_count": null,
   "id": "94176b7c-bf60-4f16-aaea-16346a136c38",
   "metadata": {},
   "outputs": [],
   "source": []
  },
  {
   "cell_type": "code",
   "execution_count": null,
   "id": "02a84e31-7cc2-4c62-aaa4-d65489daf038",
   "metadata": {},
   "outputs": [],
   "source": []
  },
  {
   "cell_type": "code",
   "execution_count": null,
   "id": "66cca39a-d9f2-4220-82b2-263679a30efb",
   "metadata": {
    "lines_to_next_cell": 2
   },
   "outputs": [],
   "source": []
  },
  {
   "cell_type": "markdown",
   "id": "c74860e4-3525-4560-addb-cc6b6ab61b8b",
   "metadata": {},
   "source": [
    "## oldpeak - ST depression induced by exercise relative to rest"
   ]
  },
  {
   "cell_type": "code",
   "execution_count": null,
   "id": "54aeedc4",
   "metadata": {},
   "outputs": [],
   "source": [
    "def remove_question(df, col, dtype='int8[pyarrow]'):\n",
    "    return (df\n",
    "            [col]\n",
    "            .replace('?', np.nan)\n",
    "            .astype('string[pyarrow]')\n",
    "            .astype('float[pyarrow]')\n",
    "            .astype(dtype)   \n",
    "           )\n",
    "\n",
    "(df\n",
    " .astype({'age': 'int8[pyarrow]', 'cp': 'int8[pyarrow]'})\n",
    " .assign(sex=df.sex.astype('string[pyarrow]').replace({'1.0': 'male', '0.0':'female'}),\n",
    "        trestbps=lambda df_: remove_question(df_, \n",
    "                            'trestbps', dtype='int16[pyarrow]'),\n",
    "        chol=lambda df_: remove_question(df_, \n",
    "                            'chol', dtype='int16[pyarrow]'),\n",
    "        fbs=lambda df_: remove_question(df_, \n",
    "                            'fbs', dtype='bool[pyarrow]'),         \n",
    "        restecg=lambda df_: remove_question(df_, \n",
    "                            'restecg', dtype='int8[pyarrow]'),\n",
    "        thalach=lambda df_: remove_question(df_, \n",
    "                            'thalach', dtype='int16[pyarrow]'),\n",
    "        exang=lambda df_: remove_question(df_, \n",
    "                            'exang', dtype='bool[pyarrow]'),         \n",
    "         \n",
    "         \n",
    "        )\n",
    " .oldpeak\n",
    " .value_counts()\n",
    ")"
   ]
  },
  {
   "cell_type": "code",
   "execution_count": null,
   "id": "9399414e",
   "metadata": {
    "lines_to_next_cell": 0,
    "scrolled": true
   },
   "outputs": [],
   "source": [
    "def remove_question(df, col, dtype='int8[pyarrow]'):\n",
    "    res = (df\n",
    "            [col]\n",
    "            .replace('?', np.nan)\n",
    "            .astype('string[pyarrow]')\n",
    "            .astype('float[pyarrow]')\n",
    "          )\n",
    "    if dtype == 'float[pyarrow]':\n",
    "        return res\n",
    "    else:\n",
    "        return (res\n",
    "            .astype(dtype)   \n",
    "           )\n",
    "\n",
    "(df\n",
    " .astype({'age': 'int8[pyarrow]', 'cp': 'int8[pyarrow]'})\n",
    " .assign(sex=df.sex.astype('string[pyarrow]').replace({'1.0': 'male', '0.0':'female'}),\n",
    "        trestbps=lambda df_: remove_question(df_, \n",
    "                            'trestbps', dtype='int16[pyarrow]'),\n",
    "        chol=lambda df_: remove_question(df_, \n",
    "                            'chol', dtype='int16[pyarrow]'),\n",
    "        fbs=lambda df_: remove_question(df_, \n",
    "                            'fbs', dtype='bool[pyarrow]'),         \n",
    "        restecg=lambda df_: remove_question(df_, \n",
    "                            'restecg', dtype='int8[pyarrow]'),\n",
    "        thalach=lambda df_: remove_question(df_, \n",
    "                            'thalach', dtype='int16[pyarrow]'),\n",
    "        exang=lambda df_: remove_question(df_, \n",
    "                            'exang', dtype='bool[pyarrow]'),         \n",
    "        oldpeak=lambda df_: remove_question(df_, \n",
    "                            'oldpeak', dtype='float[pyarrow]'),           \n",
    "        )\n",
    " .oldpeak\n",
    " .value_counts()\n",
    ")"
   ]
  },
  {
   "cell_type": "code",
   "execution_count": null,
   "id": "1adcaaa7-2efb-444f-844d-ca728b7e1463",
   "metadata": {},
   "outputs": [],
   "source": []
  },
  {
   "cell_type": "code",
   "execution_count": null,
   "id": "19b7063e-e253-424f-b891-d9bb8cdcdd12",
   "metadata": {},
   "outputs": [],
   "source": []
  },
  {
   "cell_type": "code",
   "execution_count": null,
   "id": "3b536218-36fc-4e2b-a997-f8bacaf3b8f4",
   "metadata": {},
   "outputs": [],
   "source": []
  },
  {
   "cell_type": "code",
   "execution_count": null,
   "id": "a338dbdb-19d6-4663-8cff-ca344d6329fa",
   "metadata": {
    "lines_to_next_cell": 2
   },
   "outputs": [],
   "source": []
  },
  {
   "cell_type": "markdown",
   "id": "05dbe746-982c-4f04-8297-016253c48d9e",
   "metadata": {},
   "source": [
    "## slope - the slope of the peak exercise ST segment\n",
    "- Value 1: upsloping\n",
    "- Value 2: flat\n",
    "- Value 3: downsloping"
   ]
  },
  {
   "cell_type": "code",
   "execution_count": null,
   "id": "8f96ad71",
   "metadata": {
    "scrolled": true
   },
   "outputs": [],
   "source": [
    "def remove_question(df, col, dtype='int8[pyarrow]'):\n",
    "    res = (df\n",
    "            [col]\n",
    "            .replace('?', np.nan)\n",
    "            .astype('string[pyarrow]')\n",
    "            .astype('float[pyarrow]')\n",
    "          )\n",
    "    if dtype == 'float[pyarrow]':\n",
    "        return res\n",
    "    else:\n",
    "        return (res\n",
    "            .astype(dtype)   \n",
    "           )\n",
    "\n",
    "(df\n",
    " .astype({'age': 'int8[pyarrow]', 'cp': 'int8[pyarrow]'})\n",
    " .assign(sex=df.sex.astype('string[pyarrow]').replace({'1.0': 'male', '0.0':'female'}),\n",
    "        trestbps=lambda df_: remove_question(df_, \n",
    "                            'trestbps', dtype='int16[pyarrow]'),\n",
    "        chol=lambda df_: remove_question(df_, \n",
    "                            'chol', dtype='int16[pyarrow]'),\n",
    "        fbs=lambda df_: remove_question(df_, \n",
    "                            'fbs', dtype='bool[pyarrow]'),         \n",
    "        restecg=lambda df_: remove_question(df_, \n",
    "                            'restecg', dtype='int8[pyarrow]'),\n",
    "        thalach=lambda df_: remove_question(df_, \n",
    "                            'thalach', dtype='int16[pyarrow]'),\n",
    "        exang=lambda df_: remove_question(df_, \n",
    "                            'exang', dtype='bool[pyarrow]'),         \n",
    "        oldpeak=lambda df_: remove_question(df_, \n",
    "                            'oldpeak', dtype='float[pyarrow]'),           \n",
    "        )\n",
    " .slope\n",
    " .value_counts()\n",
    ")"
   ]
  },
  {
   "cell_type": "code",
   "execution_count": null,
   "id": "4eed4ec8",
   "metadata": {
    "lines_to_next_cell": 0,
    "scrolled": true
   },
   "outputs": [],
   "source": [
    "def remove_question(df, col, dtype='int8[pyarrow]'):\n",
    "    res = (df\n",
    "            [col]\n",
    "            .replace('?', np.nan)\n",
    "            .astype('string[pyarrow]')\n",
    "            .astype('float[pyarrow]')\n",
    "          )\n",
    "    if dtype == 'float[pyarrow]':\n",
    "        return res\n",
    "    else:\n",
    "        return (res\n",
    "            .astype(dtype)   \n",
    "           )\n",
    "\n",
    "(df\n",
    " .astype({'age': 'int8[pyarrow]', 'cp': 'int8[pyarrow]'})\n",
    " .assign(sex=df.sex.astype('string[pyarrow]').replace({'1.0': 'male', '0.0':'female'}),\n",
    "        trestbps=lambda df_: remove_question(df_, \n",
    "                            'trestbps', dtype='int16[pyarrow]'),\n",
    "        chol=lambda df_: remove_question(df_, \n",
    "                            'chol', dtype='int16[pyarrow]'),\n",
    "        fbs=lambda df_: remove_question(df_, \n",
    "                            'fbs', dtype='bool[pyarrow]'),         \n",
    "        restecg=lambda df_: remove_question(df_, \n",
    "                            'restecg', dtype='int8[pyarrow]'),\n",
    "        thalach=lambda df_: remove_question(df_, \n",
    "                            'thalach', dtype='int16[pyarrow]'),\n",
    "        exang=lambda df_: remove_question(df_, \n",
    "                            'exang', dtype='bool[pyarrow]'),         \n",
    "        oldpeak=lambda df_: remove_question(df_, \n",
    "                            'oldpeak', dtype='float[pyarrow]'),   \n",
    "        slope=lambda df_: remove_question(df_, \n",
    "                            'slope', dtype='int8[pyarrow]'),\n",
    "        )\n",
    " .slope\n",
    " .value_counts()\n",
    ")"
   ]
  },
  {
   "cell_type": "code",
   "execution_count": null,
   "id": "b206a7ae-fc5b-4437-87ee-508f7de15354",
   "metadata": {},
   "outputs": [],
   "source": []
  },
  {
   "cell_type": "code",
   "execution_count": null,
   "id": "c30c449f-bc6e-4bef-9188-f7fd45ec3111",
   "metadata": {},
   "outputs": [],
   "source": []
  },
  {
   "cell_type": "code",
   "execution_count": null,
   "id": "b43d22d7-01b4-40f8-b4aa-e1670b86bb96",
   "metadata": {},
   "outputs": [],
   "source": []
  },
  {
   "cell_type": "code",
   "execution_count": null,
   "id": "b0146dcd-32e0-4a73-a09f-20b100a646ff",
   "metadata": {
    "lines_to_next_cell": 2
   },
   "outputs": [],
   "source": []
  },
  {
   "cell_type": "markdown",
   "id": "a4e5abbe-2bf1-4a20-bf06-23aba814fc5b",
   "metadata": {},
   "source": [
    "## ca - number of major vessels (0-3) colored by flouroscopy"
   ]
  },
  {
   "cell_type": "code",
   "execution_count": null,
   "id": "0b75647f",
   "metadata": {
    "scrolled": true
   },
   "outputs": [],
   "source": [
    "def remove_question(df, col, dtype='int8[pyarrow]'):\n",
    "    res = (df\n",
    "            [col]\n",
    "            .replace('?', np.nan)\n",
    "            .astype('string[pyarrow]')\n",
    "            .astype('float[pyarrow]')\n",
    "          )\n",
    "    if dtype == 'float[pyarrow]':\n",
    "        return res\n",
    "    else:\n",
    "        return (res\n",
    "            .astype(dtype)   \n",
    "           )\n",
    "\n",
    "(df\n",
    " .astype({'age': 'int8[pyarrow]', 'cp': 'int8[pyarrow]'})\n",
    " .assign(sex=df.sex.astype('string[pyarrow]').replace({'1.0': 'male', '0.0':'female'}),\n",
    "        trestbps=lambda df_: remove_question(df_, \n",
    "                            'trestbps', dtype='int16[pyarrow]'),\n",
    "        chol=lambda df_: remove_question(df_, \n",
    "                            'chol', dtype='int16[pyarrow]'),\n",
    "        fbs=lambda df_: remove_question(df_, \n",
    "                            'fbs', dtype='bool[pyarrow]'),         \n",
    "        restecg=lambda df_: remove_question(df_, \n",
    "                            'restecg', dtype='int8[pyarrow]'),\n",
    "        thalach=lambda df_: remove_question(df_, \n",
    "                            'thalach', dtype='int16[pyarrow]'),\n",
    "        exang=lambda df_: remove_question(df_, \n",
    "                            'exang', dtype='bool[pyarrow]'),         \n",
    "        oldpeak=lambda df_: remove_question(df_, \n",
    "                            'oldpeak', dtype='float[pyarrow]'),   \n",
    "        slope=lambda df_: remove_question(df_, \n",
    "                            'slope', dtype='int8[pyarrow]'),\n",
    "        )\n",
    " .ca\n",
    " .value_counts()\n",
    ")"
   ]
  },
  {
   "cell_type": "code",
   "execution_count": null,
   "id": "84405b42",
   "metadata": {
    "lines_to_next_cell": 0,
    "scrolled": true
   },
   "outputs": [],
   "source": [
    "def remove_question(df, col, dtype='int8[pyarrow]'):\n",
    "    res = (df\n",
    "            [col]\n",
    "            .replace('?', np.nan)\n",
    "            .astype('string[pyarrow]')\n",
    "            .astype('float[pyarrow]')\n",
    "          )\n",
    "    if dtype == 'float[pyarrow]':\n",
    "        return res\n",
    "    else:\n",
    "        return (res\n",
    "            .astype(dtype)   \n",
    "           )\n",
    "\n",
    "(df\n",
    " .astype({'age': 'int8[pyarrow]', 'cp': 'int8[pyarrow]'})\n",
    " .assign(sex=df.sex.astype('string[pyarrow]').replace({'1.0': 'male', '0.0':'female'}),\n",
    "        trestbps=lambda df_: remove_question(df_, \n",
    "                            'trestbps', dtype='int16[pyarrow]'),\n",
    "        chol=lambda df_: remove_question(df_, \n",
    "                            'chol', dtype='int16[pyarrow]'),\n",
    "        fbs=lambda df_: remove_question(df_, \n",
    "                            'fbs', dtype='bool[pyarrow]'),         \n",
    "        restecg=lambda df_: remove_question(df_, \n",
    "                            'restecg', dtype='int8[pyarrow]'),\n",
    "        thalach=lambda df_: remove_question(df_, \n",
    "                            'thalach', dtype='int16[pyarrow]'),\n",
    "        exang=lambda df_: remove_question(df_, \n",
    "                            'exang', dtype='bool[pyarrow]'),         \n",
    "        oldpeak=lambda df_: remove_question(df_, \n",
    "                            'oldpeak', dtype='float[pyarrow]'),   \n",
    "        slope=lambda df_: remove_question(df_, \n",
    "                            'slope', dtype='int8[pyarrow]'),\n",
    "        ca=lambda df_: remove_question(df_, \n",
    "                            'ca', dtype='int8[pyarrow]'),\n",
    "        )\n",
    " .ca\n",
    " .value_counts()\n",
    ")"
   ]
  },
  {
   "cell_type": "code",
   "execution_count": null,
   "id": "6359242e-522f-48d7-84ab-5788d4daef7d",
   "metadata": {},
   "outputs": [],
   "source": []
  },
  {
   "cell_type": "code",
   "execution_count": null,
   "id": "075bba2e-8c8c-4395-ad2a-0a39827a5a71",
   "metadata": {},
   "outputs": [],
   "source": []
  },
  {
   "cell_type": "code",
   "execution_count": null,
   "id": "476bcef1-1b7e-4df5-b256-acefafd31f03",
   "metadata": {},
   "outputs": [],
   "source": []
  },
  {
   "cell_type": "code",
   "execution_count": null,
   "id": "7c941593-0eb0-4456-95a2-c2f1d5334cd6",
   "metadata": {
    "lines_to_next_cell": 2
   },
   "outputs": [],
   "source": []
  },
  {
   "cell_type": "markdown",
   "id": "9f71d118-4ac4-44ce-9440-3b3b7a9cb031",
   "metadata": {},
   "source": [
    "## thal \n",
    "\n",
    "- 3 = normal; 6 = fixed defect; 7 = reversable defect"
   ]
  },
  {
   "cell_type": "code",
   "execution_count": null,
   "id": "b0a7952a",
   "metadata": {
    "scrolled": true
   },
   "outputs": [],
   "source": [
    "def remove_question(df, col, dtype='int8[pyarrow]'):\n",
    "    res = (df\n",
    "            [col]\n",
    "            .replace('?', np.nan)\n",
    "            .astype('string[pyarrow]')\n",
    "            .astype('float[pyarrow]')\n",
    "          )\n",
    "    if dtype == 'float[pyarrow]':\n",
    "        return res\n",
    "    else:\n",
    "        return (res\n",
    "            .astype(dtype)   \n",
    "           )\n",
    "\n",
    "(df\n",
    " .astype({'age': 'int8[pyarrow]', 'cp': 'int8[pyarrow]'})\n",
    " .assign(sex=df.sex.astype('string[pyarrow]').replace({'1.0': 'male', '0.0':'female'}),\n",
    "        trestbps=lambda df_: remove_question(df_, \n",
    "                            'trestbps', dtype='int16[pyarrow]'),\n",
    "        chol=lambda df_: remove_question(df_, \n",
    "                            'chol', dtype='int16[pyarrow]'),\n",
    "        fbs=lambda df_: remove_question(df_, \n",
    "                            'fbs', dtype='bool[pyarrow]'),         \n",
    "        restecg=lambda df_: remove_question(df_, \n",
    "                            'restecg', dtype='int8[pyarrow]'),\n",
    "        thalach=lambda df_: remove_question(df_, \n",
    "                            'thalach', dtype='int16[pyarrow]'),\n",
    "        exang=lambda df_: remove_question(df_, \n",
    "                            'exang', dtype='bool[pyarrow]'),         \n",
    "        oldpeak=lambda df_: remove_question(df_, \n",
    "                            'oldpeak', dtype='float[pyarrow]'),   \n",
    "        slope=lambda df_: remove_question(df_, \n",
    "                            'slope', dtype='int8[pyarrow]'),\n",
    "        ca=lambda df_: remove_question(df_, \n",
    "                            'ca', dtype='int8[pyarrow]'),\n",
    "        )\n",
    " .thal\n",
    " .value_counts()\n",
    ")"
   ]
  },
  {
   "cell_type": "code",
   "execution_count": null,
   "id": "9b758254",
   "metadata": {
    "lines_to_next_cell": 0,
    "scrolled": true
   },
   "outputs": [],
   "source": [
    "def remove_question(df, col, dtype='int8[pyarrow]'):\n",
    "    res = (df\n",
    "            [col]\n",
    "            .replace('?', np.nan)\n",
    "            .astype('string[pyarrow]')\n",
    "            .astype('float[pyarrow]')\n",
    "          )\n",
    "    if dtype == 'float[pyarrow]':\n",
    "        return res\n",
    "    else:\n",
    "        return (res\n",
    "            .astype(dtype)   \n",
    "           )\n",
    "\n",
    "(df\n",
    " .astype({'age': 'int8[pyarrow]', 'cp': 'int8[pyarrow]'})\n",
    " .assign(sex=df.sex.astype('string[pyarrow]').replace({'1.0': 'male', '0.0':'female'}),\n",
    "        trestbps=lambda df_: remove_question(df_, \n",
    "                            'trestbps', dtype='int16[pyarrow]'),\n",
    "        chol=lambda df_: remove_question(df_, \n",
    "                            'chol', dtype='int16[pyarrow]'),\n",
    "        fbs=lambda df_: remove_question(df_, \n",
    "                            'fbs', dtype='bool[pyarrow]'),         \n",
    "        restecg=lambda df_: remove_question(df_, \n",
    "                            'restecg', dtype='int8[pyarrow]'),\n",
    "        thalach=lambda df_: remove_question(df_, \n",
    "                            'thalach', dtype='int16[pyarrow]'),\n",
    "        exang=lambda df_: remove_question(df_, \n",
    "                            'exang', dtype='bool[pyarrow]'),         \n",
    "        oldpeak=lambda df_: remove_question(df_, \n",
    "                            'oldpeak', dtype='float[pyarrow]'),   \n",
    "        slope=lambda df_: remove_question(df_, \n",
    "                            'slope', dtype='int8[pyarrow]'),\n",
    "        ca=lambda df_: remove_question(df_, \n",
    "                            'ca', dtype='int8[pyarrow]'),\n",
    "        thal=lambda df_: (df_.thal.replace({'3.0': '3',\n",
    "                                            '7.0': '7', '6.0': '6'})\n",
    "                             .replace({'?': 'missing', '3': 'normal',\n",
    "                                       '6': 'fixed', '7': 'reversible'}))\n",
    "        )\n",
    " .thal\n",
    " .value_counts()\n",
    ")"
   ]
  },
  {
   "cell_type": "code",
   "execution_count": null,
   "id": "0f803c89-b475-401c-8738-dc3ba93c8f45",
   "metadata": {},
   "outputs": [],
   "source": []
  },
  {
   "cell_type": "code",
   "execution_count": null,
   "id": "badc74f8-e683-4c94-be19-75a174b194b0",
   "metadata": {},
   "outputs": [],
   "source": []
  },
  {
   "cell_type": "code",
   "execution_count": null,
   "id": "459fb9c7-95d9-42f1-8227-770ab7b7c025",
   "metadata": {},
   "outputs": [],
   "source": []
  },
  {
   "cell_type": "code",
   "execution_count": null,
   "id": "d7f58200-2732-4e6f-a512-a181283d2c0e",
   "metadata": {},
   "outputs": [],
   "source": []
  },
  {
   "cell_type": "code",
   "execution_count": null,
   "id": "76e6b011-0496-4595-8e98-bc589cc5287b",
   "metadata": {
    "lines_to_next_cell": 2
   },
   "outputs": [],
   "source": []
  },
  {
   "cell_type": "markdown",
   "id": "513bc3ba-cbc2-4ef9-9f42-8b6623c02060",
   "metadata": {},
   "source": [
    "## num\n",
    ": diagnosis of heart disease (angiographic disease status)\n",
    "- Value 0: < 50% diameter narrowing\n",
    "- Value 1: > 50% diameter narrowing\n",
    "(in any major vessel: attributes 59 through 68 are vessels)"
   ]
  },
  {
   "cell_type": "code",
   "execution_count": null,
   "id": "e6cd4e31",
   "metadata": {
    "scrolled": true
   },
   "outputs": [],
   "source": [
    "def remove_question(df, col, dtype='int8[pyarrow]'):\n",
    "    res = (df\n",
    "            [col]\n",
    "            .replace('?', np.nan)\n",
    "            .astype('string[pyarrow]')\n",
    "            .astype('float[pyarrow]')\n",
    "          )\n",
    "    if dtype == 'float[pyarrow]':\n",
    "        return res\n",
    "    else:\n",
    "        return (res\n",
    "            .astype(dtype)   \n",
    "           )\n",
    "\n",
    "(df\n",
    " .astype({'age': 'int8[pyarrow]', 'cp': 'int8[pyarrow]'})\n",
    " .assign(sex=df.sex.astype('string[pyarrow]').replace({'1.0': 'male', '0.0':'female'}),\n",
    "        trestbps=lambda df_: remove_question(df_, \n",
    "                            'trestbps', dtype='int16[pyarrow]'),\n",
    "        chol=lambda df_: remove_question(df_, \n",
    "                            'chol', dtype='int16[pyarrow]'),\n",
    "        fbs=lambda df_: remove_question(df_, \n",
    "                            'fbs', dtype='bool[pyarrow]'),         \n",
    "        restecg=lambda df_: remove_question(df_, \n",
    "                            'restecg', dtype='int8[pyarrow]'),\n",
    "        thalach=lambda df_: remove_question(df_, \n",
    "                            'thalach', dtype='int16[pyarrow]'),\n",
    "        exang=lambda df_: remove_question(df_, \n",
    "                            'exang', dtype='bool[pyarrow]'),         \n",
    "        oldpeak=lambda df_: remove_question(df_, \n",
    "                            'oldpeak', dtype='float[pyarrow]'),   \n",
    "        slope=lambda df_: remove_question(df_, \n",
    "                            'slope', dtype='int8[pyarrow]'),\n",
    "        ca=lambda df_: remove_question(df_, \n",
    "                            'ca', dtype='int8[pyarrow]'),\n",
    "        thal=lambda df_: (df_.thal.replace({'3.0': '3',\n",
    "                                            '7.0': '7', '6.0': '6'})\n",
    "                             .replace({'?': 'missing', '3': 'normal',\n",
    "                                       '6': 'fixed', '7': 'reversible'}))\n",
    "        )\n",
    " .num\n",
    " .value_counts()\n",
    ")"
   ]
  },
  {
   "cell_type": "code",
   "execution_count": null,
   "id": "bc439a46",
   "metadata": {
    "scrolled": true
   },
   "outputs": [],
   "source": [
    "def remove_question(df, col, dtype='int8[pyarrow]'):\n",
    "    res = (df\n",
    "            [col]\n",
    "            .replace('?', np.nan)\n",
    "            .astype('string[pyarrow]')\n",
    "            .astype('float[pyarrow]')\n",
    "          )\n",
    "    if dtype == 'float[pyarrow]':\n",
    "        return res\n",
    "    else:\n",
    "        return (res\n",
    "            .astype(dtype)   \n",
    "           )\n",
    "\n",
    "(df\n",
    " .astype({'age': 'int8[pyarrow]', 'cp': 'int8[pyarrow]'})\n",
    " .assign(sex=df.sex.astype('string[pyarrow]').replace({'1.0': 'male', '0.0':'female'}),\n",
    "        trestbps=lambda df_: remove_question(df_, \n",
    "                            'trestbps', dtype='int16[pyarrow]'),\n",
    "        chol=lambda df_: remove_question(df_, \n",
    "                            'chol', dtype='int16[pyarrow]'),\n",
    "        fbs=lambda df_: remove_question(df_, \n",
    "                            'fbs', dtype='bool[pyarrow]'),         \n",
    "        restecg=lambda df_: remove_question(df_, \n",
    "                            'restecg', dtype='int8[pyarrow]'),\n",
    "        thalach=lambda df_: remove_question(df_, \n",
    "                            'thalach', dtype='int16[pyarrow]'),\n",
    "        exang=lambda df_: remove_question(df_, \n",
    "                            'exang', dtype='bool[pyarrow]'),         \n",
    "        oldpeak=lambda df_: remove_question(df_, \n",
    "                            'oldpeak', dtype='float[pyarrow]'),   \n",
    "        slope=lambda df_: remove_question(df_, \n",
    "                            'slope', dtype='int8[pyarrow]'),\n",
    "        ca=lambda df_: remove_question(df_, \n",
    "                            'ca', dtype='int8[pyarrow]'),\n",
    "        thal=lambda df_: (df_.thal.replace({'3.0': '3',\n",
    "                                            '7.0': '7', '6.0': '6'})\n",
    "                             .replace({'?': 'missing', '3': 'normal',\n",
    "                                       '6': 'fixed', '7': 'reversible'}))\n",
    "        )\n",
    " .num\n",
    " .dtype\n",
    ")"
   ]
  },
  {
   "cell_type": "code",
   "execution_count": null,
   "id": "ce4457e8",
   "metadata": {
    "lines_to_next_cell": 0,
    "scrolled": true
   },
   "outputs": [],
   "source": [
    "def remove_question(df, col, dtype='int8[pyarrow]'):\n",
    "    res = (df\n",
    "            [col]\n",
    "            .replace('?', np.nan)\n",
    "            .astype('string[pyarrow]')\n",
    "            .astype('float[pyarrow]')\n",
    "          )\n",
    "    if dtype == 'float[pyarrow]':\n",
    "        return res\n",
    "    else:\n",
    "        return (res\n",
    "            .astype(dtype)   \n",
    "           )\n",
    "\n",
    "(df\n",
    " .astype({'age': 'int8[pyarrow]', 'cp': 'int8[pyarrow]',\n",
    "         'num': 'int8[pyarrow]'})\n",
    " .assign(sex=df.sex.astype('string[pyarrow]').replace({'1.0': 'male', '0.0':'female'}),\n",
    "        trestbps=lambda df_: remove_question(df_, \n",
    "                            'trestbps', dtype='int16[pyarrow]'),\n",
    "        chol=lambda df_: remove_question(df_, \n",
    "                            'chol', dtype='int16[pyarrow]'),\n",
    "        fbs=lambda df_: remove_question(df_, \n",
    "                            'fbs', dtype='bool[pyarrow]'),         \n",
    "        restecg=lambda df_: remove_question(df_, \n",
    "                            'restecg', dtype='int8[pyarrow]'),\n",
    "        thalach=lambda df_: remove_question(df_, \n",
    "                            'thalach', dtype='int16[pyarrow]'),\n",
    "        exang=lambda df_: remove_question(df_, \n",
    "                            'exang', dtype='bool[pyarrow]'),         \n",
    "        oldpeak=lambda df_: remove_question(df_, \n",
    "                            'oldpeak', dtype='float[pyarrow]'),   \n",
    "        slope=lambda df_: remove_question(df_, \n",
    "                            'slope', dtype='int8[pyarrow]'),\n",
    "        ca=lambda df_: remove_question(df_, \n",
    "                            'ca', dtype='int8[pyarrow]'),\n",
    "        thal=lambda df_: (df_.thal.replace({'3.0': '3',\n",
    "                                            '7.0': '7', '6.0': '6'})\n",
    "                             .replace({'?': 'missing', '3': 'normal',\n",
    "                                       '6': 'fixed', '7': 'reversible'}))\n",
    "        )\n",
    " .num\n",
    " .dtype\n",
    ")"
   ]
  },
  {
   "cell_type": "code",
   "execution_count": null,
   "id": "e25cd09b-a8c2-4d07-86fb-2170a4c70c9c",
   "metadata": {},
   "outputs": [],
   "source": []
  },
  {
   "cell_type": "code",
   "execution_count": null,
   "id": "ddb3bf2b-c861-47c0-be0a-fca2b6ca25c3",
   "metadata": {
    "lines_to_next_cell": 2
   },
   "outputs": [],
   "source": []
  },
  {
   "cell_type": "markdown",
   "id": "488f1011-8eab-46c7-9714-372801d5d2b7",
   "metadata": {},
   "source": [
    "## Memory Usage"
   ]
  },
  {
   "cell_type": "code",
   "execution_count": null,
   "id": "00208713-9ef6-4b3c-85b6-df77cd1f9b08",
   "metadata": {},
   "outputs": [],
   "source": [
    "df.memory_usage(deep=True).sum()"
   ]
  },
  {
   "cell_type": "code",
   "execution_count": null,
   "id": "8cb7aeb5",
   "metadata": {
    "scrolled": true
   },
   "outputs": [],
   "source": [
    "def remove_question(df, col, dtype='int8[pyarrow]'):\n",
    "    res = (df\n",
    "            [col]\n",
    "            .replace('?', np.nan)\n",
    "            .astype('string[pyarrow]')\n",
    "            .astype('float[pyarrow]')\n",
    "          )\n",
    "    if dtype == 'float[pyarrow]':\n",
    "        return res\n",
    "    else:\n",
    "        return (res\n",
    "            .astype(dtype)   \n",
    "           )\n",
    "\n",
    "(df\n",
    " .astype({'age': 'int8[pyarrow]', 'cp': 'int8[pyarrow]',\n",
    "         'num': 'int8[pyarrow]'})\n",
    " .assign(sex=df.sex.astype('string[pyarrow]').replace({'1.0': 'male', '0.0':'female'}),\n",
    "        trestbps=lambda df_: remove_question(df_, \n",
    "                            'trestbps', dtype='int16[pyarrow]'),\n",
    "        chol=lambda df_: remove_question(df_, \n",
    "                            'chol', dtype='int16[pyarrow]'),\n",
    "        fbs=lambda df_: remove_question(df_, \n",
    "                            'fbs', dtype='bool[pyarrow]'),         \n",
    "        restecg=lambda df_: remove_question(df_, \n",
    "                            'restecg', dtype='int8[pyarrow]'),\n",
    "        thalach=lambda df_: remove_question(df_, \n",
    "                            'thalach', dtype='int16[pyarrow]'),\n",
    "        exang=lambda df_: remove_question(df_, \n",
    "                            'exang', dtype='bool[pyarrow]'),         \n",
    "        oldpeak=lambda df_: remove_question(df_, \n",
    "                            'oldpeak', dtype='float[pyarrow]'),   \n",
    "        slope=lambda df_: remove_question(df_, \n",
    "                            'slope', dtype='int8[pyarrow]'),\n",
    "        ca=lambda df_: remove_question(df_, \n",
    "                            'ca', dtype='int8[pyarrow]'),\n",
    "        thal=lambda df_: (df_.thal.replace({'3.0': '3',\n",
    "                                            '7.0': '7', '6.0': '6'})\n",
    "                             .replace({'?': 'missing', '3': 'normal',\n",
    "                                       '6': 'fixed', '7': 'reversible'}))\n",
    "        )\n",
    " .memory_usage(deep=True)\n",
    " .sum()\n",
    ")"
   ]
  },
  {
   "cell_type": "code",
   "execution_count": null,
   "id": "ec1a12a4",
   "metadata": {},
   "outputs": [],
   "source": [
    "391_668 / 34_614"
   ]
  },
  {
   "cell_type": "code",
   "execution_count": null,
   "id": "4dbb811b-bbce-45c4-813c-2b5851d2a010",
   "metadata": {},
   "outputs": [],
   "source": []
  },
  {
   "cell_type": "code",
   "execution_count": null,
   "id": "7a32c8e8-5e72-4827-bb32-a38caf15b92c",
   "metadata": {},
   "outputs": [],
   "source": []
  },
  {
   "cell_type": "code",
   "execution_count": null,
   "id": "381da7f2-2814-436f-be85-0c5f01fe48ed",
   "metadata": {},
   "outputs": [],
   "source": []
  },
  {
   "cell_type": "markdown",
   "id": "278ce227-c4d5-47f6-93a4-d6a3c48105dd",
   "metadata": {},
   "source": [
    "## Make a Function"
   ]
  },
  {
   "cell_type": "code",
   "execution_count": null,
   "id": "23b50856-49fc-44a0-953a-0df79923ae1f",
   "metadata": {
    "scrolled": true
   },
   "outputs": [],
   "source": [
    "import pandas as pd\n",
    "import numpy as np\n",
    "\n",
    "import glob\n",
    "\n",
    "names = ['age', 'sex', 'cp', 'trestbps', 'chol', 'fbs', 'restecg', 'thalach', 'exang', 'oldpeak', 'slope', 'ca', 'thal', 'num']\n",
    "\n",
    "files = glob.glob('data/processed*.data')\n",
    "df = pd.concat([pd.read_csv(f, sep=',',names=names,\n",
    "                           dtype_backend='pyarrow', engine='pyarrow')\n",
    "                for f in files], axis='index', ignore_index=True)\n",
    "df"
   ]
  },
  {
   "cell_type": "code",
   "execution_count": null,
   "id": "e5d4b269",
   "metadata": {
    "scrolled": true
   },
   "outputs": [],
   "source": [
    "def remove_question(df, col, dtype='int8[pyarrow]'):\n",
    "    res = (df\n",
    "            [col]\n",
    "            .replace('?', np.nan)\n",
    "            .astype('string[pyarrow]')\n",
    "            .astype('float[pyarrow]')\n",
    "          )\n",
    "    if dtype == 'float[pyarrow]':\n",
    "        return res\n",
    "    else:\n",
    "        return (res\n",
    "            .astype(dtype)   \n",
    "           )\n",
    "\n",
    "def tweak_heart(df):\n",
    "    return (df\n",
    "     .astype({'age': 'int8[pyarrow]', 'cp': 'int8[pyarrow]',\n",
    "             'num': 'int8[pyarrow]'})\n",
    "     .assign(sex=df.sex.astype('string[pyarrow]').replace({'1.0': 'male', '0.0':'female'}),\n",
    "            trestbps=lambda df_: remove_question(df_, \n",
    "                                'trestbps', dtype='int16[pyarrow]'),\n",
    "            chol=lambda df_: remove_question(df_, \n",
    "                                'chol', dtype='int16[pyarrow]'),\n",
    "            fbs=lambda df_: remove_question(df_, \n",
    "                                'fbs', dtype='bool[pyarrow]'),         \n",
    "            restecg=lambda df_: remove_question(df_, \n",
    "                                'restecg', dtype='int8[pyarrow]'),\n",
    "            thalach=lambda df_: remove_question(df_, \n",
    "                                'thalach', dtype='int16[pyarrow]'),\n",
    "            exang=lambda df_: remove_question(df_, \n",
    "                                'exang', dtype='bool[pyarrow]'),         \n",
    "            oldpeak=lambda df_: remove_question(df_, \n",
    "                                'oldpeak', dtype='float[pyarrow]'),   \n",
    "            slope=lambda df_: remove_question(df_, \n",
    "                                'slope', dtype='int8[pyarrow]'),\n",
    "            ca=lambda df_: remove_question(df_, \n",
    "                                'ca', dtype='int8[pyarrow]'),\n",
    "            thal=lambda df_: (df_.thal.replace({'3.0': '3',\n",
    "                                                '7.0': '7', '6.0': '6'})\n",
    "                                 .replace({'?': 'missing', '3': 'normal',\n",
    "                                           '6': 'fixed', '7': 'reversible'}))\n",
    "            )\n",
    "    )\n",
    "\n",
    "tweak_heart(df)"
   ]
  },
  {
   "cell_type": "code",
   "execution_count": null,
   "id": "bf8c4cc6",
   "metadata": {
    "scrolled": true
   },
   "outputs": [],
   "source": [
    "# This doesn't work!\n",
    "def remove_question(df, col, dtype='int8[pyarrow]'):\n",
    "    res = (df\n",
    "            [col]\n",
    "            .replace('?', np.nan)\n",
    "            .astype('string[pyarrow]')\n",
    "            .astype('float[pyarrow]')\n",
    "          )\n",
    "    if dtype == 'float[pyarrow]':\n",
    "        return res\n",
    "    else:\n",
    "        return (res\n",
    "            .astype(dtype)   \n",
    "           )\n",
    "\n",
    "types = {'trestbps':'int16[pyarrow]',\n",
    "         'chol':'int16[pyarrow]',\n",
    "         'fbs':'bool[pyarrow]',         \n",
    "         'restecg':'int8[pyarrow]',                  \n",
    "         'thalach':'int16[pyarrow]',                           \n",
    "         'exang':'bool[pyarrow]', \n",
    "         'oldpeak':'float[pyarrow]',          \n",
    "         'slope':'int8[pyarrow]',\n",
    "         'ca':'int8[pyarrow]',         \n",
    "        }\n",
    "    \n",
    "def tweak_heart(df):\n",
    "    return (df\n",
    "     .astype({'age': 'int8[pyarrow]', 'cp': 'int8[pyarrow]',\n",
    "             'num': 'int8[pyarrow]'})\n",
    "     .assign(sex=df.sex.astype('string[pyarrow]').replace({'1.0': 'male', '0.0':'female'}),\n",
    "            **{col: lambda df_: remove_question(df_, col, dtype)\n",
    "              for col, dtype in types.items()},\n",
    "            thal=lambda df_: (df_.thal.replace({'3.0': '3',\n",
    "                                                '7.0': '7', '6.0': '6'})\n",
    "                                 .replace({'?': 'missing', '3': 'normal',\n",
    "                                           '6': 'fixed', '7': 'reversible'}))\n",
    "            )\n",
    "    )\n",
    "\n",
    "tweak_heart(df)"
   ]
  },
  {
   "cell_type": "code",
   "execution_count": null,
   "id": "50433c35",
   "metadata": {
    "scrolled": true
   },
   "outputs": [],
   "source": [
    "# Fix by adding default params to lambda\n",
    "def remove_question(df, col, dtype='int8[pyarrow]'):\n",
    "    res = (df\n",
    "            [col]\n",
    "            .replace('?', np.nan)\n",
    "            .astype('string[pyarrow]')\n",
    "            .astype('float[pyarrow]')\n",
    "          )\n",
    "    if dtype == 'float[pyarrow]':\n",
    "        return res\n",
    "    else:\n",
    "        return (res\n",
    "            .astype(dtype)   \n",
    "           )\n",
    "\n",
    "types = {'trestbps':'int16[pyarrow]',\n",
    "         'chol':'int16[pyarrow]',\n",
    "         'fbs':'bool[pyarrow]',         \n",
    "         'restecg':'int8[pyarrow]',                  \n",
    "         'thalach':'int16[pyarrow]',                           \n",
    "         'exang':'bool[pyarrow]', \n",
    "         'oldpeak':'float[pyarrow]',          \n",
    "         'slope':'int8[pyarrow]',\n",
    "         'ca':'int8[pyarrow]',         \n",
    "        }\n",
    "    \n",
    "def tweak_heart(df):\n",
    "    return (df\n",
    "     .astype({'age': 'int8[pyarrow]', 'cp': 'int8[pyarrow]',\n",
    "             'num': 'int8[pyarrow]'})\n",
    "     .assign(sex=df.sex.astype('string[pyarrow]').replace({'1.0': 'male', '0.0':'female'}),\n",
    "            **{col: (lambda df2_, col=col, dtype=dtype: remove_question(df2_, col, dtype))\n",
    "               for col, dtype in types.items()},\n",
    "            thal=lambda df_: (df_.thal.replace({'3.0': '3',\n",
    "                                                '7.0': '7', '6.0': '6'})\n",
    "                                 .replace({'?': 'missing', '3': 'normal',\n",
    "                                           '6': 'fixed', '7': 'reversible'}))\n",
    "            )\n",
    "    )\n",
    "\n",
    "tweak_heart(df)"
   ]
  },
  {
   "cell_type": "code",
   "execution_count": null,
   "id": "fbc3c655",
   "metadata": {
    "lines_to_next_cell": 0,
    "scrolled": true
   },
   "outputs": [],
   "source": [
    "# Convert ?'s at once\n",
    "types = {'trestbps':'int16[pyarrow]',\n",
    "         'chol':'int16[pyarrow]',\n",
    "         'fbs':'bool[pyarrow]',         \n",
    "         'restecg':'int8[pyarrow]',                  \n",
    "         'thalach':'int16[pyarrow]',                           \n",
    "         'exang':'bool[pyarrow]', \n",
    "         'oldpeak':'float[pyarrow]',          \n",
    "         'slope':'int8[pyarrow]',\n",
    "         'ca':'int8[pyarrow]',         \n",
    "        }\n",
    "    \n",
    "def tweak_heart(df):\n",
    "    return (df\n",
    "     .astype({'age': 'int8[pyarrow]', 'cp': 'int8[pyarrow]',\n",
    "             'num': 'int8[pyarrow]'})\n",
    "     .assign(sex=df.sex.astype('string[pyarrow]').replace({'1.0': 'male', '0.0':'female'}),\n",
    "            #**{col: (lambda df2_, col=col, dtype=dtype: remove_question(df2_, col, dtype))\n",
    "            #   for col, dtype in types.items()},\n",
    "            **(df.loc[:, list(types)].replace('?', np.nan).astype('string[pyarrow]').astype('float[pyarrow]')),\n",
    "            thal=lambda df_: (df_.thal.replace({'3.0': '3',\n",
    "                                                '7.0': '7', '6.0': '6'})\n",
    "                                 .replace({'?': 'missing', '3': 'normal',\n",
    "                                           '6': 'fixed', '7': 'reversible'}))\n",
    "            )\n",
    "     .astype(types)\n",
    "    )\n",
    "\n",
    "tweak_heart(df)"
   ]
  },
  {
   "cell_type": "code",
   "execution_count": null,
   "id": "cfb150b7-7403-4c55-bb0e-303f36b2b010",
   "metadata": {},
   "outputs": [],
   "source": []
  },
  {
   "cell_type": "code",
   "execution_count": null,
   "id": "9bbe7965-5c90-410c-a3e7-dc37f248add0",
   "metadata": {},
   "outputs": [],
   "source": []
  },
  {
   "cell_type": "code",
   "execution_count": null,
   "id": "9135b986-dcbb-4fcc-8b26-604733c48ef5",
   "metadata": {},
   "outputs": [],
   "source": []
  },
  {
   "cell_type": "code",
   "execution_count": null,
   "id": "8d37acd0-4b0a-4290-95e9-b62baf08756c",
   "metadata": {},
   "outputs": [],
   "source": []
  },
  {
   "cell_type": "code",
   "execution_count": null,
   "id": "d8cb4aef-4c81-47a0-900f-ac8b9b0f755a",
   "metadata": {},
   "outputs": [],
   "source": []
  },
  {
   "cell_type": "code",
   "execution_count": null,
   "id": "ed042448-4838-4240-ba11-842afd1847b9",
   "metadata": {},
   "outputs": [],
   "source": []
  },
  {
   "cell_type": "code",
   "execution_count": null,
   "id": "21db9a96",
   "metadata": {},
   "outputs": [],
   "source": []
  }
 ],
 "metadata": {
  "jupytext": {
   "formats": "ipynb,py:light"
  },
  "kernelspec": {
   "display_name": "Python 3 (ipykernel)",
   "language": "python",
   "name": "python3"
  },
  "language_info": {
   "codemirror_mode": {
    "name": "ipython",
    "version": 3
   },
   "file_extension": ".py",
   "mimetype": "text/x-python",
   "name": "python",
   "nbconvert_exporter": "python",
   "pygments_lexer": "ipython3",
   "version": "3.11.6"
  },
  "vscode": {
   "interpreter": {
    "hash": "2a01577db06f90dfcd8a13ffbfc05b48310cbd7ef042271883479819627b09e5"
   }
  }
 },
 "nbformat": 4,
 "nbformat_minor": 5
}
