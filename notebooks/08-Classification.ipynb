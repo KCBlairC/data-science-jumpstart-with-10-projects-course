{
 "cells": [
  {
   "cell_type": "markdown",
   "id": "fe32c6a2",
   "metadata": {},
   "source": [
    "# Simple machine learning with Pandas\n",
    "\n",
    "For this module, we will be exploring simple machine learning techniques using the pandas library. You will learn about:\n",
    "\n",
    "* Prepping data\n",
    "* Exploring data\n",
    "* Cleaning data\n",
    "* Making model\n",
    "* Tuning model\n",
    "* Evaluating model\n",
    " "
   ]
  },
  {
   "cell_type": "markdown",
   "id": "87c6fe42",
   "metadata": {},
   "source": [
    "## Get Data"
   ]
  },
  {
   "cell_type": "code",
   "execution_count": null,
   "id": "20f189a6",
   "metadata": {},
   "outputs": [],
   "source": [
    "# https://archive.ics.uci.edu/ml/datasets/heart+disease\n",
    "import numpy as np\n",
    "import pandas as pd\n",
    "\n",
    "import glob"
   ]
  },
  {
   "cell_type": "code",
   "execution_count": null,
   "id": "bec5c90b",
   "metadata": {},
   "outputs": [],
   "source": [
    "names = ['age', 'sex', 'cp', 'trestbps', 'chol', 'fbs', 'restecg', 'thalach', 'exang', 'oldpeak', 'slope', 'ca', 'thal', 'num']\n",
    "\n",
    "files = glob.glob('data/processed*.data')\n",
    "df = pd.concat([pd.read_csv(f, sep=',',names=names, na_values='?',\n",
    "                            dtype_backend='pyarrow',\n",
    "                           engine='pyarrow')\n",
    "                for f in files], axis='index', ignore_index=True)\n",
    "df"
   ]
  },
  {
   "cell_type": "code",
   "execution_count": null,
   "id": "af7c4097",
   "metadata": {},
   "outputs": [],
   "source": [
    "df.fbs.value_counts()"
   ]
  },
  {
   "cell_type": "code",
   "execution_count": null,
   "id": "d17b0dde",
   "metadata": {},
   "outputs": [],
   "source": [
    "df.dtypes"
   ]
  },
  {
   "cell_type": "code",
   "execution_count": null,
   "id": "d90ec2de",
   "metadata": {},
   "outputs": [],
   "source": [
    "def tweak_heart(df): \n",
    "  return (df\n",
    "   .astype({'age': 'int8[pyarrow]', 'cp': 'int8[pyarrow]', \n",
    "            'chol': 'int16[pyarrow]',\n",
    "            'num': 'int8[pyarrow]', 'trestbps': 'int16[pyarrow]',\n",
    "            'fbs': 'bool[pyarrow]', 'restecg': 'int8[pyarrow]',\n",
    "            'thalach': 'int16[pyarrow]', 'exang': 'bool[pyarrow]',\n",
    "           })\n",
    "   .assign(sex=df.sex\n",
    "                .astype('string[pyarrow]')\n",
    "                .replace({'1.0': 'male', '0.0':'female'}),\n",
    "          thal=(df.thal.astype('string[pyarrow]')\n",
    "                       .replace({'3.0': 'normal',\n",
    "                          '6.0': 'fixed', '7.0': 'reversible'})\n",
    "                       .astype('category')),\n",
    "          slope=(df.slope\n",
    "                .astype('string[pyarrow]')\n",
    "                .replace({'1.0': 'upsloping', '2.0': 'flat',\n",
    "                         '3.0': 'downsloping'})\n",
    "               ),\n",
    "    )\n",
    "  )\n",
    "\n",
    "heart = tweak_heart(df)"
   ]
  },
  {
   "cell_type": "code",
   "execution_count": null,
   "id": "2748bd74",
   "metadata": {},
   "outputs": [],
   "source": [
    "heart"
   ]
  },
  {
   "cell_type": "code",
   "execution_count": null,
   "id": "2c82c2cf",
   "metadata": {},
   "outputs": [],
   "source": [
    "df.memory_usage(deep=True).sum()"
   ]
  },
  {
   "cell_type": "code",
   "execution_count": null,
   "id": "1c82439b",
   "metadata": {},
   "outputs": [],
   "source": [
    "heart.memory_usage(deep=True).sum()"
   ]
  },
  {
   "cell_type": "code",
   "execution_count": null,
   "id": "58a9b4d9",
   "metadata": {},
   "outputs": [],
   "source": []
  },
  {
   "cell_type": "code",
   "execution_count": null,
   "id": "c5234928",
   "metadata": {},
   "outputs": [],
   "source": []
  },
  {
   "cell_type": "markdown",
   "id": "2087b3ad",
   "metadata": {},
   "source": [
    "## Explore Data"
   ]
  },
  {
   "cell_type": "code",
   "execution_count": null,
   "id": "20763f42",
   "metadata": {},
   "outputs": [],
   "source": [
    "(heart\n",
    "    .groupby('num')\n",
    "    .mean(numeric_only=True)\n",
    "    .style\n",
    "    .background_gradient(cmap='RdBu', axis='index')\n",
    ")"
   ]
  },
  {
   "cell_type": "code",
   "execution_count": null,
   "id": "4069892a",
   "metadata": {
    "scrolled": true
   },
   "outputs": [],
   "source": [
    "(heart\n",
    "    .groupby('num')\n",
    "    .mean(numeric_only=True)\n",
    "    .T\n",
    "    .astype('float[pyarrow]')\n",
    "    .style\n",
    "    .background_gradient(cmap='RdBu', axis='columns')\n",
    ")"
   ]
  },
  {
   "cell_type": "code",
   "execution_count": null,
   "id": "c84a2a8a",
   "metadata": {},
   "outputs": [],
   "source": [
    "(heart\n",
    "    .corr(method='spearman', numeric_only=True)\n",
    "    .style\n",
    "    .background_gradient(cmap='RdBu', axis='columns', vmin=-1, vmax=1)\n",
    ")"
   ]
  },
  {
   "cell_type": "code",
   "execution_count": null,
   "id": "0acdb986",
   "metadata": {},
   "outputs": [],
   "source": [
    "heart.plot.scatter(x='num', y='thalach')"
   ]
  },
  {
   "cell_type": "code",
   "execution_count": null,
   "id": "f9add9a2",
   "metadata": {},
   "outputs": [],
   "source": [
    "import numpy as np\n",
    "def jitter(df, col, amount=1):\n",
    "    return df[col] + (np.random.random(len(df)) * amount) - amount /2\n",
    "(heart\n",
    " .assign(numj=lambda df_:jitter(df_, 'num', .8))\n",
    " .plot.scatter(x='numj', y='thalach', alpha=.5)\n",
    ")"
   ]
  },
  {
   "cell_type": "code",
   "execution_count": null,
   "id": "fbf0f508",
   "metadata": {},
   "outputs": [],
   "source": [
    "heart.plot.scatter(x='num', y='cp')"
   ]
  },
  {
   "cell_type": "code",
   "execution_count": null,
   "id": "479f66fb",
   "metadata": {},
   "outputs": [],
   "source": [
    "import numpy as np\n",
    "def jitter(df, col, amount=1):\n",
    "    return df[col] + (np.random.random(len(df)) * amount) - amount /2\n",
    "(heart\n",
    " .assign(numj=lambda df_:jitter(df_, 'num', .8),\n",
    "         cpj=lambda df_:jitter(df_, 'cp', .8))\n",
    " .plot.scatter(x='numj', y='cpj', alpha=.5)\n",
    ")"
   ]
  },
  {
   "cell_type": "code",
   "execution_count": null,
   "id": "ee4d81f4",
   "metadata": {},
   "outputs": [],
   "source": [
    "(heart\n",
    " .groupby('sex')\n",
    " .mean(numeric_only=True)\n",
    " .T\n",
    ")"
   ]
  },
  {
   "cell_type": "code",
   "execution_count": null,
   "id": "b97af42c",
   "metadata": {
    "scrolled": true
   },
   "outputs": [],
   "source": [
    "heart.assign(sex=(heart.sex == 'male').astype('int8[pyarrow]')).corr(numeric_only=True)"
   ]
  },
  {
   "cell_type": "code",
   "execution_count": null,
   "id": "eb3f40e7",
   "metadata": {},
   "outputs": [],
   "source": []
  },
  {
   "cell_type": "code",
   "execution_count": null,
   "id": "d8f7a6ae",
   "metadata": {},
   "outputs": [],
   "source": []
  },
  {
   "cell_type": "markdown",
   "id": "0c88fdfb",
   "metadata": {},
   "source": [
    "## Prepping for ML"
   ]
  },
  {
   "cell_type": "code",
   "execution_count": null,
   "id": "20b8f9aa",
   "metadata": {
    "scrolled": true
   },
   "outputs": [],
   "source": [
    "heart.columns"
   ]
  },
  {
   "cell_type": "code",
   "execution_count": null,
   "id": "08c7d116",
   "metadata": {},
   "outputs": [],
   "source": [
    "heart.num"
   ]
  },
  {
   "cell_type": "code",
   "execution_count": null,
   "id": "f6aec9f3",
   "metadata": {
    "scrolled": true
   },
   "outputs": [],
   "source": [
    "heart.num.value_counts()"
   ]
  },
  {
   "cell_type": "code",
   "execution_count": null,
   "id": "9c1af64f",
   "metadata": {
    "scrolled": true
   },
   "outputs": [],
   "source": [
    "heart.isna()"
   ]
  },
  {
   "cell_type": "code",
   "execution_count": null,
   "id": "c8e54f05",
   "metadata": {},
   "outputs": [],
   "source": [
    "heart.isna().any()"
   ]
  },
  {
   "cell_type": "code",
   "execution_count": null,
   "id": "8d99b92d",
   "metadata": {},
   "outputs": [],
   "source": [
    "heart.isna().sum()"
   ]
  },
  {
   "cell_type": "code",
   "execution_count": null,
   "id": "bfde0605",
   "metadata": {},
   "outputs": [],
   "source": [
    "heart.isna().mean()*100"
   ]
  },
  {
   "cell_type": "code",
   "execution_count": null,
   "id": "adfed96c",
   "metadata": {},
   "outputs": [],
   "source": [
    "heart.num.value_counts(dropna=False)"
   ]
  },
  {
   "cell_type": "code",
   "execution_count": null,
   "id": "9bfb3e1f",
   "metadata": {},
   "outputs": [],
   "source": [
    "heart.dtypes"
   ]
  },
  {
   "cell_type": "code",
   "execution_count": null,
   "id": "5d6c3f28",
   "metadata": {},
   "outputs": [],
   "source": [
    "heart.select_dtypes('int64[pyarrow]')"
   ]
  },
  {
   "cell_type": "code",
   "execution_count": null,
   "id": "6f3ebe27",
   "metadata": {},
   "outputs": [],
   "source": [
    "heart.select_dtypes('number')"
   ]
  },
  {
   "cell_type": "code",
   "execution_count": null,
   "id": "867e53e3",
   "metadata": {
    "scrolled": true
   },
   "outputs": [],
   "source": [
    "import xgboost as xg\n",
    "from sklearn import model_selection\n",
    "\n",
    "X = (heart\n",
    "     .assign(**heart.select_dtypes(object).astype('category'),\n",
    "            # boolean is not supported \n",
    "             **heart.select_dtypes('number').astype(float),\n",
    "            )\n",
    "     .astype({'sex': 'category', 'fbs': float, 'exang': float,\n",
    "             'slope': 'category'})\n",
    "     .drop(columns=['num'])\n",
    "     \n",
    "    )\n",
    "y = heart.num\n",
    "\n",
    "X_train, X_test, y_train, y_test = model_selection.train_test_split(\n",
    "    X, y, stratify=y, random_state=42)\n",
    "\n",
    "xgb = xg.XGBClassifier(enable_categorical=True, tree_method='hist')\n",
    "xgb.fit(X_train, y_train)"
   ]
  },
  {
   "cell_type": "code",
   "execution_count": null,
   "id": "1840189a",
   "metadata": {},
   "outputs": [],
   "source": [
    "xgb.score(X_test, y_test)"
   ]
  },
  {
   "cell_type": "code",
   "execution_count": null,
   "id": "074f0207",
   "metadata": {},
   "outputs": [],
   "source": [
    "xgb.score(X_train, y_train)"
   ]
  },
  {
   "cell_type": "code",
   "execution_count": null,
   "id": "53331401",
   "metadata": {},
   "outputs": [],
   "source": []
  },
  {
   "cell_type": "markdown",
   "id": "2942ec8f",
   "metadata": {},
   "source": [
    "## Tuning the Model"
   ]
  },
  {
   "cell_type": "code",
   "execution_count": null,
   "id": "931aabfd",
   "metadata": {
    "scrolled": true
   },
   "outputs": [],
   "source": [
    "!pip install hyperopt"
   ]
  },
  {
   "cell_type": "code",
   "execution_count": null,
   "id": "46b96eee",
   "metadata": {
    "scrolled": true
   },
   "outputs": [],
   "source": [
    "from hyperopt import fmin, tpe, hp, STATUS_OK, Trials\n",
    "from sklearn.metrics import accuracy_score, roc_auc_score  \n",
    "from sklearn import metrics\n",
    "\n",
    "from typing import Any, Dict, Union\n",
    "\n",
    "def hyperparameter_tuning(space: Dict[str, Union[float, int]], \n",
    "                    X_train: pd.DataFrame, y_train: pd.Series, \n",
    "                    X_test: pd.DataFrame, y_test: pd.Series, \n",
    "                    early_stopping_rounds: int=50,\n",
    "                    metric:callable=accuracy_score) -> Dict[str, Any]:\n",
    "    \"\"\"\n",
    "    Perform hyperparameter tuning for an XGBoost classifier.\n",
    "\n",
    "    This function takes a dictionary of hyperparameters, training \n",
    "    and test data, and an optional value for early stopping rounds, \n",
    "    and returns a dictionary with the loss and model resulting from \n",
    "    the tuning process. The model is trained using the training \n",
    "    data and evaluated on the test data. The loss is computed as \n",
    "    the negative of the accuracy score.\n",
    "\n",
    "    Parameters\n",
    "    ----------\n",
    "    space : Dict[str, Union[float, int]]\n",
    "        A dictionary of hyperparameters for the XGBoost classifier.\n",
    "    X_train : pd.DataFrame\n",
    "        The training data.\n",
    "    y_train : pd.Series\n",
    "        The training target.\n",
    "    X_test : pd.DataFrame\n",
    "        The test data.\n",
    "    y_test : pd.Series\n",
    "        The test target.\n",
    "    early_stopping_rounds : int, optional\n",
    "        The number of early stopping rounds to use. The default value \n",
    "        is 50.\n",
    "    metric : callable\n",
    "        Metric to maximize. Default is accuracy\n",
    "\n",
    "    Returns\n",
    "    -------\n",
    "    Dict[str, Any]\n",
    "        A dictionary with the loss and model resulting from the \n",
    "        tuning process. The loss is a float, and the model is an \n",
    "        XGBoost classifier.\n",
    "    \"\"\"\n",
    "    int_vals = ['max_depth', 'reg_alpha']\n",
    "    space = {k: (int(val) if k in int_vals else val)\n",
    "             for k,val in space.items()}\n",
    "    space['early_stopping_rounds'] = early_stopping_rounds\n",
    "    model = xg.XGBClassifier(**space)\n",
    "    evaluation = [(X_train, y_train),\n",
    "                  (X_test, y_test)]\n",
    "    model.fit(X_train, y_train,\n",
    "              eval_set=evaluation, \n",
    "              verbose=False)    \n",
    "         \n",
    "    pred = model.predict(X_test)\n",
    "    score = metric(y_test, pred)\n",
    "    return {'loss': -score, 'status': STATUS_OK, 'model': model}\n",
    "\n",
    "params = {'random_state': 42}\n",
    "\n",
    "rounds = [#{'scale_pos_weight': hp.uniform('scale_pos_weight', 1, 10),},\n",
    "          {'max_depth': hp.quniform('max_depth', 1, 8, 1),  # tree\n",
    "           'min_child_weight': hp.loguniform('min_child_weight', -2, 3)},\n",
    "          {'subsample': hp.uniform('subsample', 0.5, 1),   # stochastic\n",
    "           'colsample_bytree': hp.uniform('colsample_bytree', 0.5, 1)},\n",
    "\n",
    "          {'reg_alpha': hp.uniform('reg_alpha', 0, 10),\n",
    "            'reg_lambda': hp.uniform('reg_lambda', 1, 10),},\n",
    "          {'gamma': hp.loguniform('gamma', -10, 10)}, # regularization\n",
    "          {'learning_rate': hp.loguniform('learning_rate', -7, 0)} # boosting\n",
    "]\n",
    "\n",
    "all_trials = []\n",
    "for round in rounds:\n",
    "    params = {**params, **round, \n",
    "             'enable_categorical':True, 'tree_method':'hist'}\n",
    "    trials = Trials()\n",
    "    best = fmin(fn=lambda space: hyperparameter_tuning(space, X_train, \n",
    "                                        y_train, X_test, y_test,\n",
    "                                        metric=lambda *args: metrics.f1_score(*args, average='weighted')),            \n",
    "        space=params,           \n",
    "        algo=tpe.suggest,            \n",
    "        max_evals=20,            \n",
    "        trials=trials,\n",
    "    )\n",
    "    params = {**params, **best}\n",
    "    all_trials.append(trials)"
   ]
  },
  {
   "cell_type": "code",
   "execution_count": null,
   "id": "cf1c2e2e",
   "metadata": {},
   "outputs": [],
   "source": [
    "params"
   ]
  },
  {
   "cell_type": "code",
   "execution_count": null,
   "id": "558c59c1",
   "metadata": {
    "scrolled": true
   },
   "outputs": [],
   "source": [
    "params = {'random_state': 42,\n",
    " 'max_depth': 4,\n",
    " 'min_child_weight': 14.29114166877302,\n",
    " 'enable_categorical': True,\n",
    " 'tree_method': 'hist',\n",
    " 'subsample': 0.721322460424803,\n",
    " 'colsample_bytree': 0.5936738818753071,\n",
    " 'reg_alpha': 0.4623525681816598,\n",
    " 'reg_lambda': 6.545829654680657,\n",
    " 'gamma': 0.003379106348942887,\n",
    " 'learning_rate': 0.8040669979502167}\n",
    "xgb_step = xg.XGBClassifier(**params, \n",
    "                            early_stopping_rounds=50,\n",
    "                           n_estimators=2500)\n",
    "xgb_step.fit(X_train, y_train,\n",
    "            eval_set=[(X_train, y_train),\n",
    "                 (X_test, y_test)\n",
    "                ],\n",
    "        verbose=100)"
   ]
  },
  {
   "cell_type": "code",
   "execution_count": null,
   "id": "5f007440",
   "metadata": {
    "scrolled": true
   },
   "outputs": [],
   "source": [
    "xgb_step.score(X_test, y_test)"
   ]
  },
  {
   "cell_type": "code",
   "execution_count": null,
   "id": "aa5743d1",
   "metadata": {
    "scrolled": true
   },
   "outputs": [],
   "source": [
    "xgb.score(X_test, y_test)"
   ]
  },
  {
   "cell_type": "code",
   "execution_count": null,
   "id": "4a333937",
   "metadata": {
    "scrolled": true
   },
   "outputs": [],
   "source": [
    "xgb_step.score(X_train, y_train)"
   ]
  },
  {
   "cell_type": "code",
   "execution_count": null,
   "id": "30b43d91",
   "metadata": {
    "scrolled": true
   },
   "outputs": [],
   "source": [
    "xgb.score(X_train, y_train)"
   ]
  },
  {
   "cell_type": "code",
   "execution_count": null,
   "id": "b1223fb1",
   "metadata": {},
   "outputs": [],
   "source": []
  },
  {
   "cell_type": "markdown",
   "id": "7d42198b",
   "metadata": {},
   "source": [
    "## Confusion Matrix"
   ]
  },
  {
   "cell_type": "code",
   "execution_count": null,
   "id": "287bda3f",
   "metadata": {},
   "outputs": [],
   "source": [
    "metrics.ConfusionMatrixDisplay.from_estimator(xgb_step, X_test, y_test,\n",
    "        cmap='Blues')"
   ]
  },
  {
   "cell_type": "code",
   "execution_count": null,
   "id": "8eef18b8",
   "metadata": {},
   "outputs": [],
   "source": [
    "metrics.ConfusionMatrixDisplay.from_estimator(xgb_step, X_train, y_train,\n",
    "        cmap='Blues')"
   ]
  },
  {
   "cell_type": "code",
   "execution_count": null,
   "id": "5b2fffa8",
   "metadata": {},
   "outputs": [],
   "source": [
    "# Checking for overfitting with default model\n",
    "metrics.ConfusionMatrixDisplay.from_estimator(xgb, X_test, y_test,\n",
    "        cmap='Blues')"
   ]
  },
  {
   "cell_type": "code",
   "execution_count": null,
   "id": "b49f37e6",
   "metadata": {},
   "outputs": [],
   "source": [
    "metrics.ConfusionMatrixDisplay.from_estimator(xgb, X_train, y_train,\n",
    "        cmap='Blues')"
   ]
  },
  {
   "cell_type": "code",
   "execution_count": null,
   "id": "48ba3f24",
   "metadata": {},
   "outputs": [],
   "source": []
  },
  {
   "cell_type": "code",
   "execution_count": null,
   "id": "3cdf90b8",
   "metadata": {},
   "outputs": [],
   "source": []
  }
 ],
 "metadata": {
  "jupytext": {
   "formats": "ipynb,py:light"
  },
  "kernelspec": {
   "display_name": "Python 3 (ipykernel)",
   "language": "python",
   "name": "python3"
  },
  "language_info": {
   "codemirror_mode": {
    "name": "ipython",
    "version": 3
   },
   "file_extension": ".py",
   "mimetype": "text/x-python",
   "name": "python",
   "nbconvert_exporter": "python",
   "pygments_lexer": "ipython3",
   "version": "3.10.12"
  },
  "vscode": {
   "interpreter": {
    "hash": "2a01577db06f90dfcd8a13ffbfc05b48310cbd7ef042271883479819627b09e5"
   }
  }
 },
 "nbformat": 4,
 "nbformat_minor": 5
}
