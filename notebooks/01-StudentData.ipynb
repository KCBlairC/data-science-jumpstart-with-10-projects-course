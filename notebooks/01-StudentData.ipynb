{
 "cells": [
  {
   "cell_type": "markdown",
   "id": "53823041",
   "metadata": {},
   "source": [
    "# Understanding Student Data - Analysing and visualizing data from a CSV file\n",
    "\n",
    "In this module, we will be working on a project that involves analyzing and visualizing data from a CSV file. The specific data set we will be using is the \"Student Performance Data Set\" from https://archive.ics.uci.edu/ml/datasets/Student+Performance.\n",
    "\n",
    "You will learn about:\n",
    "\n",
    "- Loading CSVs\n",
    "- PyArrow\n",
    "- Summary Stats\n",
    "- Correlations\n",
    "- Cross Tabulations\n",
    "- Visualizations\n"
   ]
  },
  {
   "cell_type": "code",
   "execution_count": null,
   "id": "b0e50dee",
   "metadata": {},
   "outputs": [],
   "source": []
  },
  {
   "cell_type": "code",
   "execution_count": null,
   "id": "a1f91fba",
   "metadata": {},
   "outputs": [],
   "source": []
  },
  {
   "cell_type": "code",
   "execution_count": null,
   "id": "d4345e68",
   "metadata": {},
   "outputs": [],
   "source": []
  },
  {
   "cell_type": "code",
   "execution_count": null,
   "id": "d38cc717",
   "metadata": {},
   "outputs": [],
   "source": []
  },
  {
   "cell_type": "code",
   "execution_count": null,
   "id": "91fccdb8",
   "metadata": {},
   "outputs": [],
   "source": []
  },
  {
   "cell_type": "markdown",
   "id": "96ccbfdd-c74a-4748-acf6-929d82a7592c",
   "metadata": {},
   "source": [
    "## Loading from a ZIP File"
   ]
  },
  {
   "cell_type": "code",
   "execution_count": null,
   "id": "56022c5c-6823-40ff-b3cd-1575e42abbf7",
   "metadata": {},
   "outputs": [],
   "source": [
    "import pandas as pd\n",
    "\n",
    "import io\n",
    "from urllib.request import urlopen\n",
    "import zipfile"
   ]
  },
  {
   "cell_type": "code",
   "execution_count": null,
   "id": "54809d6c-1a83-479c-9613-e62df50dff94",
   "metadata": {},
   "outputs": [],
   "source": [
    "url = 'https://archive.ics.uci.edu/ml/machine-learning-databases/00320/student.zip'\n",
    "\n",
    "fin = urlopen(url)\n",
    "with zipfile.ZipFile(io.BytesIO(fin.read())) as zip:\n",
    "  print(zip.namelist())"
   ]
  },
  {
   "cell_type": "code",
   "execution_count": null,
   "id": "d4809b76",
   "metadata": {},
   "outputs": [],
   "source": [
    "!curl --output data/student.zip https://archive.ics.uci.edu/ml/machine-learning-databases/00320/student.zip "
   ]
  },
  {
   "cell_type": "code",
   "execution_count": null,
   "id": "5823fa71",
   "metadata": {
    "scrolled": true
   },
   "outputs": [],
   "source": [
    "path = 'data/student.zip'\n",
    "with zipfile.ZipFile(path) as zip:\n",
    "  print(zip.namelist())"
   ]
  },
  {
   "cell_type": "code",
   "execution_count": null,
   "id": "07d316d2-b3dd-4f38-9186-8541896bbe20",
   "metadata": {
    "scrolled": true
   },
   "outputs": [],
   "source": [
    "with zipfile.ZipFile(path) as zip:\n",
    "  df = pd.read_csv(zip.open('student-mat.csv'), sep=';')"
   ]
  },
  {
   "cell_type": "code",
   "execution_count": null,
   "id": "e877b61d-9f76-47ee-a816-59fa055b136b",
   "metadata": {
    "scrolled": true
   },
   "outputs": [],
   "source": [
    "df"
   ]
  },
  {
   "cell_type": "code",
   "execution_count": null,
   "id": "f6898200",
   "metadata": {},
   "outputs": [],
   "source": [
    "df.memory_usage(deep=True).sum()"
   ]
  },
  {
   "cell_type": "code",
   "execution_count": null,
   "id": "211a7846",
   "metadata": {
    "scrolled": true
   },
   "outputs": [],
   "source": [
    "path = 'data/student.zip'\n",
    "with zipfile.ZipFile(path) as zip:\n",
    "  df = pd.read_csv(zip.open('student-mat.csv'), sep=';',\n",
    "                  dtype_backend='pyarrow', engine='pyarrow')"
   ]
  },
  {
   "cell_type": "code",
   "execution_count": null,
   "id": "25935194",
   "metadata": {},
   "outputs": [],
   "source": [
    "df.memory_usage(deep=True).sum()"
   ]
  },
  {
   "cell_type": "code",
   "execution_count": null,
   "id": "2f023075",
   "metadata": {
    "scrolled": true
   },
   "outputs": [],
   "source": [
    "%%timeit\n",
    "# pandas 2 optimizations\n",
    "# dtype_backend - store with pyarrow\n",
    "# engine - multithreaded w/ pyarrow\n",
    "path = 'data/student.zip'\n",
    "\n",
    "with zipfile.ZipFile(path) as zip:\n",
    "  df = pd.read_csv(zip.open('student-mat.csv'), sep=';',\n",
    "                  dtype_backend='pyarrow', engine='pyarrow')"
   ]
  },
  {
   "cell_type": "code",
   "execution_count": null,
   "id": "6cd30085",
   "metadata": {
    "scrolled": true
   },
   "outputs": [],
   "source": [
    "%%timeit\n",
    "# pandas 2 optimizations\n",
    "# dtype_backend - store with pyarrow\n",
    "# engine - multithreaded w/ pyarrow\n",
    "path = 'data/student.zip'\n",
    "\n",
    "with zipfile.ZipFile(path) as zip:\n",
    "  df = pd.read_csv(zip.open('student-mat.csv'), sep=';')"
   ]
  },
  {
   "cell_type": "code",
   "execution_count": null,
   "id": "dacf8188",
   "metadata": {},
   "outputs": [],
   "source": [
    "pd.read_csv?"
   ]
  },
  {
   "cell_type": "code",
   "execution_count": null,
   "id": "3a362f87",
   "metadata": {},
   "outputs": [],
   "source": []
  },
  {
   "cell_type": "code",
   "execution_count": null,
   "id": "331c0289",
   "metadata": {},
   "outputs": [],
   "source": []
  },
  {
   "cell_type": "code",
   "execution_count": null,
   "id": "ddafa4ce",
   "metadata": {},
   "outputs": [],
   "source": []
  },
  {
   "cell_type": "code",
   "execution_count": null,
   "id": "c452a507",
   "metadata": {},
   "outputs": [],
   "source": []
  },
  {
   "cell_type": "code",
   "execution_count": null,
   "id": "6ce81e46",
   "metadata": {},
   "outputs": [],
   "source": []
  },
  {
   "cell_type": "code",
   "execution_count": null,
   "id": "a2235b87",
   "metadata": {},
   "outputs": [],
   "source": []
  },
  {
   "cell_type": "markdown",
   "id": "cca3c074-3d1f-4247-90cd-2de697d0c67b",
   "metadata": {},
   "source": [
    "## Summary Stats\n",
    "\n",
    "\n",
    "\n",
    "### Attributes for both student-mat.csv (Math course) and student-por.csv (Portuguese language course) datasets:\n",
    "1. school - student's school (binary: 'GP' - Gabriel Pereira or 'MS' - Mousinho da Silveira)\n",
    "2. sex - student's sex (binary: 'F' - female or 'M' - male)\n",
    "3. age - student's age (numeric: from 15 to 22)\n",
    "4. address - student's home address type (binary: 'U' - urban or 'R' - rural)\n",
    "5. famsize - family size (binary: 'LE3' - less or equal to 3 or 'GT3' - greater than 3)\n",
    "6. Pstatus - parent's cohabitation status (binary: 'T' - living together or 'A' - apart)\n",
    "7. Medu - mother's education (numeric: 0 - none, 1 - primary education (4th grade), 2 â€“ 5th to 9th grade, 3 â€“ secondary education or 4 â€“ higher education)\n",
    "8. Fedu - father's education (numeric: 0 - none, 1 - primary education (4th grade), 2 â€“ 5th to 9th grade, 3 â€“ secondary education or 4 â€“ higher education)\n",
    "9. Mjob - mother's job (nominal: 'teacher', 'health' care related, civil 'services' (e.g. administrative or police), 'at_home' or 'other')\n",
    "10. Fjob - father's job (nominal: 'teacher', 'health' care related, civil 'services' (e.g. administrative or police), 'at_home' or 'other')\n",
    "11. reason - reason to choose this school (nominal: close to 'home', school 'reputation', 'course' preference or 'other')\n",
    "12. guardian - student's guardian (nominal: 'mother', 'father' or 'other')\n",
    "13. traveltime - home to school travel time (numeric: 1 - <15 min., 2 - 15 to 30 min., 3 - 30 min. to 1 hour, or 4 - >1 hour)\n",
    "14. studytime - weekly study time (numeric: 1 - <2 hours, 2 - 2 to 5 hours, 3 - 5 to 10 hours, or 4 - >10 hours)\n",
    "15. failures - number of past class failures (numeric: n if 1<=n<3, else 4)\n",
    "16. schoolsup - extra educational support (binary: yes or no)\n",
    "17. famsup - family educational support (binary: yes or no)\n",
    "18. paid - extra paid classes within the course subject (Math or Portuguese) (binary: yes or no)\n",
    "19. activities - extra-curricular activities (binary: yes or no)\n",
    "20. nursery - attended nursery school (binary: yes or no)\n",
    "21. higher - wants to take higher education (binary: yes or no)\n",
    "22. internet - Internet access at home (binary: yes or no)\n",
    "23. romantic - with a romantic relationship (binary: yes or no)\n",
    "24. famrel - quality of family relationships (numeric: from 1 - very bad to 5 - excellent)\n",
    "25. freetime - free time after school (numeric: from 1 - very low to 5 - very high)\n",
    "26. goout - going out with friends (numeric: from 1 - very low to 5 - very high)\n",
    "27. Dalc - workday alcohol consumption (numeric: from 1 - very low to 5 - very high)\n",
    "28. Walc - weekend alcohol consumption (numeric: from 1 - very low to 5 - very high)\n",
    "29. health - current health status (numeric: from 1 - very bad to 5 - very good)\n",
    "30. absences - number of school absences (numeric: from 0 to 93)\n",
    "\n",
    "### these grades are related with the course subject, Math or Portuguese:\n",
    "31. G1 - first period grade (numeric: from 0 to 20)\n",
    "31. G2 - second period grade (numeric: from 0 to 20)\n",
    "32. G3 - final grade (numeric: from 0 to 20, output target)"
   ]
  },
  {
   "cell_type": "code",
   "execution_count": null,
   "id": "d07bda5d-ce23-40f8-8b9c-4ba3ebfb5cd7",
   "metadata": {
    "scrolled": true
   },
   "outputs": [],
   "source": [
    "df.dtypes"
   ]
  },
  {
   "cell_type": "code",
   "execution_count": null,
   "id": "47f05577-db62-446f-b9f6-c75de5654e99",
   "metadata": {},
   "outputs": [],
   "source": [
    "df.describe()"
   ]
  },
  {
   "cell_type": "code",
   "execution_count": null,
   "id": "1c9ad99e",
   "metadata": {
    "scrolled": true
   },
   "outputs": [],
   "source": [
    "df.quantile(.99)"
   ]
  },
  {
   "cell_type": "code",
   "execution_count": null,
   "id": "76ca7fcd-d5d5-4987-a5fa-54a7a7b8e99f",
   "metadata": {
    "scrolled": true
   },
   "outputs": [],
   "source": [
    "df.quantile(.99, numeric_only=True)"
   ]
  },
  {
   "cell_type": "code",
   "execution_count": null,
   "id": "06fadb50-c8b7-4cdc-ae00-1dbf16102317",
   "metadata": {
    "scrolled": true
   },
   "outputs": [],
   "source": [
    "df.quantile([.01,.3,.5, .8, .99], numeric_only=True)"
   ]
  },
  {
   "cell_type": "code",
   "execution_count": null,
   "id": "e75eaf89",
   "metadata": {},
   "outputs": [],
   "source": []
  },
  {
   "cell_type": "code",
   "execution_count": null,
   "id": "a7362130",
   "metadata": {},
   "outputs": [],
   "source": []
  },
  {
   "cell_type": "code",
   "execution_count": null,
   "id": "3d8a0251",
   "metadata": {},
   "outputs": [],
   "source": []
  },
  {
   "cell_type": "code",
   "execution_count": null,
   "id": "bb0cb563",
   "metadata": {},
   "outputs": [],
   "source": []
  },
  {
   "cell_type": "code",
   "execution_count": null,
   "id": "fc54f9c4",
   "metadata": {},
   "outputs": [],
   "source": []
  },
  {
   "cell_type": "markdown",
   "id": "c9496c35",
   "metadata": {},
   "source": [
    "## Correlations"
   ]
  },
  {
   "cell_type": "code",
   "execution_count": null,
   "id": "5ba05132-8cfd-465f-b0d5-3f4026fc3bfc",
   "metadata": {},
   "outputs": [],
   "source": [
    "df.corr(numeric_only=True)"
   ]
  },
  {
   "cell_type": "code",
   "execution_count": null,
   "id": "720219de-7d03-4365-a657-26489145b1fd",
   "metadata": {},
   "outputs": [],
   "source": [
    "(df\n",
    " .corr(numeric_only=True)\n",
    " .style\n",
    " .background_gradient()\n",
    ")"
   ]
  },
  {
   "cell_type": "code",
   "execution_count": null,
   "id": "00e00b9a",
   "metadata": {},
   "outputs": [],
   "source": [
    "(df\n",
    " .corr(numeric_only=True)\n",
    " .style\n",
    " .background_gradient(cmap='RdBu')\n",
    ")"
   ]
  },
  {
   "cell_type": "code",
   "execution_count": null,
   "id": "97f3ee75",
   "metadata": {},
   "outputs": [],
   "source": [
    "(df\n",
    " .corr(numeric_only=True)\n",
    " .style\n",
    " .background_gradient(cmap='RdBu', vmin=-1, vmax=1)\n",
    ")"
   ]
  },
  {
   "cell_type": "code",
   "execution_count": null,
   "id": "04b72780",
   "metadata": {},
   "outputs": [],
   "source": [
    "(df\n",
    " .corr(numeric_only=True, method='spearman')\n",
    " .style\n",
    " .background_gradient(cmap='RdBu', vmin=-1, vmax=1)\n",
    ")"
   ]
  },
  {
   "cell_type": "code",
   "execution_count": null,
   "id": "2dd496e7",
   "metadata": {},
   "outputs": [],
   "source": []
  },
  {
   "cell_type": "code",
   "execution_count": null,
   "id": "4deea133",
   "metadata": {},
   "outputs": [],
   "source": []
  },
  {
   "cell_type": "code",
   "execution_count": null,
   "id": "aaa585cd",
   "metadata": {},
   "outputs": [],
   "source": []
  },
  {
   "cell_type": "markdown",
   "id": "b9728342-8b23-4973-b657-a6e8582e1eef",
   "metadata": {},
   "source": [
    "## Categorical Columns"
   ]
  },
  {
   "cell_type": "code",
   "execution_count": null,
   "id": "c4818fdf-436b-4ea9-b4b5-275a09043b11",
   "metadata": {},
   "outputs": [],
   "source": [
    "# pandas 1.x\n",
    "df.select_dtypes(object)"
   ]
  },
  {
   "cell_type": "code",
   "execution_count": null,
   "id": "16eb2185",
   "metadata": {
    "scrolled": true
   },
   "outputs": [],
   "source": [
    "# pandas 2 w/ pyarrow\n",
    "df.select_dtypes('string')"
   ]
  },
  {
   "cell_type": "code",
   "execution_count": null,
   "id": "03778c93",
   "metadata": {
    "scrolled": true
   },
   "outputs": [],
   "source": [
    "# pandas 2 w/ pyarrow\n",
    "df.select_dtypes('string[pyarrow]')"
   ]
  },
  {
   "cell_type": "code",
   "execution_count": null,
   "id": "326f20ae-73bc-4f1f-8167-0898a30c8cf6",
   "metadata": {},
   "outputs": [],
   "source": [
    "df.famsize.value_counts()"
   ]
  },
  {
   "cell_type": "code",
   "execution_count": null,
   "id": "06eebfb2-e521-4dc0-8f9e-78d4c318aa7f",
   "metadata": {},
   "outputs": [],
   "source": [
    "df.higher.value_counts()"
   ]
  },
  {
   "cell_type": "code",
   "execution_count": null,
   "id": "6a3e4559-db68-48ca-9145-4f86b3a15cc7",
   "metadata": {},
   "outputs": [],
   "source": [
    "pd.crosstab(df.sex, df.higher)"
   ]
  },
  {
   "cell_type": "code",
   "execution_count": null,
   "id": "22f32dc9-0c37-46ce-85ff-b4d14361734b",
   "metadata": {},
   "outputs": [],
   "source": [
    "# normalize across all cells\n",
    "pd.crosstab(df.sex, df.higher, normalize=True)"
   ]
  },
  {
   "cell_type": "code",
   "execution_count": null,
   "id": "5a54d001-d951-4e8a-ba0a-3b8e1375a066",
   "metadata": {},
   "outputs": [],
   "source": [
    "(pd.crosstab(df.sex, df.higher, normalize=True)\n",
    " .style\n",
    " .format('{:.2%}')\n",
    ")"
   ]
  },
  {
   "cell_type": "code",
   "execution_count": null,
   "id": "9125dcec-f4b6-43b1-abff-cca09292b863",
   "metadata": {},
   "outputs": [],
   "source": [
    "(pd.crosstab(df.sex, df.higher, normalize='index')\n",
    " .style\n",
    " .format('{:.2%}')\n",
    ")"
   ]
  },
  {
   "cell_type": "code",
   "execution_count": null,
   "id": "9182141a-bf49-45fc-b14b-b0680642c67c",
   "metadata": {},
   "outputs": [],
   "source": [
    "# normalize down columns\n",
    "(pd.crosstab(df.sex, df.higher, normalize='columns')\n",
    " .style\n",
    " .format('{:.2%}')\n",
    ")"
   ]
  },
  {
   "cell_type": "code",
   "execution_count": null,
   "id": "2ad2b9bb",
   "metadata": {},
   "outputs": [],
   "source": []
  },
  {
   "cell_type": "code",
   "execution_count": null,
   "id": "feb0d6f6",
   "metadata": {},
   "outputs": [],
   "source": []
  },
  {
   "cell_type": "code",
   "execution_count": null,
   "id": "0b3ff501",
   "metadata": {},
   "outputs": [],
   "source": []
  },
  {
   "cell_type": "code",
   "execution_count": null,
   "id": "6570b646",
   "metadata": {},
   "outputs": [],
   "source": []
  },
  {
   "cell_type": "markdown",
   "id": "2efee36c-14e1-47e1-8123-168d7fe9c92e",
   "metadata": {},
   "source": [
    "## Visualizations"
   ]
  },
  {
   "cell_type": "code",
   "execution_count": null,
   "id": "9e9e7cba-2667-4976-8ceb-db28e4641a94",
   "metadata": {},
   "outputs": [],
   "source": [
    "# health - current health status (numeric: from 1 - very bad to 5 - very good)\n",
    "df.health.hist(figsize=(8,3), bins=5)"
   ]
  },
  {
   "cell_type": "code",
   "execution_count": null,
   "id": "9485e313-b9b8-4ea2-8e92-a45c27188658",
   "metadata": {},
   "outputs": [],
   "source": [
    "# G3 - final grade (numeric: from 0 to 20, output target)\n",
    "df.G3.hist(figsize=(8,3), bins=20)"
   ]
  },
  {
   "cell_type": "code",
   "execution_count": null,
   "id": "49378fd8-f885-4893-8422-1ef8dfa8a1b8",
   "metadata": {},
   "outputs": [],
   "source": [
    "df.plot.scatter(x='Medu', y='G3', figsize=(8,3))"
   ]
  },
  {
   "cell_type": "code",
   "execution_count": null,
   "id": "c3cc4683-531c-4ae4-a47d-c2c180551060",
   "metadata": {},
   "outputs": [],
   "source": [
    "# Medu - mother's education (numeric: 0 - none, 1 - primary education (4th grade), \n",
    "# 2 - 5th to 9th grade, 3 - secondary education or 4 - higher education)\n",
    "\n",
    "df.plot.scatter(x='Medu', y='G3', alpha=.1, figsize=(8,3))"
   ]
  },
  {
   "cell_type": "code",
   "execution_count": null,
   "id": "33887fba-ec11-4fcd-9d96-6dd1353023eb",
   "metadata": {},
   "outputs": [],
   "source": [
    "import numpy as np\n",
    "amt = .5\n",
    "(df\n",
    " .assign(edu_jit=df.Medu + np.random.random(len(df))*amt - amt/2)\n",
    " .plot.scatter(x='edu_jit', y='G3', alpha=.3, figsize=(8,3))\n",
    ")"
   ]
  },
  {
   "cell_type": "code",
   "execution_count": null,
   "id": "909a3a60",
   "metadata": {},
   "outputs": [],
   "source": [
    "import numpy as np\n",
    "def jitter(df, col, amt=.5):\n",
    "    return df[col] + np.random.random(len(df))*amt - amt/2\n",
    "\n",
    "(df\n",
    " .assign(edu_jit=lambda df_: jitter(df_, col='Medu'))\n",
    " .plot.scatter(x='edu_jit', y='G3', alpha=.3, figsize=(8,3))\n",
    ")"
   ]
  },
  {
   "cell_type": "code",
   "execution_count": null,
   "id": "9431e034",
   "metadata": {},
   "outputs": [],
   "source": [
    "# add jitter to a helpers.py file"
   ]
  },
  {
   "cell_type": "code",
   "execution_count": null,
   "id": "3e711a18-7e3d-4c25-aea7-b6634d965729",
   "metadata": {},
   "outputs": [],
   "source": [
    "# guardian - student's guardian (nominal: 'mother', 'father' or 'other')\n",
    "df.guardian.value_counts().plot.bar(figsize=(8,3))"
   ]
  },
  {
   "cell_type": "code",
   "execution_count": null,
   "id": "95216375-94b8-4544-8761-432d439a75bb",
   "metadata": {},
   "outputs": [],
   "source": [
    "df.guardian.value_counts().plot.barh(figsize=(8,3))"
   ]
  },
  {
   "cell_type": "code",
   "execution_count": null,
   "id": "de162e24-8385-4933-a95a-f639579f1067",
   "metadata": {},
   "outputs": [],
   "source": []
  },
  {
   "cell_type": "code",
   "execution_count": null,
   "id": "c4501c92-33ba-4dc9-96b4-4490031b341f",
   "metadata": {},
   "outputs": [],
   "source": []
  }
 ],
 "metadata": {
  "kernelspec": {
   "display_name": "Python 3 (ipykernel)",
   "language": "python",
   "name": "python3"
  },
  "language_info": {
   "codemirror_mode": {
    "name": "ipython",
    "version": 3
   },
   "file_extension": ".py",
   "mimetype": "text/x-python",
   "name": "python",
   "nbconvert_exporter": "python",
   "pygments_lexer": "ipython3",
   "version": "3.10.13"
  },
  "vscode": {
   "interpreter": {
    "hash": "2a01577db06f90dfcd8a13ffbfc05b48310cbd7ef042271883479819627b09e5"
   }
  }
 },
 "nbformat": 4,
 "nbformat_minor": 5
}
